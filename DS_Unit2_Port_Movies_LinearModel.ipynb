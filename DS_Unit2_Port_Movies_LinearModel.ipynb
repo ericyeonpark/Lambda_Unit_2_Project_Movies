{
 "cells": [
  {
   "cell_type": "markdown",
   "metadata": {},
   "source": [
    "# Import Libraries"
   ]
  },
  {
   "cell_type": "code",
   "execution_count": 3,
   "metadata": {},
   "outputs": [],
   "source": [
    "# data analysis and wrangling\n",
    "import pandas as pd \n",
    "import numpy as np \n",
    "\n",
    "# visualization\n",
    "import matplotlib.pyplot as plt \n",
    "\n",
    "# encoders\n",
    "from category_encoders import OneHotEncoder, OrdinalEncoder\n",
    "from sklearn.impute import SimpleImputer\n",
    "from sklearn.preprocessing import StandardScaler, FunctionTransformer\n",
    "from sklearn.base import clone \n",
    "\n",
    "#metrics\n",
    "from sklearn.model_selection import cross_val_score #k fold cv\n",
    "from sklearn.metrics import mean_absolute_error, r2_score\n",
    "\n",
    "# model creation\n",
    "from sklearn.model_selection import train_test_split\n",
    "from sklearn.pipeline import make_pipeline \n",
    "from sklearn.model_selection import GridSearchCV, RandomizedSearchCV \n",
    "\n",
    "#feature importance\n",
    "from xgboost import XGBClassifier\n",
    "\n",
    "# Libraries for R^2 visualization\n",
    "from ipywidgets import interactive, IntSlider, FloatSlider\n",
    "from math import floor, ceil\n",
    "from sklearn.base import BaseEstimator, RegressorMixin\n",
    "\n",
    "# Libraries for Linear Model building\n",
    "from sklearn.linear_model import LinearRegression, Ridge, LogisticRegression\n",
    "from sklearn.feature_selection import SelectKBest, f_regression\n"
   ]
  },
  {
   "cell_type": "markdown",
   "metadata": {},
   "source": [
    "# Data Wrangling and Exploration"
   ]
  },
  {
   "cell_type": "code",
   "execution_count": 5,
   "metadata": {},
   "outputs": [],
   "source": [
    "#Create function to import data\n",
    "def wrangle(path):\n",
    "    df = pd.read_csv(path)\n",
    "\n",
    "    #drop null colomns\n",
    "    df.drop('Unnamed: 0', axis = 1, inplace = True) \n",
    "\n",
    "    #drop high null count features\n",
    "    df.drop(columns = ['Rotten Tomatoes', 'Age'], inplace = True)\n",
    "\n",
    "    #drop high cardinality features\n",
    "    high_card_cols = ['Title', 'Directors', 'ID', 'Type']\n",
    "    df.drop(columns = high_card_cols, inplace = True)\n",
    "\n",
    "    #drop_cols = []\n",
    "    return df"
   ]
  },
  {
   "cell_type": "code",
   "execution_count": 6,
   "metadata": {},
   "outputs": [],
   "source": [
    "# Create dataframe using wrangle function\n",
    "df = wrangle('MoviesOnStreamingPlatforms_updated.csv')\n",
    "\n",
    "pd.set_option('display.max_columns', 100)"
   ]
  },
  {
   "cell_type": "code",
   "execution_count": 8,
   "metadata": {},
   "outputs": [],
   "source": [
    "# df.select_dtypes(include='object').describe()"
   ]
  },
  {
   "cell_type": "code",
   "execution_count": 9,
   "metadata": {},
   "outputs": [],
   "source": [
    "# df.select_dtypes('object').nunique()"
   ]
  },
  {
   "cell_type": "code",
   "execution_count": 10,
   "metadata": {},
   "outputs": [
    {
     "output_type": "stream",
     "name": "stdout",
     "text": [
      "<class 'pandas.core.frame.DataFrame'>\nRangeIndex: 16744 entries, 0 to 16743\nData columns (total 10 columns):\n #   Column       Non-Null Count  Dtype  \n---  ------       --------------  -----  \n 0   Year         16744 non-null  int64  \n 1   IMDb         16173 non-null  float64\n 2   Netflix      16744 non-null  int64  \n 3   Hulu         16744 non-null  int64  \n 4   Prime Video  16744 non-null  int64  \n 5   Disney+      16744 non-null  int64  \n 6   Genres       16469 non-null  object \n 7   Country      16309 non-null  object \n 8   Language     16145 non-null  object \n 9   Runtime      16152 non-null  float64\ndtypes: float64(2), int64(5), object(3)\nmemory usage: 1.3+ MB\n"
     ]
    }
   ],
   "source": [
    "df.info()"
   ]
  },
  {
   "cell_type": "code",
   "execution_count": 11,
   "metadata": {},
   "outputs": [
    {
     "output_type": "execute_result",
     "data": {
      "text/plain": [
       "   Year  IMDb  Netflix  Hulu  Prime Video  Disney+  \\\n",
       "0  2010   8.8        1     0            0        0   \n",
       "1  1999   8.7        1     0            0        0   \n",
       "2  2018   8.5        1     0            0        0   \n",
       "3  1985   8.5        1     0            0        0   \n",
       "4  1966   8.8        1     0            1        0   \n",
       "\n",
       "                             Genres                       Country  \\\n",
       "0  Action,Adventure,Sci-Fi,Thriller  United States,United Kingdom   \n",
       "1                     Action,Sci-Fi                 United States   \n",
       "2           Action,Adventure,Sci-Fi                 United States   \n",
       "3           Adventure,Comedy,Sci-Fi                 United States   \n",
       "4                           Western      Italy,Spain,West Germany   \n",
       "\n",
       "                  Language  Runtime  \n",
       "0  English,Japanese,French    148.0  \n",
       "1                  English    136.0  \n",
       "2                  English    149.0  \n",
       "3                  English    116.0  \n",
       "4                  Italian    161.0  "
      ],
      "text/html": "<div>\n<style scoped>\n    .dataframe tbody tr th:only-of-type {\n        vertical-align: middle;\n    }\n\n    .dataframe tbody tr th {\n        vertical-align: top;\n    }\n\n    .dataframe thead th {\n        text-align: right;\n    }\n</style>\n<table border=\"1\" class=\"dataframe\">\n  <thead>\n    <tr style=\"text-align: right;\">\n      <th></th>\n      <th>Year</th>\n      <th>IMDb</th>\n      <th>Netflix</th>\n      <th>Hulu</th>\n      <th>Prime Video</th>\n      <th>Disney+</th>\n      <th>Genres</th>\n      <th>Country</th>\n      <th>Language</th>\n      <th>Runtime</th>\n    </tr>\n  </thead>\n  <tbody>\n    <tr>\n      <th>0</th>\n      <td>2010</td>\n      <td>8.8</td>\n      <td>1</td>\n      <td>0</td>\n      <td>0</td>\n      <td>0</td>\n      <td>Action,Adventure,Sci-Fi,Thriller</td>\n      <td>United States,United Kingdom</td>\n      <td>English,Japanese,French</td>\n      <td>148.0</td>\n    </tr>\n    <tr>\n      <th>1</th>\n      <td>1999</td>\n      <td>8.7</td>\n      <td>1</td>\n      <td>0</td>\n      <td>0</td>\n      <td>0</td>\n      <td>Action,Sci-Fi</td>\n      <td>United States</td>\n      <td>English</td>\n      <td>136.0</td>\n    </tr>\n    <tr>\n      <th>2</th>\n      <td>2018</td>\n      <td>8.5</td>\n      <td>1</td>\n      <td>0</td>\n      <td>0</td>\n      <td>0</td>\n      <td>Action,Adventure,Sci-Fi</td>\n      <td>United States</td>\n      <td>English</td>\n      <td>149.0</td>\n    </tr>\n    <tr>\n      <th>3</th>\n      <td>1985</td>\n      <td>8.5</td>\n      <td>1</td>\n      <td>0</td>\n      <td>0</td>\n      <td>0</td>\n      <td>Adventure,Comedy,Sci-Fi</td>\n      <td>United States</td>\n      <td>English</td>\n      <td>116.0</td>\n    </tr>\n    <tr>\n      <th>4</th>\n      <td>1966</td>\n      <td>8.8</td>\n      <td>1</td>\n      <td>0</td>\n      <td>1</td>\n      <td>0</td>\n      <td>Western</td>\n      <td>Italy,Spain,West Germany</td>\n      <td>Italian</td>\n      <td>161.0</td>\n    </tr>\n  </tbody>\n</table>\n</div>"
     },
     "metadata": {},
     "execution_count": 11
    }
   ],
   "source": [
    "df.head()"
   ]
  },
  {
   "cell_type": "code",
   "execution_count": 12,
   "metadata": {},
   "outputs": [
    {
     "output_type": "execute_result",
     "data": {
      "text/plain": [
       "0    13184\n",
       "1     3560\n",
       "Name: Netflix, dtype: int64"
      ]
     },
     "metadata": {},
     "execution_count": 12
    }
   ],
   "source": [
    "df['Netflix'].value_counts()"
   ]
  },
  {
   "cell_type": "markdown",
   "metadata": {},
   "source": [
    "# Categorical Observation Clean-up"
   ]
  },
  {
   "cell_type": "markdown",
   "metadata": {},
   "source": [
    "- Features 'Language', 'Genre', 'Country' have some observations with multiple values (e.g. Country could contain observation of 'Mexico,South Korea,Colombia')\n",
    "- Goal is to convert observation to binary values of each country (e.g. 'Mexico,South Korea,Colombia' would add 1 to a Mexico feature, South Korea feature, Columbia feature)"
   ]
  },
  {
   "cell_type": "markdown",
   "metadata": {},
   "source": [
    "### Language Expanding"
   ]
  },
  {
   "cell_type": "code",
   "execution_count": 13,
   "metadata": {},
   "outputs": [],
   "source": [
    "def col_lang(df, df2, df_orig):\n",
    "    #use get_dummies to convert values into column names\n",
    "    df_dum = pd.get_dummies(df)\n",
    "\n",
    "    #drop any columns that contain a comma since that contains mult languages\n",
    "    for col in df_dum.columns:\n",
    "        if ',' in col:\n",
    "            df_dum.drop(columns = col, inplace = True)\n",
    "\n",
    "    #remove Language_ copy from column name\n",
    "    df_dum.columns = df_dum.columns.str.replace('Language_', '')\n",
    "    \n",
    "    #concat the Language feature from the original df to this df\n",
    "    df_final = pd.concat([df2, df_dum], axis=1)\n",
    "    \n",
    "    # fill 'Language' col with na values with string copy so it can be iterable\n",
    "    df_final['Language'] = df_final['Language'].fillna('None Provided')\n",
    "\n",
    "    # iterate over column names to fill values with 1 and 0 based on 'Language'\n",
    "    for col in df_final.columns[1:]:\n",
    "        for i, value in enumerate(df_final['Language'].values):\n",
    "            if col in value:\n",
    "                df_final[col].values[i] = 1\n",
    "            else: \n",
    "                df_final[col].values[i] = 0\n",
    "\n",
    "    # drop duplicate values in df_lang so merge doesn't become huge\n",
    "    df_final.drop_duplicates(inplace = True)\n",
    "\n",
    "    # merge df_final with original  \n",
    "    df_orig = df_orig.merge(df_final, how = 'left', on = 'Language')\n",
    "    df_orig.drop(columns = 'Language', inplace = True)\n",
    "\n",
    "    return df_orig"
   ]
  },
  {
   "cell_type": "markdown",
   "metadata": {},
   "source": [
    "### Country Expanding"
   ]
  },
  {
   "cell_type": "code",
   "execution_count": 14,
   "metadata": {},
   "outputs": [],
   "source": [
    "def col_country(df, df2, df_orig):\n",
    "    #use get_dummies to convert values into column names\n",
    "    df_dum = pd.get_dummies(df)\n",
    "\n",
    "    #drop any columns that contain a comma since that contains mult coutries\n",
    "    for col in df_dum.columns:\n",
    "        if ',' in col:\n",
    "            df_dum.drop(columns = col, inplace = True)\n",
    "\n",
    "    #remove Country_ copy from column name\n",
    "    df_dum.columns = df_dum.columns.str.replace('Country_', '')\n",
    "    \n",
    "    #concat the Country feature from the original df to this df\n",
    "    df_final = pd.concat([df2, df_dum], axis=1)\n",
    "    \n",
    "    # fill 'Country' col with na values with string copy so it can be iterable\n",
    "    df_final['Country'] = df_final['Country'].fillna('None Provided')\n",
    "\n",
    "    # iterate over column names to fill values with 1 and 0 based on 'Country'\n",
    "    for col in df_final.columns[1:]:\n",
    "        for i, value in enumerate(df_final['Country'].values):\n",
    "            if col in value:\n",
    "                df_final[col].values[i] = 1\n",
    "            else: \n",
    "                df_final[col].values[i] = 0\n",
    "\n",
    "    # drop duplicate values in df_final so merge doesn't become huge\n",
    "    df_final.drop_duplicates(inplace = True)\n",
    "\n",
    "    # merge df_final with original  \n",
    "    df_orig = df_orig.merge(df_final, how = 'left', on = 'Country')\n",
    "    df_orig.drop(columns = 'Country', inplace = True)\n",
    "\n",
    "    return df_orig"
   ]
  },
  {
   "cell_type": "markdown",
   "metadata": {},
   "source": [
    "### Genres Expanding"
   ]
  },
  {
   "cell_type": "code",
   "execution_count": 15,
   "metadata": {},
   "outputs": [],
   "source": [
    "def col_genres(df, df2, df_orig):\n",
    "    #use get_dummies to convert values into column names\n",
    "    df_dum = pd.get_dummies(df)\n",
    "\n",
    "    #drop any columns that contain a comma since that contains mult genres\n",
    "    for col in df_dum.columns:\n",
    "        if ',' in col:\n",
    "            df_dum.drop(columns = col, inplace = True)\n",
    "\n",
    "    #remove Genres_ copy from column name\n",
    "    df_dum.columns = df_dum.columns.str.replace('Genres_', '')\n",
    "    \n",
    "    #concat the Genres feature from the original df to this df\n",
    "    df_final = pd.concat([df2, df_dum], axis=1)\n",
    "    \n",
    "    # fill 'Genres' col with na values with string copy so it can be iterable\n",
    "    df_final['Genres'] = df_final['Genres'].fillna('None Provided')\n",
    "\n",
    "    # iterate over column names to fill values with 1 and 0 based on 'Genres'\n",
    "    for col in df_final.columns[1:]:\n",
    "        for i, value in enumerate(df_final['Genres'].values):\n",
    "            if col in value:\n",
    "                df_final[col].values[i] = 1\n",
    "            else: \n",
    "                df_final[col].values[i] = 0\n",
    "\n",
    "    # drop duplicate values in df_final so merge doesn't become huge\n",
    "    df_final.drop_duplicates(inplace = True)\n",
    "\n",
    "    # merge df_final with original  \n",
    "    df_orig = df_orig.merge(df_final, how = 'left', on = 'Genres')\n",
    "    df_orig.drop(columns = 'Genres', inplace = True)\n",
    "\n",
    "    return df_orig"
   ]
  },
  {
   "cell_type": "code",
   "execution_count": 16,
   "metadata": {},
   "outputs": [],
   "source": [
    "#Expand language, country, and genres column in original dataframe for modeling\n",
    "df = col_lang(df[['Language']], df[['Language']], df)\n",
    "df = col_country(df[['Country']], df[['Country']], df)\n",
    "df = col_genres(df[['Genres']], df[['Genres']], df)"
   ]
  },
  {
   "cell_type": "code",
   "execution_count": 17,
   "metadata": {},
   "outputs": [
    {
     "output_type": "execute_result",
     "data": {
      "text/plain": [
       "   Year  IMDb  Netflix  Hulu  Prime Video  Disney+  Runtime  Afrikaans  Akan  \\\n",
       "0  2010   8.8        1     0            0        0    148.0        0.0   0.0   \n",
       "1  1999   8.7        1     0            0        0    136.0        0.0   0.0   \n",
       "2  2018   8.5        1     0            0        0    149.0        0.0   0.0   \n",
       "3  1985   8.5        1     0            0        0    116.0        0.0   0.0   \n",
       "4  1966   8.8        1     0            1        0    161.0        0.0   0.0   \n",
       "\n",
       "   Albanian  Arabic  Assamese  Azerbaijani  Basque  Bengali  Bhojpuri  \\\n",
       "0       0.0     0.0       0.0          0.0     0.0      0.0       0.0   \n",
       "1       0.0     0.0       0.0          0.0     0.0      0.0       0.0   \n",
       "2       0.0     0.0       0.0          0.0     0.0      0.0       0.0   \n",
       "3       0.0     0.0       0.0          0.0     0.0      0.0       0.0   \n",
       "4       0.0     0.0       0.0          0.0     0.0      0.0       0.0   \n",
       "\n",
       "   Bosnian  Brazilian Sign Language  Bulgarian  Cantonese  Catalan  Chinese  \\\n",
       "0      0.0                      0.0        0.0        0.0      0.0      0.0   \n",
       "1      0.0                      0.0        0.0        0.0      0.0      0.0   \n",
       "2      0.0                      0.0        0.0        0.0      0.0      0.0   \n",
       "3      0.0                      0.0        0.0        0.0      0.0      0.0   \n",
       "4      0.0                      0.0        0.0        0.0      0.0      0.0   \n",
       "\n",
       "   Croatian  Czech  Danish  Dari  Dutch  English  Estonian  Filipino  Finnish  \\\n",
       "0       0.0    0.0     0.0   0.0    0.0      1.0       0.0       0.0      0.0   \n",
       "1       0.0    0.0     0.0   0.0    0.0      1.0       0.0       0.0      0.0   \n",
       "2       0.0    0.0     0.0   0.0    0.0      1.0       0.0       0.0      0.0   \n",
       "3       0.0    0.0     0.0   0.0    0.0      1.0       0.0       0.0      0.0   \n",
       "4       0.0    0.0     0.0   0.0    0.0      0.0       0.0       0.0      0.0   \n",
       "\n",
       "   French  Georgian  German  Greek  Gujarati  Hebrew  Hindi  Hungarian  \\\n",
       "0     1.0       0.0     0.0    0.0       0.0     0.0    0.0        0.0   \n",
       "1     0.0       0.0     0.0    0.0       0.0     0.0    0.0        0.0   \n",
       "2     0.0       0.0     0.0    0.0       0.0     0.0    0.0        0.0   \n",
       "3     0.0       0.0     0.0    0.0       0.0     0.0    0.0        0.0   \n",
       "4     0.0       0.0     0.0    0.0       0.0     0.0    0.0        0.0   \n",
       "\n",
       "   Icelandic  Indonesian  Italian  Japanese  Kannada  Kinyarwanda  Kirghiz  \\\n",
       "0        0.0         0.0      0.0       1.0      0.0          0.0      0.0   \n",
       "1        0.0         0.0      0.0       0.0      0.0          0.0      0.0   \n",
       "2        0.0         0.0      0.0       0.0      0.0          0.0      0.0   \n",
       "3        0.0         0.0      0.0       0.0      0.0          0.0      0.0   \n",
       "4        0.0         0.0      1.0       0.0      0.0          0.0      0.0   \n",
       "\n",
       "   Korean  Latin  Latvian  Macedonian  ...  Russia  Saudi Arabia  Serbia  \\\n",
       "0     0.0    0.0      0.0         0.0  ...     0.0           0.0     0.0   \n",
       "1     0.0    0.0      0.0         0.0  ...     0.0           0.0     0.0   \n",
       "2     0.0    0.0      0.0         0.0  ...     0.0           0.0     0.0   \n",
       "3     0.0    0.0      0.0         0.0  ...     0.0           0.0     0.0   \n",
       "4     0.0    0.0      0.0         0.0  ...     0.0           0.0     0.0   \n",
       "\n",
       "   Singapore  South Africa  South Korea  Soviet Union  Spain  Sri Lanka  \\\n",
       "0        0.0           0.0          0.0           0.0    0.0        0.0   \n",
       "1        0.0           0.0          0.0           0.0    0.0        0.0   \n",
       "2        0.0           0.0          0.0           0.0    0.0        0.0   \n",
       "3        0.0           0.0          0.0           0.0    0.0        0.0   \n",
       "4        0.0           0.0          0.0           0.0    1.0        0.0   \n",
       "\n",
       "   Sweden  Switzerland  Taiwan  Thailand  Trinidad and Tobago  Turkey  \\\n",
       "0     0.0          0.0     0.0       0.0                  0.0     0.0   \n",
       "1     0.0          0.0     0.0       0.0                  0.0     0.0   \n",
       "2     0.0          0.0     0.0       0.0                  0.0     0.0   \n",
       "3     0.0          0.0     0.0       0.0                  0.0     0.0   \n",
       "4     0.0          0.0     0.0       0.0                  0.0     0.0   \n",
       "\n",
       "   U.S. Virgin Islands  Ukraine  United Arab Emirates  United Kingdom  \\\n",
       "0                  0.0      0.0                   0.0             1.0   \n",
       "1                  0.0      0.0                   0.0             0.0   \n",
       "2                  0.0      0.0                   0.0             0.0   \n",
       "3                  0.0      0.0                   0.0             0.0   \n",
       "4                  0.0      0.0                   0.0             0.0   \n",
       "\n",
       "   United States  Uruguay  Venezuela  West Germany  Yugoslavia  Action  \\\n",
       "0            1.0      0.0        0.0           0.0         0.0     1.0   \n",
       "1            1.0      0.0        0.0           0.0         0.0     1.0   \n",
       "2            1.0      0.0        0.0           0.0         0.0     1.0   \n",
       "3            1.0      0.0        0.0           0.0         0.0     0.0   \n",
       "4            0.0      0.0        0.0           1.0         0.0     0.0   \n",
       "\n",
       "   Adventure  Animation  Biography  Comedy  Crime  Documentary  Drama  Family  \\\n",
       "0        1.0        0.0        0.0     0.0    0.0          0.0    0.0     0.0   \n",
       "1        0.0        0.0        0.0     0.0    0.0          0.0    0.0     0.0   \n",
       "2        1.0        0.0        0.0     0.0    0.0          0.0    0.0     0.0   \n",
       "3        1.0        0.0        0.0     1.0    0.0          0.0    0.0     0.0   \n",
       "4        0.0        0.0        0.0     0.0    0.0          0.0    0.0     0.0   \n",
       "\n",
       "   Fantasy  Game-Show  History  Horror  Music  Musical  Mystery  News  \\\n",
       "0      0.0        0.0      0.0     0.0    0.0      0.0      0.0   0.0   \n",
       "1      0.0        0.0      0.0     0.0    0.0      0.0      0.0   0.0   \n",
       "2      0.0        0.0      0.0     0.0    0.0      0.0      0.0   0.0   \n",
       "3      0.0        0.0      0.0     0.0    0.0      0.0      0.0   0.0   \n",
       "4      0.0        0.0      0.0     0.0    0.0      0.0      0.0   0.0   \n",
       "\n",
       "   Reality-TV  Romance  Sci-Fi  Short  Sport  Talk-Show  Thriller  War  \\\n",
       "0         0.0      0.0     1.0    0.0    0.0        0.0       1.0  0.0   \n",
       "1         0.0      0.0     1.0    0.0    0.0        0.0       0.0  0.0   \n",
       "2         0.0      0.0     1.0    0.0    0.0        0.0       0.0  0.0   \n",
       "3         0.0      0.0     1.0    0.0    0.0        0.0       0.0  0.0   \n",
       "4         0.0      0.0     0.0    0.0    0.0        0.0       0.0  0.0   \n",
       "\n",
       "   Western  \n",
       "0      0.0  \n",
       "1      0.0  \n",
       "2      0.0  \n",
       "3      0.0  \n",
       "4      1.0  \n",
       "\n",
       "[5 rows x 204 columns]"
      ],
      "text/html": "<div>\n<style scoped>\n    .dataframe tbody tr th:only-of-type {\n        vertical-align: middle;\n    }\n\n    .dataframe tbody tr th {\n        vertical-align: top;\n    }\n\n    .dataframe thead th {\n        text-align: right;\n    }\n</style>\n<table border=\"1\" class=\"dataframe\">\n  <thead>\n    <tr style=\"text-align: right;\">\n      <th></th>\n      <th>Year</th>\n      <th>IMDb</th>\n      <th>Netflix</th>\n      <th>Hulu</th>\n      <th>Prime Video</th>\n      <th>Disney+</th>\n      <th>Runtime</th>\n      <th>Afrikaans</th>\n      <th>Akan</th>\n      <th>Albanian</th>\n      <th>Arabic</th>\n      <th>Assamese</th>\n      <th>Azerbaijani</th>\n      <th>Basque</th>\n      <th>Bengali</th>\n      <th>Bhojpuri</th>\n      <th>Bosnian</th>\n      <th>Brazilian Sign Language</th>\n      <th>Bulgarian</th>\n      <th>Cantonese</th>\n      <th>Catalan</th>\n      <th>Chinese</th>\n      <th>Croatian</th>\n      <th>Czech</th>\n      <th>Danish</th>\n      <th>Dari</th>\n      <th>Dutch</th>\n      <th>English</th>\n      <th>Estonian</th>\n      <th>Filipino</th>\n      <th>Finnish</th>\n      <th>French</th>\n      <th>Georgian</th>\n      <th>German</th>\n      <th>Greek</th>\n      <th>Gujarati</th>\n      <th>Hebrew</th>\n      <th>Hindi</th>\n      <th>Hungarian</th>\n      <th>Icelandic</th>\n      <th>Indonesian</th>\n      <th>Italian</th>\n      <th>Japanese</th>\n      <th>Kannada</th>\n      <th>Kinyarwanda</th>\n      <th>Kirghiz</th>\n      <th>Korean</th>\n      <th>Latin</th>\n      <th>Latvian</th>\n      <th>Macedonian</th>\n      <th>...</th>\n      <th>Russia</th>\n      <th>Saudi Arabia</th>\n      <th>Serbia</th>\n      <th>Singapore</th>\n      <th>South Africa</th>\n      <th>South Korea</th>\n      <th>Soviet Union</th>\n      <th>Spain</th>\n      <th>Sri Lanka</th>\n      <th>Sweden</th>\n      <th>Switzerland</th>\n      <th>Taiwan</th>\n      <th>Thailand</th>\n      <th>Trinidad and Tobago</th>\n      <th>Turkey</th>\n      <th>U.S. Virgin Islands</th>\n      <th>Ukraine</th>\n      <th>United Arab Emirates</th>\n      <th>United Kingdom</th>\n      <th>United States</th>\n      <th>Uruguay</th>\n      <th>Venezuela</th>\n      <th>West Germany</th>\n      <th>Yugoslavia</th>\n      <th>Action</th>\n      <th>Adventure</th>\n      <th>Animation</th>\n      <th>Biography</th>\n      <th>Comedy</th>\n      <th>Crime</th>\n      <th>Documentary</th>\n      <th>Drama</th>\n      <th>Family</th>\n      <th>Fantasy</th>\n      <th>Game-Show</th>\n      <th>History</th>\n      <th>Horror</th>\n      <th>Music</th>\n      <th>Musical</th>\n      <th>Mystery</th>\n      <th>News</th>\n      <th>Reality-TV</th>\n      <th>Romance</th>\n      <th>Sci-Fi</th>\n      <th>Short</th>\n      <th>Sport</th>\n      <th>Talk-Show</th>\n      <th>Thriller</th>\n      <th>War</th>\n      <th>Western</th>\n    </tr>\n  </thead>\n  <tbody>\n    <tr>\n      <th>0</th>\n      <td>2010</td>\n      <td>8.8</td>\n      <td>1</td>\n      <td>0</td>\n      <td>0</td>\n      <td>0</td>\n      <td>148.0</td>\n      <td>0.0</td>\n      <td>0.0</td>\n      <td>0.0</td>\n      <td>0.0</td>\n      <td>0.0</td>\n      <td>0.0</td>\n      <td>0.0</td>\n      <td>0.0</td>\n      <td>0.0</td>\n      <td>0.0</td>\n      <td>0.0</td>\n      <td>0.0</td>\n      <td>0.0</td>\n      <td>0.0</td>\n      <td>0.0</td>\n      <td>0.0</td>\n      <td>0.0</td>\n      <td>0.0</td>\n      <td>0.0</td>\n      <td>0.0</td>\n      <td>1.0</td>\n      <td>0.0</td>\n      <td>0.0</td>\n      <td>0.0</td>\n      <td>1.0</td>\n      <td>0.0</td>\n      <td>0.0</td>\n      <td>0.0</td>\n      <td>0.0</td>\n      <td>0.0</td>\n      <td>0.0</td>\n      <td>0.0</td>\n      <td>0.0</td>\n      <td>0.0</td>\n      <td>0.0</td>\n      <td>1.0</td>\n      <td>0.0</td>\n      <td>0.0</td>\n      <td>0.0</td>\n      <td>0.0</td>\n      <td>0.0</td>\n      <td>0.0</td>\n      <td>0.0</td>\n      <td>...</td>\n      <td>0.0</td>\n      <td>0.0</td>\n      <td>0.0</td>\n      <td>0.0</td>\n      <td>0.0</td>\n      <td>0.0</td>\n      <td>0.0</td>\n      <td>0.0</td>\n      <td>0.0</td>\n      <td>0.0</td>\n      <td>0.0</td>\n      <td>0.0</td>\n      <td>0.0</td>\n      <td>0.0</td>\n      <td>0.0</td>\n      <td>0.0</td>\n      <td>0.0</td>\n      <td>0.0</td>\n      <td>1.0</td>\n      <td>1.0</td>\n      <td>0.0</td>\n      <td>0.0</td>\n      <td>0.0</td>\n      <td>0.0</td>\n      <td>1.0</td>\n      <td>1.0</td>\n      <td>0.0</td>\n      <td>0.0</td>\n      <td>0.0</td>\n      <td>0.0</td>\n      <td>0.0</td>\n      <td>0.0</td>\n      <td>0.0</td>\n      <td>0.0</td>\n      <td>0.0</td>\n      <td>0.0</td>\n      <td>0.0</td>\n      <td>0.0</td>\n      <td>0.0</td>\n      <td>0.0</td>\n      <td>0.0</td>\n      <td>0.0</td>\n      <td>0.0</td>\n      <td>1.0</td>\n      <td>0.0</td>\n      <td>0.0</td>\n      <td>0.0</td>\n      <td>1.0</td>\n      <td>0.0</td>\n      <td>0.0</td>\n    </tr>\n    <tr>\n      <th>1</th>\n      <td>1999</td>\n      <td>8.7</td>\n      <td>1</td>\n      <td>0</td>\n      <td>0</td>\n      <td>0</td>\n      <td>136.0</td>\n      <td>0.0</td>\n      <td>0.0</td>\n      <td>0.0</td>\n      <td>0.0</td>\n      <td>0.0</td>\n      <td>0.0</td>\n      <td>0.0</td>\n      <td>0.0</td>\n      <td>0.0</td>\n      <td>0.0</td>\n      <td>0.0</td>\n      <td>0.0</td>\n      <td>0.0</td>\n      <td>0.0</td>\n      <td>0.0</td>\n      <td>0.0</td>\n      <td>0.0</td>\n      <td>0.0</td>\n      <td>0.0</td>\n      <td>0.0</td>\n      <td>1.0</td>\n      <td>0.0</td>\n      <td>0.0</td>\n      <td>0.0</td>\n      <td>0.0</td>\n      <td>0.0</td>\n      <td>0.0</td>\n      <td>0.0</td>\n      <td>0.0</td>\n      <td>0.0</td>\n      <td>0.0</td>\n      <td>0.0</td>\n      <td>0.0</td>\n      <td>0.0</td>\n      <td>0.0</td>\n      <td>0.0</td>\n      <td>0.0</td>\n      <td>0.0</td>\n      <td>0.0</td>\n      <td>0.0</td>\n      <td>0.0</td>\n      <td>0.0</td>\n      <td>0.0</td>\n      <td>...</td>\n      <td>0.0</td>\n      <td>0.0</td>\n      <td>0.0</td>\n      <td>0.0</td>\n      <td>0.0</td>\n      <td>0.0</td>\n      <td>0.0</td>\n      <td>0.0</td>\n      <td>0.0</td>\n      <td>0.0</td>\n      <td>0.0</td>\n      <td>0.0</td>\n      <td>0.0</td>\n      <td>0.0</td>\n      <td>0.0</td>\n      <td>0.0</td>\n      <td>0.0</td>\n      <td>0.0</td>\n      <td>0.0</td>\n      <td>1.0</td>\n      <td>0.0</td>\n      <td>0.0</td>\n      <td>0.0</td>\n      <td>0.0</td>\n      <td>1.0</td>\n      <td>0.0</td>\n      <td>0.0</td>\n      <td>0.0</td>\n      <td>0.0</td>\n      <td>0.0</td>\n      <td>0.0</td>\n      <td>0.0</td>\n      <td>0.0</td>\n      <td>0.0</td>\n      <td>0.0</td>\n      <td>0.0</td>\n      <td>0.0</td>\n      <td>0.0</td>\n      <td>0.0</td>\n      <td>0.0</td>\n      <td>0.0</td>\n      <td>0.0</td>\n      <td>0.0</td>\n      <td>1.0</td>\n      <td>0.0</td>\n      <td>0.0</td>\n      <td>0.0</td>\n      <td>0.0</td>\n      <td>0.0</td>\n      <td>0.0</td>\n    </tr>\n    <tr>\n      <th>2</th>\n      <td>2018</td>\n      <td>8.5</td>\n      <td>1</td>\n      <td>0</td>\n      <td>0</td>\n      <td>0</td>\n      <td>149.0</td>\n      <td>0.0</td>\n      <td>0.0</td>\n      <td>0.0</td>\n      <td>0.0</td>\n      <td>0.0</td>\n      <td>0.0</td>\n      <td>0.0</td>\n      <td>0.0</td>\n      <td>0.0</td>\n      <td>0.0</td>\n      <td>0.0</td>\n      <td>0.0</td>\n      <td>0.0</td>\n      <td>0.0</td>\n      <td>0.0</td>\n      <td>0.0</td>\n      <td>0.0</td>\n      <td>0.0</td>\n      <td>0.0</td>\n      <td>0.0</td>\n      <td>1.0</td>\n      <td>0.0</td>\n      <td>0.0</td>\n      <td>0.0</td>\n      <td>0.0</td>\n      <td>0.0</td>\n      <td>0.0</td>\n      <td>0.0</td>\n      <td>0.0</td>\n      <td>0.0</td>\n      <td>0.0</td>\n      <td>0.0</td>\n      <td>0.0</td>\n      <td>0.0</td>\n      <td>0.0</td>\n      <td>0.0</td>\n      <td>0.0</td>\n      <td>0.0</td>\n      <td>0.0</td>\n      <td>0.0</td>\n      <td>0.0</td>\n      <td>0.0</td>\n      <td>0.0</td>\n      <td>...</td>\n      <td>0.0</td>\n      <td>0.0</td>\n      <td>0.0</td>\n      <td>0.0</td>\n      <td>0.0</td>\n      <td>0.0</td>\n      <td>0.0</td>\n      <td>0.0</td>\n      <td>0.0</td>\n      <td>0.0</td>\n      <td>0.0</td>\n      <td>0.0</td>\n      <td>0.0</td>\n      <td>0.0</td>\n      <td>0.0</td>\n      <td>0.0</td>\n      <td>0.0</td>\n      <td>0.0</td>\n      <td>0.0</td>\n      <td>1.0</td>\n      <td>0.0</td>\n      <td>0.0</td>\n      <td>0.0</td>\n      <td>0.0</td>\n      <td>1.0</td>\n      <td>1.0</td>\n      <td>0.0</td>\n      <td>0.0</td>\n      <td>0.0</td>\n      <td>0.0</td>\n      <td>0.0</td>\n      <td>0.0</td>\n      <td>0.0</td>\n      <td>0.0</td>\n      <td>0.0</td>\n      <td>0.0</td>\n      <td>0.0</td>\n      <td>0.0</td>\n      <td>0.0</td>\n      <td>0.0</td>\n      <td>0.0</td>\n      <td>0.0</td>\n      <td>0.0</td>\n      <td>1.0</td>\n      <td>0.0</td>\n      <td>0.0</td>\n      <td>0.0</td>\n      <td>0.0</td>\n      <td>0.0</td>\n      <td>0.0</td>\n    </tr>\n    <tr>\n      <th>3</th>\n      <td>1985</td>\n      <td>8.5</td>\n      <td>1</td>\n      <td>0</td>\n      <td>0</td>\n      <td>0</td>\n      <td>116.0</td>\n      <td>0.0</td>\n      <td>0.0</td>\n      <td>0.0</td>\n      <td>0.0</td>\n      <td>0.0</td>\n      <td>0.0</td>\n      <td>0.0</td>\n      <td>0.0</td>\n      <td>0.0</td>\n      <td>0.0</td>\n      <td>0.0</td>\n      <td>0.0</td>\n      <td>0.0</td>\n      <td>0.0</td>\n      <td>0.0</td>\n      <td>0.0</td>\n      <td>0.0</td>\n      <td>0.0</td>\n      <td>0.0</td>\n      <td>0.0</td>\n      <td>1.0</td>\n      <td>0.0</td>\n      <td>0.0</td>\n      <td>0.0</td>\n      <td>0.0</td>\n      <td>0.0</td>\n      <td>0.0</td>\n      <td>0.0</td>\n      <td>0.0</td>\n      <td>0.0</td>\n      <td>0.0</td>\n      <td>0.0</td>\n      <td>0.0</td>\n      <td>0.0</td>\n      <td>0.0</td>\n      <td>0.0</td>\n      <td>0.0</td>\n      <td>0.0</td>\n      <td>0.0</td>\n      <td>0.0</td>\n      <td>0.0</td>\n      <td>0.0</td>\n      <td>0.0</td>\n      <td>...</td>\n      <td>0.0</td>\n      <td>0.0</td>\n      <td>0.0</td>\n      <td>0.0</td>\n      <td>0.0</td>\n      <td>0.0</td>\n      <td>0.0</td>\n      <td>0.0</td>\n      <td>0.0</td>\n      <td>0.0</td>\n      <td>0.0</td>\n      <td>0.0</td>\n      <td>0.0</td>\n      <td>0.0</td>\n      <td>0.0</td>\n      <td>0.0</td>\n      <td>0.0</td>\n      <td>0.0</td>\n      <td>0.0</td>\n      <td>1.0</td>\n      <td>0.0</td>\n      <td>0.0</td>\n      <td>0.0</td>\n      <td>0.0</td>\n      <td>0.0</td>\n      <td>1.0</td>\n      <td>0.0</td>\n      <td>0.0</td>\n      <td>1.0</td>\n      <td>0.0</td>\n      <td>0.0</td>\n      <td>0.0</td>\n      <td>0.0</td>\n      <td>0.0</td>\n      <td>0.0</td>\n      <td>0.0</td>\n      <td>0.0</td>\n      <td>0.0</td>\n      <td>0.0</td>\n      <td>0.0</td>\n      <td>0.0</td>\n      <td>0.0</td>\n      <td>0.0</td>\n      <td>1.0</td>\n      <td>0.0</td>\n      <td>0.0</td>\n      <td>0.0</td>\n      <td>0.0</td>\n      <td>0.0</td>\n      <td>0.0</td>\n    </tr>\n    <tr>\n      <th>4</th>\n      <td>1966</td>\n      <td>8.8</td>\n      <td>1</td>\n      <td>0</td>\n      <td>1</td>\n      <td>0</td>\n      <td>161.0</td>\n      <td>0.0</td>\n      <td>0.0</td>\n      <td>0.0</td>\n      <td>0.0</td>\n      <td>0.0</td>\n      <td>0.0</td>\n      <td>0.0</td>\n      <td>0.0</td>\n      <td>0.0</td>\n      <td>0.0</td>\n      <td>0.0</td>\n      <td>0.0</td>\n      <td>0.0</td>\n      <td>0.0</td>\n      <td>0.0</td>\n      <td>0.0</td>\n      <td>0.0</td>\n      <td>0.0</td>\n      <td>0.0</td>\n      <td>0.0</td>\n      <td>0.0</td>\n      <td>0.0</td>\n      <td>0.0</td>\n      <td>0.0</td>\n      <td>0.0</td>\n      <td>0.0</td>\n      <td>0.0</td>\n      <td>0.0</td>\n      <td>0.0</td>\n      <td>0.0</td>\n      <td>0.0</td>\n      <td>0.0</td>\n      <td>0.0</td>\n      <td>0.0</td>\n      <td>1.0</td>\n      <td>0.0</td>\n      <td>0.0</td>\n      <td>0.0</td>\n      <td>0.0</td>\n      <td>0.0</td>\n      <td>0.0</td>\n      <td>0.0</td>\n      <td>0.0</td>\n      <td>...</td>\n      <td>0.0</td>\n      <td>0.0</td>\n      <td>0.0</td>\n      <td>0.0</td>\n      <td>0.0</td>\n      <td>0.0</td>\n      <td>0.0</td>\n      <td>1.0</td>\n      <td>0.0</td>\n      <td>0.0</td>\n      <td>0.0</td>\n      <td>0.0</td>\n      <td>0.0</td>\n      <td>0.0</td>\n      <td>0.0</td>\n      <td>0.0</td>\n      <td>0.0</td>\n      <td>0.0</td>\n      <td>0.0</td>\n      <td>0.0</td>\n      <td>0.0</td>\n      <td>0.0</td>\n      <td>1.0</td>\n      <td>0.0</td>\n      <td>0.0</td>\n      <td>0.0</td>\n      <td>0.0</td>\n      <td>0.0</td>\n      <td>0.0</td>\n      <td>0.0</td>\n      <td>0.0</td>\n      <td>0.0</td>\n      <td>0.0</td>\n      <td>0.0</td>\n      <td>0.0</td>\n      <td>0.0</td>\n      <td>0.0</td>\n      <td>0.0</td>\n      <td>0.0</td>\n      <td>0.0</td>\n      <td>0.0</td>\n      <td>0.0</td>\n      <td>0.0</td>\n      <td>0.0</td>\n      <td>0.0</td>\n      <td>0.0</td>\n      <td>0.0</td>\n      <td>0.0</td>\n      <td>0.0</td>\n      <td>1.0</td>\n    </tr>\n  </tbody>\n</table>\n<p>5 rows × 204 columns</p>\n</div>"
     },
     "metadata": {},
     "execution_count": 17
    }
   ],
   "source": [
    "df.head()"
   ]
  },
  {
   "cell_type": "code",
   "execution_count": 19,
   "metadata": {},
   "outputs": [
    {
     "output_type": "execute_result",
     "data": {
      "text/plain": [
       "(15532, 204)"
      ]
     },
     "metadata": {},
     "execution_count": 19
    }
   ],
   "source": [
    "#Drop na values\n",
    "df.dropna(inplace = True)\n",
    "df.shape"
   ]
  },
  {
   "cell_type": "code",
   "execution_count": 20,
   "metadata": {},
   "outputs": [],
   "source": [
    "# Comment to remember code\n",
    "# 'English' in df_lang['Language'].values[0]\n",
    "    "
   ]
  },
  {
   "cell_type": "code",
   "execution_count": 21,
   "metadata": {
    "tags": []
   },
   "outputs": [],
   "source": [
    "# Comment to remember how code works for iterable\n",
    "\n",
    "# for i, value in enumerate(df_lang['Language'].values):\n",
    "#     print(i)\n",
    "#     print(value)\n",
    "#     print(type(value))"
   ]
  },
  {
   "cell_type": "markdown",
   "metadata": {},
   "source": [
    "# Target creation and Splitting Data"
   ]
  },
  {
   "cell_type": "markdown",
   "metadata": {},
   "source": [
    "Look into what factors could determine if a show gets on to Netflix"
   ]
  },
  {
   "cell_type": "code",
   "execution_count": 22,
   "metadata": {},
   "outputs": [],
   "source": [
    "#Create target variable, set without target, and set with only target\n",
    "target = 'IMDb'\n",
    "X = df.drop(columns = target)\n",
    "y = df[target]"
   ]
  },
  {
   "cell_type": "code",
   "execution_count": 23,
   "metadata": {},
   "outputs": [],
   "source": [
    "assert len(X) == len(y)"
   ]
  },
  {
   "cell_type": "markdown",
   "metadata": {},
   "source": [
    "### Split into train, test, val data"
   ]
  },
  {
   "cell_type": "markdown",
   "metadata": {},
   "source": [
    "Will split randomly. Won't split by year since I would rather have that as a feature"
   ]
  },
  {
   "cell_type": "code",
   "execution_count": 24,
   "metadata": {},
   "outputs": [],
   "source": [
    "# Use train-split function to divide train, validation, test with a (0.6, 0.2, 0.2 split)\n",
    "X_train, X_test, y_train, y_test = train_test_split(X, y, test_size=0.2, random_state=42)\n",
    "\n",
    "# Doing 0.25 x 0.8 = 0.2 split\n",
    "X_train, X_val, y_train, y_val = train_test_split(X_train, y_train, test_size=0.25, random_state=42) "
   ]
  },
  {
   "cell_type": "code",
   "execution_count": 25,
   "metadata": {},
   "outputs": [],
   "source": [
    "assert len(X_train + X_test + X_val == len(X))\n",
    "assert len(y_train + y_test + y_val == len(y))"
   ]
  },
  {
   "cell_type": "code",
   "execution_count": 26,
   "metadata": {},
   "outputs": [
    {
     "output_type": "execute_result",
     "data": {
      "text/plain": [
       "Year           0\n",
       "Netflix        0\n",
       "Hulu           0\n",
       "Prime Video    0\n",
       "Disney+        0\n",
       "              ..\n",
       "Sport          0\n",
       "Talk-Show      0\n",
       "Thriller       0\n",
       "War            0\n",
       "Western        0\n",
       "Length: 203, dtype: int64"
      ]
     },
     "metadata": {},
     "execution_count": 26
    }
   ],
   "source": [
    "X_train.isnull().sum()"
   ]
  },
  {
   "cell_type": "code",
   "execution_count": 27,
   "metadata": {},
   "outputs": [
    {
     "output_type": "execute_result",
     "data": {
      "text/plain": [
       "0"
      ]
     },
     "metadata": {},
     "execution_count": 27
    }
   ],
   "source": [
    "y_train.isnull().sum()"
   ]
  },
  {
   "cell_type": "markdown",
   "metadata": {},
   "source": [
    "# Create Model"
   ]
  },
  {
   "cell_type": "markdown",
   "metadata": {},
   "source": [
    "### Model based on results of randomized search and grid search"
   ]
  },
  {
   "cell_type": "code",
   "execution_count": 28,
   "metadata": {},
   "outputs": [
    {
     "output_type": "stream",
     "name": "stderr",
     "text": [
      "C:\\Users\\Eric\\.virtualenvs\\DS-Unit-2-Applied-Modeling-OVqDOShY\\lib\\site-packages\\category_encoders\\utils.py:21: FutureWarning: is_categorical is deprecated and will be removed in a future version.  Use is_categorical_dtype instead\n  elif pd.api.types.is_categorical(cols):\n"
     ]
    },
    {
     "output_type": "execute_result",
     "data": {
      "text/plain": [
       "Pipeline(steps=[('onehotencoder', OneHotEncoder(cols=[], use_cat_names=True)),\n",
       "                ('simpleimputer', SimpleImputer()),\n",
       "                ('standardscaler', StandardScaler()),\n",
       "                ('ridge', Ridge(alpha=600))])"
      ]
     },
     "metadata": {},
     "execution_count": 28
    }
   ],
   "source": [
    "# Ridge Regression Model\n",
    "model = make_pipeline(OneHotEncoder(use_cat_names=True),\n",
    "                      SimpleImputer(strategy = 'mean'),\n",
    "                      StandardScaler(),\n",
    "                      Ridge(alpha = 600),\n",
    "                      )\n",
    "                                             \n",
    "model.fit(X_train, y_train)"
   ]
  },
  {
   "cell_type": "markdown",
   "metadata": {},
   "source": [
    "### Used for creating randomized search and Grid Search models"
   ]
  },
  {
   "cell_type": "code",
   "execution_count": 30,
   "metadata": {},
   "outputs": [],
   "source": [
    "# Model for Randomized Search and Grid Search\n",
    "# cf = make_pipeline(OneHotEncoder(use_cat_names=True),\n",
    "#                    SimpleImputer(strategy = 'mean'),\n",
    "#                    StandardScaler(),\n",
    "#                    Ridge()\n",
    "#                    )\n",
    "\n",
    "# param grid for Randomized Search and Grid Search\n",
    "# param_grid = {\n",
    "#     'simpleimputer__strategy': ['mean', 'median'],\n",
    "#     'ridge__alpha': np.linspace(100,2000, 20)\n",
    "# }\n"
   ]
  },
  {
   "cell_type": "code",
   "execution_count": 31,
   "metadata": {},
   "outputs": [],
   "source": [
    "# dir(cf.named_steps['ridge'])"
   ]
  },
  {
   "cell_type": "markdown",
   "metadata": {},
   "source": [
    "### Randomized Search"
   ]
  },
  {
   "cell_type": "code",
   "execution_count": 32,
   "metadata": {},
   "outputs": [],
   "source": [
    "# # Randomized search for ridge regression\n",
    "\n",
    "# model_r = RandomizedSearchCV(\n",
    "#     cf,\n",
    "#     param_distributions=param_grid,\n",
    "#     n_iter=60,\n",
    "#     cv=None,\n",
    "#     n_jobs=-1,\n",
    "#     verbose = 1\n",
    "# )\n",
    "\n",
    "# model_r.fit(X_train, y_train)"
   ]
  },
  {
   "cell_type": "code",
   "execution_count": 33,
   "metadata": {},
   "outputs": [],
   "source": [
    "# model_r.best_params_"
   ]
  },
  {
   "cell_type": "markdown",
   "metadata": {},
   "source": [
    "# SelectKBest"
   ]
  },
  {
   "cell_type": "code",
   "execution_count": 34,
   "metadata": {},
   "outputs": [
    {
     "output_type": "stream",
     "name": "stderr",
     "text": [
      "C:\\Users\\Eric\\.virtualenvs\\DS-Unit-2-Applied-Modeling-OVqDOShY\\lib\\site-packages\\category_encoders\\utils.py:21: FutureWarning: is_categorical is deprecated and will be removed in a future version.  Use is_categorical_dtype instead\n",
      "  elif pd.api.types.is_categorical(cols):\n",
      "C:\\Users\\Eric\\.virtualenvs\\DS-Unit-2-Applied-Modeling-OVqDOShY\\lib\\site-packages\\sklearn\\feature_selection\\_univariate_selection.py:114: UserWarning: Features [ 27 130 137 139 166 168] are constant.\n",
      "  warnings.warn(\"Features %s are constant.\" % constant_features_idx,\n",
      "C:\\Users\\Eric\\.virtualenvs\\DS-Unit-2-Applied-Modeling-OVqDOShY\\lib\\site-packages\\sklearn\\feature_selection\\_univariate_selection.py:116: RuntimeWarning: invalid value encountered in true_divide\n",
      "  f = msb / msw\n"
     ]
    },
    {
     "output_type": "execute_result",
     "data": {
      "text/plain": [
       "Pipeline(steps=[('onehotencoder', OneHotEncoder(cols=[], use_cat_names=True)),\n",
       "                ('simpleimputer', SimpleImputer()),\n",
       "                ('standardscaler', StandardScaler()),\n",
       "                ('selectkbest', SelectKBest(k=100)),\n",
       "                ('ridge', Ridge(alpha=400))])"
      ]
     },
     "metadata": {},
     "execution_count": 34
    }
   ],
   "source": [
    "# SelectKBest Model based on randomized search\n",
    "model_skb = make_pipeline(OneHotEncoder(use_cat_names=True),\n",
    "                      SimpleImputer(strategy = 'mean'),\n",
    "                      StandardScaler(),\n",
    "                      SelectKBest (k=100),\n",
    "                      Ridge(alpha = 400),\n",
    "                      )\n",
    "                                             \n",
    "model_skb.fit(X_train, y_train)"
   ]
  },
  {
   "cell_type": "code",
   "execution_count": 35,
   "metadata": {},
   "outputs": [],
   "source": [
    "# # Model for Randomized Search and Grid Search\n",
    "# cf_rs = make_pipeline(OneHotEncoder(use_cat_names=True),\n",
    "#                    SimpleImputer(strategy = 'mean'),\n",
    "#                    StandardScaler(),\n",
    "#                    SelectKBest(),\n",
    "#                    Ridge()\n",
    "#                    )\n",
    "\n",
    "# # param grid for Randomized Search and Grid Search\n",
    "# param_grid_rs = {\n",
    "#     'simpleimputer__strategy': ['mean', 'median'],\n",
    "#     'selectkbest__k': range(50, 150, 10),\n",
    "#     'ridge__alpha': range(200,500,50)\n",
    "# }\n"
   ]
  },
  {
   "cell_type": "code",
   "execution_count": 36,
   "metadata": {},
   "outputs": [],
   "source": [
    "# model_skb_rs = RandomizedSearchCV(\n",
    "#     cf_rs,\n",
    "#     param_distributions=param_grid_rs,\n",
    "#     n_iter=60,\n",
    "#     cv=None,\n",
    "#     n_jobs=-1,\n",
    "#     verbose = 1\n",
    "# )\n",
    "\n",
    "# model_skb_rs.fit(X_train, y_train)"
   ]
  },
  {
   "cell_type": "code",
   "execution_count": 37,
   "metadata": {},
   "outputs": [],
   "source": [
    "# model_skb_rs.best_params_"
   ]
  },
  {
   "cell_type": "code",
   "execution_count": 38,
   "metadata": {},
   "outputs": [],
   "source": [
    "# dir(model_skb.named_steps['selectkbest'])"
   ]
  },
  {
   "cell_type": "code",
   "execution_count": 39,
   "metadata": {},
   "outputs": [],
   "source": [
    "# np.linspace(0,0.001, 10)"
   ]
  },
  {
   "cell_type": "markdown",
   "metadata": {},
   "source": [
    "# Check Metrics"
   ]
  },
  {
   "cell_type": "markdown",
   "metadata": {},
   "source": [
    "### Establish Baseline"
   ]
  },
  {
   "cell_type": "code",
   "execution_count": 40,
   "metadata": {},
   "outputs": [
    {
     "output_type": "stream",
     "name": "stdout",
     "text": [
      "Mean Rating: 5.8871324318523275\nBaseline MAE: 1.0718829218141974\n"
     ]
    }
   ],
   "source": [
    "#Baseline accuracy\n",
    "y_pred = [y_train.mean()] * len(y_train)\n",
    "print('Mean Rating:', y_train.mean())\n",
    "print('Baseline MAE:', mean_absolute_error(y_train, y_pred))"
   ]
  },
  {
   "cell_type": "markdown",
   "metadata": {},
   "source": [
    "### Check accuracy scores for train, val, and test set"
   ]
  },
  {
   "cell_type": "code",
   "execution_count": 41,
   "metadata": {},
   "outputs": [
    {
     "output_type": "stream",
     "name": "stdout",
     "text": [
      "R = 600 training MAE: 0.8387793888549367\n",
      "R = 600 val MAE: 0.8556280154063589\n",
      "R = 600 test MAE: 0.8742918878410503\n",
      "\n",
      "R = 100, k = training MAE: 0.8433035575673999\n",
      "R = 100, k = val MAE: 0.8550030248422102\n",
      "R = 100, k = test MAE: 0.8734664001811949\n"
     ]
    }
   ],
   "source": [
    "# MAE for Ridge Model\n",
    "print('R = 600 training MAE:', mean_absolute_error(y_train, model.predict(X_train))) \n",
    "print('R = 600 val MAE:', mean_absolute_error(y_val, model.predict(X_val)))\n",
    "print('R = 600 test MAE:', mean_absolute_error(y_test, model.predict(X_test)))\n",
    "print()\n",
    "print('R = 100, k = training MAE:', mean_absolute_error(y_train, model_skb.predict(X_train))) \n",
    "print('R = 100, k = val MAE:', mean_absolute_error(y_val, model_skb.predict(X_val)))\n",
    "print('R = 100, k = test MAE:', mean_absolute_error(y_test, model_skb.predict(X_test)))"
   ]
  },
  {
   "cell_type": "code",
   "execution_count": 42,
   "metadata": {},
   "outputs": [
    {
     "output_type": "stream",
     "name": "stdout",
     "text": [
      "R = 600 training R2: 0.351460189013479\n",
      "R = 600 val R2: 0.3310045173351499\n",
      "R = 600 test R2: 0.3196422638655171\n",
      "\n",
      "R = 100, k = 400 training R2: 0.34482900697062413\n",
      "R = 100, k = 400 val R2: 0.3340194179030742\n",
      "R = 100, k = 400 test R2: 0.31972058501484557\n"
     ]
    }
   ],
   "source": [
    "# R2 Score for Ridge Model\n",
    "\n",
    "print('R = 600 training R2:', r2_score(y_train, model.predict(X_train))) \n",
    "print('R = 600 val R2:', r2_score(y_val, model.predict(X_val)))\n",
    "print('R = 600 test R2:', r2_score(y_test, model.predict(X_test)))\n",
    "print()\n",
    "print('R = 100, k = 400 training R2:', r2_score(y_train, model_skb.predict(X_train))) \n",
    "print('R = 100, k = 400 val R2:', r2_score(y_val, model_skb.predict(X_val)))\n",
    "print('R = 100, k = 400 test R2:', r2_score(y_test, model_skb.predict(X_test)))\n"
   ]
  },
  {
   "cell_type": "markdown",
   "metadata": {},
   "source": [
    "# Feature Importance"
   ]
  },
  {
   "cell_type": "markdown",
   "metadata": {},
   "source": [
    "### Get Top 10 Features"
   ]
  },
  {
   "cell_type": "code",
   "execution_count": 43,
   "metadata": {},
   "outputs": [],
   "source": [
    "# dir(model.named_steps['onehotencoder])"
   ]
  },
  {
   "cell_type": "code",
   "execution_count": 44,
   "metadata": {},
   "outputs": [],
   "source": [
    "# Grab features and coefficients from ridge model\n",
    "coefficients = model['ridge'].coef_\n",
    "features = model['onehotencoder'].get_feature_names()\n",
    "feat_imp = pd.Series(coefficients, index=features).sort_values(key=abs)"
   ]
  },
  {
   "cell_type": "code",
   "execution_count": 45,
   "metadata": {},
   "outputs": [
    {
     "output_type": "display_data",
     "data": {
      "text/plain": "<Figure size 432x288 with 1 Axes>",
      "image/svg+xml": "<?xml version=\"1.0\" encoding=\"utf-8\" standalone=\"no\"?>\r\n<!DOCTYPE svg PUBLIC \"-//W3C//DTD SVG 1.1//EN\"\r\n  \"http://www.w3.org/Graphics/SVG/1.1/DTD/svg11.dtd\">\r\n<svg height=\"263.63625pt\" version=\"1.1\" viewBox=\"0 0 424.164062 263.63625\" width=\"424.164062pt\" xmlns=\"http://www.w3.org/2000/svg\" xmlns:xlink=\"http://www.w3.org/1999/xlink\">\r\n <metadata>\r\n  <rdf:RDF xmlns:cc=\"http://creativecommons.org/ns#\" xmlns:dc=\"http://purl.org/dc/elements/1.1/\" xmlns:rdf=\"http://www.w3.org/1999/02/22-rdf-syntax-ns#\">\r\n   <cc:Work>\r\n    <dc:type rdf:resource=\"http://purl.org/dc/dcmitype/StillImage\"/>\r\n    <dc:date>2021-03-30T13:32:33.763525</dc:date>\r\n    <dc:format>image/svg+xml</dc:format>\r\n    <dc:creator>\r\n     <cc:Agent>\r\n      <dc:title>Matplotlib v3.4.0, https://matplotlib.org/</dc:title>\r\n     </cc:Agent>\r\n    </dc:creator>\r\n   </cc:Work>\r\n  </rdf:RDF>\r\n </metadata>\r\n <defs>\r\n  <style type=\"text/css\">*{stroke-linecap:butt;stroke-linejoin:round;}</style>\r\n </defs>\r\n <g id=\"figure_1\">\r\n  <g id=\"patch_1\">\r\n   <path d=\"M 0 263.63625 \r\nL 424.164062 263.63625 \r\nL 424.164062 0 \r\nL 0 0 \r\nz\r\n\" style=\"fill:none;\"/>\r\n  </g>\r\n  <g id=\"axes_1\">\r\n   <g id=\"patch_2\">\r\n    <path d=\"M 82.164062 239.758125 \r\nL 416.964063 239.758125 \r\nL 416.964063 22.318125 \r\nL 82.164062 22.318125 \r\nz\r\n\" style=\"fill:#ffffff;\"/>\r\n   </g>\r\n   <g id=\"patch_3\">\r\n    <path clip-path=\"url(#pc086cc179c)\" d=\"M 206.763897 234.322125 \r\nL 246.445104 234.322125 \r\nL 246.445104 223.450125 \r\nL 206.763897 223.450125 \r\nz\r\n\" style=\"fill:#1f77b4;\"/>\r\n   </g>\r\n   <g id=\"patch_4\">\r\n    <path clip-path=\"url(#pc086cc179c)\" d=\"M 206.763897 212.578125 \r\nL 166.493713 212.578125 \r\nL 166.493713 201.706125 \r\nL 206.763897 201.706125 \r\nz\r\n\" style=\"fill:#1f77b4;\"/>\r\n   </g>\r\n   <g id=\"patch_5\">\r\n    <path clip-path=\"url(#pc086cc179c)\" d=\"M 206.763897 190.834125 \r\nL 250.315339 190.834125 \r\nL 250.315339 179.962125 \r\nL 206.763897 179.962125 \r\nz\r\n\" style=\"fill:#1f77b4;\"/>\r\n   </g>\r\n   <g id=\"patch_6\">\r\n    <path clip-path=\"url(#pc086cc179c)\" d=\"M 206.763897 169.090125 \r\nL 258.154685 169.090125 \r\nL 258.154685 158.218125 \r\nL 206.763897 158.218125 \r\nz\r\n\" style=\"fill:#1f77b4;\"/>\r\n   </g>\r\n   <g id=\"patch_7\">\r\n    <path clip-path=\"url(#pc086cc179c)\" d=\"M 206.763897 147.346125 \r\nL 147.250444 147.346125 \r\nL 147.250444 136.474125 \r\nL 206.763897 136.474125 \r\nz\r\n\" style=\"fill:#1f77b4;\"/>\r\n   </g>\r\n   <g id=\"patch_8\">\r\n    <path clip-path=\"url(#pc086cc179c)\" d=\"M 206.763897 125.602125 \r\nL 271.621679 125.602125 \r\nL 271.621679 114.730125 \r\nL 206.763897 114.730125 \r\nz\r\n\" style=\"fill:#1f77b4;\"/>\r\n   </g>\r\n   <g id=\"patch_9\">\r\n    <path clip-path=\"url(#pc086cc179c)\" d=\"M 206.763897 103.858125 \r\nL 134.416228 103.858125 \r\nL 134.416228 92.986125 \r\nL 206.763897 92.986125 \r\nz\r\n\" style=\"fill:#1f77b4;\"/>\r\n   </g>\r\n   <g id=\"patch_10\">\r\n    <path clip-path=\"url(#pc086cc179c)\" d=\"M 206.763897 82.114125 \r\nL 285.67996 82.114125 \r\nL 285.67996 71.242125 \r\nL 206.763897 71.242125 \r\nz\r\n\" style=\"fill:#1f77b4;\"/>\r\n   </g>\r\n   <g id=\"patch_11\">\r\n    <path clip-path=\"url(#pc086cc179c)\" d=\"M 206.763897 60.370125 \r\nL 97.382244 60.370125 \r\nL 97.382244 49.498125 \r\nL 206.763897 49.498125 \r\nz\r\n\" style=\"fill:#1f77b4;\"/>\r\n   </g>\r\n   <g id=\"patch_12\">\r\n    <path clip-path=\"url(#pc086cc179c)\" d=\"M 206.763897 38.626125 \r\nL 401.745881 38.626125 \r\nL 401.745881 27.754125 \r\nL 206.763897 27.754125 \r\nz\r\n\" style=\"fill:#1f77b4;\"/>\r\n   </g>\r\n   <g id=\"matplotlib.axis_1\">\r\n    <g id=\"xtick_1\">\r\n     <g id=\"line2d_1\">\r\n      <defs>\r\n       <path d=\"M 0 0 \r\nL 0 3.5 \r\n\" id=\"mf8627dcdd7\" style=\"stroke:#000000;stroke-width:0.8;\"/>\r\n      </defs>\r\n      <g>\r\n       <use style=\"stroke:#000000;stroke-width:0.8;\" x=\"115.977981\" xlink:href=\"#mf8627dcdd7\" y=\"239.758125\"/>\r\n      </g>\r\n     </g>\r\n     <g id=\"text_1\">\r\n      <!-- −0.2 -->\r\n      <g transform=\"translate(103.836575 254.356563)scale(0.1 -0.1)\">\r\n       <defs>\r\n        <path d=\"M 678 2272 \r\nL 4684 2272 \r\nL 4684 1741 \r\nL 678 1741 \r\nL 678 2272 \r\nz\r\n\" id=\"DejaVuSans-2212\" transform=\"scale(0.015625)\"/>\r\n        <path d=\"M 2034 4250 \r\nQ 1547 4250 1301 3770 \r\nQ 1056 3291 1056 2328 \r\nQ 1056 1369 1301 889 \r\nQ 1547 409 2034 409 \r\nQ 2525 409 2770 889 \r\nQ 3016 1369 3016 2328 \r\nQ 3016 3291 2770 3770 \r\nQ 2525 4250 2034 4250 \r\nz\r\nM 2034 4750 \r\nQ 2819 4750 3233 4129 \r\nQ 3647 3509 3647 2328 \r\nQ 3647 1150 3233 529 \r\nQ 2819 -91 2034 -91 \r\nQ 1250 -91 836 529 \r\nQ 422 1150 422 2328 \r\nQ 422 3509 836 4129 \r\nQ 1250 4750 2034 4750 \r\nz\r\n\" id=\"DejaVuSans-30\" transform=\"scale(0.015625)\"/>\r\n        <path d=\"M 684 794 \r\nL 1344 794 \r\nL 1344 0 \r\nL 684 0 \r\nL 684 794 \r\nz\r\n\" id=\"DejaVuSans-2e\" transform=\"scale(0.015625)\"/>\r\n        <path d=\"M 1228 531 \r\nL 3431 531 \r\nL 3431 0 \r\nL 469 0 \r\nL 469 531 \r\nQ 828 903 1448 1529 \r\nQ 2069 2156 2228 2338 \r\nQ 2531 2678 2651 2914 \r\nQ 2772 3150 2772 3378 \r\nQ 2772 3750 2511 3984 \r\nQ 2250 4219 1831 4219 \r\nQ 1534 4219 1204 4116 \r\nQ 875 4013 500 3803 \r\nL 500 4441 \r\nQ 881 4594 1212 4672 \r\nQ 1544 4750 1819 4750 \r\nQ 2544 4750 2975 4387 \r\nQ 3406 4025 3406 3419 \r\nQ 3406 3131 3298 2873 \r\nQ 3191 2616 2906 2266 \r\nQ 2828 2175 2409 1742 \r\nQ 1991 1309 1228 531 \r\nz\r\n\" id=\"DejaVuSans-32\" transform=\"scale(0.015625)\"/>\r\n       </defs>\r\n       <use xlink:href=\"#DejaVuSans-2212\"/>\r\n       <use x=\"83.789062\" xlink:href=\"#DejaVuSans-30\"/>\r\n       <use x=\"147.412109\" xlink:href=\"#DejaVuSans-2e\"/>\r\n       <use x=\"179.199219\" xlink:href=\"#DejaVuSans-32\"/>\r\n      </g>\r\n     </g>\r\n    </g>\r\n    <g id=\"xtick_2\">\r\n     <g id=\"line2d_2\">\r\n      <g>\r\n       <use style=\"stroke:#000000;stroke-width:0.8;\" x=\"161.370939\" xlink:href=\"#mf8627dcdd7\" y=\"239.758125\"/>\r\n      </g>\r\n     </g>\r\n     <g id=\"text_2\">\r\n      <!-- −0.1 -->\r\n      <g transform=\"translate(149.229533 254.356563)scale(0.1 -0.1)\">\r\n       <defs>\r\n        <path d=\"M 794 531 \r\nL 1825 531 \r\nL 1825 4091 \r\nL 703 3866 \r\nL 703 4441 \r\nL 1819 4666 \r\nL 2450 4666 \r\nL 2450 531 \r\nL 3481 531 \r\nL 3481 0 \r\nL 794 0 \r\nL 794 531 \r\nz\r\n\" id=\"DejaVuSans-31\" transform=\"scale(0.015625)\"/>\r\n       </defs>\r\n       <use xlink:href=\"#DejaVuSans-2212\"/>\r\n       <use x=\"83.789062\" xlink:href=\"#DejaVuSans-30\"/>\r\n       <use x=\"147.412109\" xlink:href=\"#DejaVuSans-2e\"/>\r\n       <use x=\"179.199219\" xlink:href=\"#DejaVuSans-31\"/>\r\n      </g>\r\n     </g>\r\n    </g>\r\n    <g id=\"xtick_3\">\r\n     <g id=\"line2d_3\">\r\n      <g>\r\n       <use style=\"stroke:#000000;stroke-width:0.8;\" x=\"206.763897\" xlink:href=\"#mf8627dcdd7\" y=\"239.758125\"/>\r\n      </g>\r\n     </g>\r\n     <g id=\"text_3\">\r\n      <!-- 0.0 -->\r\n      <g transform=\"translate(198.812335 254.356563)scale(0.1 -0.1)\">\r\n       <use xlink:href=\"#DejaVuSans-30\"/>\r\n       <use x=\"63.623047\" xlink:href=\"#DejaVuSans-2e\"/>\r\n       <use x=\"95.410156\" xlink:href=\"#DejaVuSans-30\"/>\r\n      </g>\r\n     </g>\r\n    </g>\r\n    <g id=\"xtick_4\">\r\n     <g id=\"line2d_4\">\r\n      <g>\r\n       <use style=\"stroke:#000000;stroke-width:0.8;\" x=\"252.156855\" xlink:href=\"#mf8627dcdd7\" y=\"239.758125\"/>\r\n      </g>\r\n     </g>\r\n     <g id=\"text_4\">\r\n      <!-- 0.1 -->\r\n      <g transform=\"translate(244.205293 254.356563)scale(0.1 -0.1)\">\r\n       <use xlink:href=\"#DejaVuSans-30\"/>\r\n       <use x=\"63.623047\" xlink:href=\"#DejaVuSans-2e\"/>\r\n       <use x=\"95.410156\" xlink:href=\"#DejaVuSans-31\"/>\r\n      </g>\r\n     </g>\r\n    </g>\r\n    <g id=\"xtick_5\">\r\n     <g id=\"line2d_5\">\r\n      <g>\r\n       <use style=\"stroke:#000000;stroke-width:0.8;\" x=\"297.549813\" xlink:href=\"#mf8627dcdd7\" y=\"239.758125\"/>\r\n      </g>\r\n     </g>\r\n     <g id=\"text_5\">\r\n      <!-- 0.2 -->\r\n      <g transform=\"translate(289.598251 254.356563)scale(0.1 -0.1)\">\r\n       <use xlink:href=\"#DejaVuSans-30\"/>\r\n       <use x=\"63.623047\" xlink:href=\"#DejaVuSans-2e\"/>\r\n       <use x=\"95.410156\" xlink:href=\"#DejaVuSans-32\"/>\r\n      </g>\r\n     </g>\r\n    </g>\r\n    <g id=\"xtick_6\">\r\n     <g id=\"line2d_6\">\r\n      <g>\r\n       <use style=\"stroke:#000000;stroke-width:0.8;\" x=\"342.942771\" xlink:href=\"#mf8627dcdd7\" y=\"239.758125\"/>\r\n      </g>\r\n     </g>\r\n     <g id=\"text_6\">\r\n      <!-- 0.3 -->\r\n      <g transform=\"translate(334.991209 254.356563)scale(0.1 -0.1)\">\r\n       <defs>\r\n        <path d=\"M 2597 2516 \r\nQ 3050 2419 3304 2112 \r\nQ 3559 1806 3559 1356 \r\nQ 3559 666 3084 287 \r\nQ 2609 -91 1734 -91 \r\nQ 1441 -91 1130 -33 \r\nQ 819 25 488 141 \r\nL 488 750 \r\nQ 750 597 1062 519 \r\nQ 1375 441 1716 441 \r\nQ 2309 441 2620 675 \r\nQ 2931 909 2931 1356 \r\nQ 2931 1769 2642 2001 \r\nQ 2353 2234 1838 2234 \r\nL 1294 2234 \r\nL 1294 2753 \r\nL 1863 2753 \r\nQ 2328 2753 2575 2939 \r\nQ 2822 3125 2822 3475 \r\nQ 2822 3834 2567 4026 \r\nQ 2313 4219 1838 4219 \r\nQ 1578 4219 1281 4162 \r\nQ 984 4106 628 3988 \r\nL 628 4550 \r\nQ 988 4650 1302 4700 \r\nQ 1616 4750 1894 4750 \r\nQ 2613 4750 3031 4423 \r\nQ 3450 4097 3450 3541 \r\nQ 3450 3153 3228 2886 \r\nQ 3006 2619 2597 2516 \r\nz\r\n\" id=\"DejaVuSans-33\" transform=\"scale(0.015625)\"/>\r\n       </defs>\r\n       <use xlink:href=\"#DejaVuSans-30\"/>\r\n       <use x=\"63.623047\" xlink:href=\"#DejaVuSans-2e\"/>\r\n       <use x=\"95.410156\" xlink:href=\"#DejaVuSans-33\"/>\r\n      </g>\r\n     </g>\r\n    </g>\r\n    <g id=\"xtick_7\">\r\n     <g id=\"line2d_7\">\r\n      <g>\r\n       <use style=\"stroke:#000000;stroke-width:0.8;\" x=\"388.335729\" xlink:href=\"#mf8627dcdd7\" y=\"239.758125\"/>\r\n      </g>\r\n     </g>\r\n     <g id=\"text_7\">\r\n      <!-- 0.4 -->\r\n      <g transform=\"translate(380.384167 254.356563)scale(0.1 -0.1)\">\r\n       <defs>\r\n        <path d=\"M 2419 4116 \r\nL 825 1625 \r\nL 2419 1625 \r\nL 2419 4116 \r\nz\r\nM 2253 4666 \r\nL 3047 4666 \r\nL 3047 1625 \r\nL 3713 1625 \r\nL 3713 1100 \r\nL 3047 1100 \r\nL 3047 0 \r\nL 2419 0 \r\nL 2419 1100 \r\nL 313 1100 \r\nL 313 1709 \r\nL 2253 4666 \r\nz\r\n\" id=\"DejaVuSans-34\" transform=\"scale(0.015625)\"/>\r\n       </defs>\r\n       <use xlink:href=\"#DejaVuSans-30\"/>\r\n       <use x=\"63.623047\" xlink:href=\"#DejaVuSans-2e\"/>\r\n       <use x=\"95.410156\" xlink:href=\"#DejaVuSans-34\"/>\r\n      </g>\r\n     </g>\r\n    </g>\r\n   </g>\r\n   <g id=\"matplotlib.axis_2\">\r\n    <g id=\"ytick_1\">\r\n     <g id=\"line2d_8\">\r\n      <defs>\r\n       <path d=\"M 0 0 \r\nL -3.5 0 \r\n\" id=\"m08bc883113\" style=\"stroke:#000000;stroke-width:0.8;\"/>\r\n      </defs>\r\n      <g>\r\n       <use style=\"stroke:#000000;stroke-width:0.8;\" x=\"82.164062\" xlink:href=\"#m08bc883113\" y=\"228.886125\"/>\r\n      </g>\r\n     </g>\r\n     <g id=\"text_8\">\r\n      <!-- Disney+ -->\r\n      <g transform=\"translate(32.6875 232.685344)scale(0.1 -0.1)\">\r\n       <defs>\r\n        <path d=\"M 1259 4147 \r\nL 1259 519 \r\nL 2022 519 \r\nQ 2988 519 3436 956 \r\nQ 3884 1394 3884 2338 \r\nQ 3884 3275 3436 3711 \r\nQ 2988 4147 2022 4147 \r\nL 1259 4147 \r\nz\r\nM 628 4666 \r\nL 1925 4666 \r\nQ 3281 4666 3915 4102 \r\nQ 4550 3538 4550 2338 \r\nQ 4550 1131 3912 565 \r\nQ 3275 0 1925 0 \r\nL 628 0 \r\nL 628 4666 \r\nz\r\n\" id=\"DejaVuSans-44\" transform=\"scale(0.015625)\"/>\r\n        <path d=\"M 603 3500 \r\nL 1178 3500 \r\nL 1178 0 \r\nL 603 0 \r\nL 603 3500 \r\nz\r\nM 603 4863 \r\nL 1178 4863 \r\nL 1178 4134 \r\nL 603 4134 \r\nL 603 4863 \r\nz\r\n\" id=\"DejaVuSans-69\" transform=\"scale(0.015625)\"/>\r\n        <path d=\"M 2834 3397 \r\nL 2834 2853 \r\nQ 2591 2978 2328 3040 \r\nQ 2066 3103 1784 3103 \r\nQ 1356 3103 1142 2972 \r\nQ 928 2841 928 2578 \r\nQ 928 2378 1081 2264 \r\nQ 1234 2150 1697 2047 \r\nL 1894 2003 \r\nQ 2506 1872 2764 1633 \r\nQ 3022 1394 3022 966 \r\nQ 3022 478 2636 193 \r\nQ 2250 -91 1575 -91 \r\nQ 1294 -91 989 -36 \r\nQ 684 19 347 128 \r\nL 347 722 \r\nQ 666 556 975 473 \r\nQ 1284 391 1588 391 \r\nQ 1994 391 2212 530 \r\nQ 2431 669 2431 922 \r\nQ 2431 1156 2273 1281 \r\nQ 2116 1406 1581 1522 \r\nL 1381 1569 \r\nQ 847 1681 609 1914 \r\nQ 372 2147 372 2553 \r\nQ 372 3047 722 3315 \r\nQ 1072 3584 1716 3584 \r\nQ 2034 3584 2315 3537 \r\nQ 2597 3491 2834 3397 \r\nz\r\n\" id=\"DejaVuSans-73\" transform=\"scale(0.015625)\"/>\r\n        <path d=\"M 3513 2113 \r\nL 3513 0 \r\nL 2938 0 \r\nL 2938 2094 \r\nQ 2938 2591 2744 2837 \r\nQ 2550 3084 2163 3084 \r\nQ 1697 3084 1428 2787 \r\nQ 1159 2491 1159 1978 \r\nL 1159 0 \r\nL 581 0 \r\nL 581 3500 \r\nL 1159 3500 \r\nL 1159 2956 \r\nQ 1366 3272 1645 3428 \r\nQ 1925 3584 2291 3584 \r\nQ 2894 3584 3203 3211 \r\nQ 3513 2838 3513 2113 \r\nz\r\n\" id=\"DejaVuSans-6e\" transform=\"scale(0.015625)\"/>\r\n        <path d=\"M 3597 1894 \r\nL 3597 1613 \r\nL 953 1613 \r\nQ 991 1019 1311 708 \r\nQ 1631 397 2203 397 \r\nQ 2534 397 2845 478 \r\nQ 3156 559 3463 722 \r\nL 3463 178 \r\nQ 3153 47 2828 -22 \r\nQ 2503 -91 2169 -91 \r\nQ 1331 -91 842 396 \r\nQ 353 884 353 1716 \r\nQ 353 2575 817 3079 \r\nQ 1281 3584 2069 3584 \r\nQ 2775 3584 3186 3129 \r\nQ 3597 2675 3597 1894 \r\nz\r\nM 3022 2063 \r\nQ 3016 2534 2758 2815 \r\nQ 2500 3097 2075 3097 \r\nQ 1594 3097 1305 2825 \r\nQ 1016 2553 972 2059 \r\nL 3022 2063 \r\nz\r\n\" id=\"DejaVuSans-65\" transform=\"scale(0.015625)\"/>\r\n        <path d=\"M 2059 -325 \r\nQ 1816 -950 1584 -1140 \r\nQ 1353 -1331 966 -1331 \r\nL 506 -1331 \r\nL 506 -850 \r\nL 844 -850 \r\nQ 1081 -850 1212 -737 \r\nQ 1344 -625 1503 -206 \r\nL 1606 56 \r\nL 191 3500 \r\nL 800 3500 \r\nL 1894 763 \r\nL 2988 3500 \r\nL 3597 3500 \r\nL 2059 -325 \r\nz\r\n\" id=\"DejaVuSans-79\" transform=\"scale(0.015625)\"/>\r\n        <path d=\"M 2944 4013 \r\nL 2944 2272 \r\nL 4684 2272 \r\nL 4684 1741 \r\nL 2944 1741 \r\nL 2944 0 \r\nL 2419 0 \r\nL 2419 1741 \r\nL 678 1741 \r\nL 678 2272 \r\nL 2419 2272 \r\nL 2419 4013 \r\nL 2944 4013 \r\nz\r\n\" id=\"DejaVuSans-2b\" transform=\"scale(0.015625)\"/>\r\n       </defs>\r\n       <use xlink:href=\"#DejaVuSans-44\"/>\r\n       <use x=\"77.001953\" xlink:href=\"#DejaVuSans-69\"/>\r\n       <use x=\"104.785156\" xlink:href=\"#DejaVuSans-73\"/>\r\n       <use x=\"156.884766\" xlink:href=\"#DejaVuSans-6e\"/>\r\n       <use x=\"220.263672\" xlink:href=\"#DejaVuSans-65\"/>\r\n       <use x=\"281.787109\" xlink:href=\"#DejaVuSans-79\"/>\r\n       <use x=\"340.966797\" xlink:href=\"#DejaVuSans-2b\"/>\r\n      </g>\r\n     </g>\r\n    </g>\r\n    <g id=\"ytick_2\">\r\n     <g id=\"line2d_9\">\r\n      <g>\r\n       <use style=\"stroke:#000000;stroke-width:0.8;\" x=\"82.164062\" xlink:href=\"#m08bc883113\" y=\"207.142125\"/>\r\n      </g>\r\n     </g>\r\n     <g id=\"text_9\">\r\n      <!-- Sci-Fi -->\r\n      <g transform=\"translate(49.126562 210.941344)scale(0.1 -0.1)\">\r\n       <defs>\r\n        <path d=\"M 3425 4513 \r\nL 3425 3897 \r\nQ 3066 4069 2747 4153 \r\nQ 2428 4238 2131 4238 \r\nQ 1616 4238 1336 4038 \r\nQ 1056 3838 1056 3469 \r\nQ 1056 3159 1242 3001 \r\nQ 1428 2844 1947 2747 \r\nL 2328 2669 \r\nQ 3034 2534 3370 2195 \r\nQ 3706 1856 3706 1288 \r\nQ 3706 609 3251 259 \r\nQ 2797 -91 1919 -91 \r\nQ 1588 -91 1214 -16 \r\nQ 841 59 441 206 \r\nL 441 856 \r\nQ 825 641 1194 531 \r\nQ 1563 422 1919 422 \r\nQ 2459 422 2753 634 \r\nQ 3047 847 3047 1241 \r\nQ 3047 1584 2836 1778 \r\nQ 2625 1972 2144 2069 \r\nL 1759 2144 \r\nQ 1053 2284 737 2584 \r\nQ 422 2884 422 3419 \r\nQ 422 4038 858 4394 \r\nQ 1294 4750 2059 4750 \r\nQ 2388 4750 2728 4690 \r\nQ 3069 4631 3425 4513 \r\nz\r\n\" id=\"DejaVuSans-53\" transform=\"scale(0.015625)\"/>\r\n        <path d=\"M 3122 3366 \r\nL 3122 2828 \r\nQ 2878 2963 2633 3030 \r\nQ 2388 3097 2138 3097 \r\nQ 1578 3097 1268 2742 \r\nQ 959 2388 959 1747 \r\nQ 959 1106 1268 751 \r\nQ 1578 397 2138 397 \r\nQ 2388 397 2633 464 \r\nQ 2878 531 3122 666 \r\nL 3122 134 \r\nQ 2881 22 2623 -34 \r\nQ 2366 -91 2075 -91 \r\nQ 1284 -91 818 406 \r\nQ 353 903 353 1747 \r\nQ 353 2603 823 3093 \r\nQ 1294 3584 2113 3584 \r\nQ 2378 3584 2631 3529 \r\nQ 2884 3475 3122 3366 \r\nz\r\n\" id=\"DejaVuSans-63\" transform=\"scale(0.015625)\"/>\r\n        <path d=\"M 313 2009 \r\nL 1997 2009 \r\nL 1997 1497 \r\nL 313 1497 \r\nL 313 2009 \r\nz\r\n\" id=\"DejaVuSans-2d\" transform=\"scale(0.015625)\"/>\r\n        <path d=\"M 628 4666 \r\nL 3309 4666 \r\nL 3309 4134 \r\nL 1259 4134 \r\nL 1259 2759 \r\nL 3109 2759 \r\nL 3109 2228 \r\nL 1259 2228 \r\nL 1259 0 \r\nL 628 0 \r\nL 628 4666 \r\nz\r\n\" id=\"DejaVuSans-46\" transform=\"scale(0.015625)\"/>\r\n       </defs>\r\n       <use xlink:href=\"#DejaVuSans-53\"/>\r\n       <use x=\"63.476562\" xlink:href=\"#DejaVuSans-63\"/>\r\n       <use x=\"118.457031\" xlink:href=\"#DejaVuSans-69\"/>\r\n       <use x=\"146.240234\" xlink:href=\"#DejaVuSans-2d\"/>\r\n       <use x=\"182.324219\" xlink:href=\"#DejaVuSans-46\"/>\r\n       <use x=\"232.59375\" xlink:href=\"#DejaVuSans-69\"/>\r\n      </g>\r\n     </g>\r\n    </g>\r\n    <g id=\"ytick_3\">\r\n     <g id=\"line2d_10\">\r\n      <g>\r\n       <use style=\"stroke:#000000;stroke-width:0.8;\" x=\"82.164062\" xlink:href=\"#m08bc883113\" y=\"185.398125\"/>\r\n      </g>\r\n     </g>\r\n     <g id=\"text_10\">\r\n      <!-- Short -->\r\n      <g transform=\"translate(48.328125 189.197344)scale(0.1 -0.1)\">\r\n       <defs>\r\n        <path d=\"M 3513 2113 \r\nL 3513 0 \r\nL 2938 0 \r\nL 2938 2094 \r\nQ 2938 2591 2744 2837 \r\nQ 2550 3084 2163 3084 \r\nQ 1697 3084 1428 2787 \r\nQ 1159 2491 1159 1978 \r\nL 1159 0 \r\nL 581 0 \r\nL 581 4863 \r\nL 1159 4863 \r\nL 1159 2956 \r\nQ 1366 3272 1645 3428 \r\nQ 1925 3584 2291 3584 \r\nQ 2894 3584 3203 3211 \r\nQ 3513 2838 3513 2113 \r\nz\r\n\" id=\"DejaVuSans-68\" transform=\"scale(0.015625)\"/>\r\n        <path d=\"M 1959 3097 \r\nQ 1497 3097 1228 2736 \r\nQ 959 2375 959 1747 \r\nQ 959 1119 1226 758 \r\nQ 1494 397 1959 397 \r\nQ 2419 397 2687 759 \r\nQ 2956 1122 2956 1747 \r\nQ 2956 2369 2687 2733 \r\nQ 2419 3097 1959 3097 \r\nz\r\nM 1959 3584 \r\nQ 2709 3584 3137 3096 \r\nQ 3566 2609 3566 1747 \r\nQ 3566 888 3137 398 \r\nQ 2709 -91 1959 -91 \r\nQ 1206 -91 779 398 \r\nQ 353 888 353 1747 \r\nQ 353 2609 779 3096 \r\nQ 1206 3584 1959 3584 \r\nz\r\n\" id=\"DejaVuSans-6f\" transform=\"scale(0.015625)\"/>\r\n        <path d=\"M 2631 2963 \r\nQ 2534 3019 2420 3045 \r\nQ 2306 3072 2169 3072 \r\nQ 1681 3072 1420 2755 \r\nQ 1159 2438 1159 1844 \r\nL 1159 0 \r\nL 581 0 \r\nL 581 3500 \r\nL 1159 3500 \r\nL 1159 2956 \r\nQ 1341 3275 1631 3429 \r\nQ 1922 3584 2338 3584 \r\nQ 2397 3584 2469 3576 \r\nQ 2541 3569 2628 3553 \r\nL 2631 2963 \r\nz\r\n\" id=\"DejaVuSans-72\" transform=\"scale(0.015625)\"/>\r\n        <path d=\"M 1172 4494 \r\nL 1172 3500 \r\nL 2356 3500 \r\nL 2356 3053 \r\nL 1172 3053 \r\nL 1172 1153 \r\nQ 1172 725 1289 603 \r\nQ 1406 481 1766 481 \r\nL 2356 481 \r\nL 2356 0 \r\nL 1766 0 \r\nQ 1100 0 847 248 \r\nQ 594 497 594 1153 \r\nL 594 3053 \r\nL 172 3053 \r\nL 172 3500 \r\nL 594 3500 \r\nL 594 4494 \r\nL 1172 4494 \r\nz\r\n\" id=\"DejaVuSans-74\" transform=\"scale(0.015625)\"/>\r\n       </defs>\r\n       <use xlink:href=\"#DejaVuSans-53\"/>\r\n       <use x=\"63.476562\" xlink:href=\"#DejaVuSans-68\"/>\r\n       <use x=\"126.855469\" xlink:href=\"#DejaVuSans-6f\"/>\r\n       <use x=\"188.037109\" xlink:href=\"#DejaVuSans-72\"/>\r\n       <use x=\"229.150391\" xlink:href=\"#DejaVuSans-74\"/>\r\n      </g>\r\n     </g>\r\n    </g>\r\n    <g id=\"ytick_4\">\r\n     <g id=\"line2d_11\">\r\n      <g>\r\n       <use style=\"stroke:#000000;stroke-width:0.8;\" x=\"82.164062\" xlink:href=\"#m08bc883113\" y=\"163.654125\"/>\r\n      </g>\r\n     </g>\r\n     <g id=\"text_11\">\r\n      <!-- Netflix -->\r\n      <g transform=\"translate(42.614062 167.453344)scale(0.1 -0.1)\">\r\n       <defs>\r\n        <path d=\"M 628 4666 \r\nL 1478 4666 \r\nL 3547 763 \r\nL 3547 4666 \r\nL 4159 4666 \r\nL 4159 0 \r\nL 3309 0 \r\nL 1241 3903 \r\nL 1241 0 \r\nL 628 0 \r\nL 628 4666 \r\nz\r\n\" id=\"DejaVuSans-4e\" transform=\"scale(0.015625)\"/>\r\n        <path d=\"M 2375 4863 \r\nL 2375 4384 \r\nL 1825 4384 \r\nQ 1516 4384 1395 4259 \r\nQ 1275 4134 1275 3809 \r\nL 1275 3500 \r\nL 2222 3500 \r\nL 2222 3053 \r\nL 1275 3053 \r\nL 1275 0 \r\nL 697 0 \r\nL 697 3053 \r\nL 147 3053 \r\nL 147 3500 \r\nL 697 3500 \r\nL 697 3744 \r\nQ 697 4328 969 4595 \r\nQ 1241 4863 1831 4863 \r\nL 2375 4863 \r\nz\r\n\" id=\"DejaVuSans-66\" transform=\"scale(0.015625)\"/>\r\n        <path d=\"M 603 4863 \r\nL 1178 4863 \r\nL 1178 0 \r\nL 603 0 \r\nL 603 4863 \r\nz\r\n\" id=\"DejaVuSans-6c\" transform=\"scale(0.015625)\"/>\r\n        <path d=\"M 3513 3500 \r\nL 2247 1797 \r\nL 3578 0 \r\nL 2900 0 \r\nL 1881 1375 \r\nL 863 0 \r\nL 184 0 \r\nL 1544 1831 \r\nL 300 3500 \r\nL 978 3500 \r\nL 1906 2253 \r\nL 2834 3500 \r\nL 3513 3500 \r\nz\r\n\" id=\"DejaVuSans-78\" transform=\"scale(0.015625)\"/>\r\n       </defs>\r\n       <use xlink:href=\"#DejaVuSans-4e\"/>\r\n       <use x=\"74.804688\" xlink:href=\"#DejaVuSans-65\"/>\r\n       <use x=\"136.328125\" xlink:href=\"#DejaVuSans-74\"/>\r\n       <use x=\"175.537109\" xlink:href=\"#DejaVuSans-66\"/>\r\n       <use x=\"210.742188\" xlink:href=\"#DejaVuSans-6c\"/>\r\n       <use x=\"238.525391\" xlink:href=\"#DejaVuSans-69\"/>\r\n       <use x=\"266.308594\" xlink:href=\"#DejaVuSans-78\"/>\r\n      </g>\r\n     </g>\r\n    </g>\r\n    <g id=\"ytick_5\">\r\n     <g id=\"line2d_12\">\r\n      <g>\r\n       <use style=\"stroke:#000000;stroke-width:0.8;\" x=\"82.164062\" xlink:href=\"#m08bc883113\" y=\"141.910125\"/>\r\n      </g>\r\n     </g>\r\n     <g id=\"text_12\">\r\n      <!-- Action -->\r\n      <g transform=\"translate(43.845312 145.709344)scale(0.1 -0.1)\">\r\n       <defs>\r\n        <path d=\"M 2188 4044 \r\nL 1331 1722 \r\nL 3047 1722 \r\nL 2188 4044 \r\nz\r\nM 1831 4666 \r\nL 2547 4666 \r\nL 4325 0 \r\nL 3669 0 \r\nL 3244 1197 \r\nL 1141 1197 \r\nL 716 0 \r\nL 50 0 \r\nL 1831 4666 \r\nz\r\n\" id=\"DejaVuSans-41\" transform=\"scale(0.015625)\"/>\r\n       </defs>\r\n       <use xlink:href=\"#DejaVuSans-41\"/>\r\n       <use x=\"66.658203\" xlink:href=\"#DejaVuSans-63\"/>\r\n       <use x=\"121.638672\" xlink:href=\"#DejaVuSans-74\"/>\r\n       <use x=\"160.847656\" xlink:href=\"#DejaVuSans-69\"/>\r\n       <use x=\"188.630859\" xlink:href=\"#DejaVuSans-6f\"/>\r\n       <use x=\"249.8125\" xlink:href=\"#DejaVuSans-6e\"/>\r\n      </g>\r\n     </g>\r\n    </g>\r\n    <g id=\"ytick_6\">\r\n     <g id=\"line2d_13\">\r\n      <g>\r\n       <use style=\"stroke:#000000;stroke-width:0.8;\" x=\"82.164062\" xlink:href=\"#m08bc883113\" y=\"120.166125\"/>\r\n      </g>\r\n     </g>\r\n     <g id=\"text_13\">\r\n      <!-- Runtime -->\r\n      <g transform=\"translate(33.398438 123.965344)scale(0.1 -0.1)\">\r\n       <defs>\r\n        <path d=\"M 2841 2188 \r\nQ 3044 2119 3236 1894 \r\nQ 3428 1669 3622 1275 \r\nL 4263 0 \r\nL 3584 0 \r\nL 2988 1197 \r\nQ 2756 1666 2539 1819 \r\nQ 2322 1972 1947 1972 \r\nL 1259 1972 \r\nL 1259 0 \r\nL 628 0 \r\nL 628 4666 \r\nL 2053 4666 \r\nQ 2853 4666 3247 4331 \r\nQ 3641 3997 3641 3322 \r\nQ 3641 2881 3436 2590 \r\nQ 3231 2300 2841 2188 \r\nz\r\nM 1259 4147 \r\nL 1259 2491 \r\nL 2053 2491 \r\nQ 2509 2491 2742 2702 \r\nQ 2975 2913 2975 3322 \r\nQ 2975 3731 2742 3939 \r\nQ 2509 4147 2053 4147 \r\nL 1259 4147 \r\nz\r\n\" id=\"DejaVuSans-52\" transform=\"scale(0.015625)\"/>\r\n        <path d=\"M 544 1381 \r\nL 544 3500 \r\nL 1119 3500 \r\nL 1119 1403 \r\nQ 1119 906 1312 657 \r\nQ 1506 409 1894 409 \r\nQ 2359 409 2629 706 \r\nQ 2900 1003 2900 1516 \r\nL 2900 3500 \r\nL 3475 3500 \r\nL 3475 0 \r\nL 2900 0 \r\nL 2900 538 \r\nQ 2691 219 2414 64 \r\nQ 2138 -91 1772 -91 \r\nQ 1169 -91 856 284 \r\nQ 544 659 544 1381 \r\nz\r\nM 1991 3584 \r\nL 1991 3584 \r\nz\r\n\" id=\"DejaVuSans-75\" transform=\"scale(0.015625)\"/>\r\n        <path d=\"M 3328 2828 \r\nQ 3544 3216 3844 3400 \r\nQ 4144 3584 4550 3584 \r\nQ 5097 3584 5394 3201 \r\nQ 5691 2819 5691 2113 \r\nL 5691 0 \r\nL 5113 0 \r\nL 5113 2094 \r\nQ 5113 2597 4934 2840 \r\nQ 4756 3084 4391 3084 \r\nQ 3944 3084 3684 2787 \r\nQ 3425 2491 3425 1978 \r\nL 3425 0 \r\nL 2847 0 \r\nL 2847 2094 \r\nQ 2847 2600 2669 2842 \r\nQ 2491 3084 2119 3084 \r\nQ 1678 3084 1418 2786 \r\nQ 1159 2488 1159 1978 \r\nL 1159 0 \r\nL 581 0 \r\nL 581 3500 \r\nL 1159 3500 \r\nL 1159 2956 \r\nQ 1356 3278 1631 3431 \r\nQ 1906 3584 2284 3584 \r\nQ 2666 3584 2933 3390 \r\nQ 3200 3197 3328 2828 \r\nz\r\n\" id=\"DejaVuSans-6d\" transform=\"scale(0.015625)\"/>\r\n       </defs>\r\n       <use xlink:href=\"#DejaVuSans-52\"/>\r\n       <use x=\"64.982422\" xlink:href=\"#DejaVuSans-75\"/>\r\n       <use x=\"128.361328\" xlink:href=\"#DejaVuSans-6e\"/>\r\n       <use x=\"191.740234\" xlink:href=\"#DejaVuSans-74\"/>\r\n       <use x=\"230.949219\" xlink:href=\"#DejaVuSans-69\"/>\r\n       <use x=\"258.732422\" xlink:href=\"#DejaVuSans-6d\"/>\r\n       <use x=\"356.144531\" xlink:href=\"#DejaVuSans-65\"/>\r\n      </g>\r\n     </g>\r\n    </g>\r\n    <g id=\"ytick_7\">\r\n     <g id=\"line2d_14\">\r\n      <g>\r\n       <use style=\"stroke:#000000;stroke-width:0.8;\" x=\"82.164062\" xlink:href=\"#m08bc883113\" y=\"98.422125\"/>\r\n      </g>\r\n     </g>\r\n     <g id=\"text_14\">\r\n      <!-- Year -->\r\n      <g transform=\"translate(53.989063 102.221344)scale(0.1 -0.1)\">\r\n       <defs>\r\n        <path d=\"M -13 4666 \r\nL 666 4666 \r\nL 1959 2747 \r\nL 3244 4666 \r\nL 3922 4666 \r\nL 2272 2222 \r\nL 2272 0 \r\nL 1638 0 \r\nL 1638 2222 \r\nL -13 4666 \r\nz\r\n\" id=\"DejaVuSans-59\" transform=\"scale(0.015625)\"/>\r\n        <path d=\"M 2194 1759 \r\nQ 1497 1759 1228 1600 \r\nQ 959 1441 959 1056 \r\nQ 959 750 1161 570 \r\nQ 1363 391 1709 391 \r\nQ 2188 391 2477 730 \r\nQ 2766 1069 2766 1631 \r\nL 2766 1759 \r\nL 2194 1759 \r\nz\r\nM 3341 1997 \r\nL 3341 0 \r\nL 2766 0 \r\nL 2766 531 \r\nQ 2569 213 2275 61 \r\nQ 1981 -91 1556 -91 \r\nQ 1019 -91 701 211 \r\nQ 384 513 384 1019 \r\nQ 384 1609 779 1909 \r\nQ 1175 2209 1959 2209 \r\nL 2766 2209 \r\nL 2766 2266 \r\nQ 2766 2663 2505 2880 \r\nQ 2244 3097 1772 3097 \r\nQ 1472 3097 1187 3025 \r\nQ 903 2953 641 2809 \r\nL 641 3341 \r\nQ 956 3463 1253 3523 \r\nQ 1550 3584 1831 3584 \r\nQ 2591 3584 2966 3190 \r\nQ 3341 2797 3341 1997 \r\nz\r\n\" id=\"DejaVuSans-61\" transform=\"scale(0.015625)\"/>\r\n       </defs>\r\n       <use xlink:href=\"#DejaVuSans-59\"/>\r\n       <use x=\"47.833984\" xlink:href=\"#DejaVuSans-65\"/>\r\n       <use x=\"109.357422\" xlink:href=\"#DejaVuSans-61\"/>\r\n       <use x=\"170.636719\" xlink:href=\"#DejaVuSans-72\"/>\r\n      </g>\r\n     </g>\r\n    </g>\r\n    <g id=\"ytick_8\">\r\n     <g id=\"line2d_15\">\r\n      <g>\r\n       <use style=\"stroke:#000000;stroke-width:0.8;\" x=\"82.164062\" xlink:href=\"#m08bc883113\" y=\"76.678125\"/>\r\n      </g>\r\n     </g>\r\n     <g id=\"text_15\">\r\n      <!-- Drama -->\r\n      <g transform=\"translate(41.35625 80.477344)scale(0.1 -0.1)\">\r\n       <use xlink:href=\"#DejaVuSans-44\"/>\r\n       <use x=\"77.001953\" xlink:href=\"#DejaVuSans-72\"/>\r\n       <use x=\"118.115234\" xlink:href=\"#DejaVuSans-61\"/>\r\n       <use x=\"179.394531\" xlink:href=\"#DejaVuSans-6d\"/>\r\n       <use x=\"276.806641\" xlink:href=\"#DejaVuSans-61\"/>\r\n      </g>\r\n     </g>\r\n    </g>\r\n    <g id=\"ytick_9\">\r\n     <g id=\"line2d_16\">\r\n      <g>\r\n       <use style=\"stroke:#000000;stroke-width:0.8;\" x=\"82.164062\" xlink:href=\"#m08bc883113\" y=\"54.934125\"/>\r\n      </g>\r\n     </g>\r\n     <g id=\"text_16\">\r\n      <!-- Horror -->\r\n      <g transform=\"translate(43.473438 58.733344)scale(0.1 -0.1)\">\r\n       <defs>\r\n        <path d=\"M 628 4666 \r\nL 1259 4666 \r\nL 1259 2753 \r\nL 3553 2753 \r\nL 3553 4666 \r\nL 4184 4666 \r\nL 4184 0 \r\nL 3553 0 \r\nL 3553 2222 \r\nL 1259 2222 \r\nL 1259 0 \r\nL 628 0 \r\nL 628 4666 \r\nz\r\n\" id=\"DejaVuSans-48\" transform=\"scale(0.015625)\"/>\r\n       </defs>\r\n       <use xlink:href=\"#DejaVuSans-48\"/>\r\n       <use x=\"75.195312\" xlink:href=\"#DejaVuSans-6f\"/>\r\n       <use x=\"136.376953\" xlink:href=\"#DejaVuSans-72\"/>\r\n       <use x=\"175.740234\" xlink:href=\"#DejaVuSans-72\"/>\r\n       <use x=\"214.603516\" xlink:href=\"#DejaVuSans-6f\"/>\r\n       <use x=\"275.785156\" xlink:href=\"#DejaVuSans-72\"/>\r\n      </g>\r\n     </g>\r\n    </g>\r\n    <g id=\"ytick_10\">\r\n     <g id=\"line2d_17\">\r\n      <g>\r\n       <use style=\"stroke:#000000;stroke-width:0.8;\" x=\"82.164062\" xlink:href=\"#m08bc883113\" y=\"33.190125\"/>\r\n      </g>\r\n     </g>\r\n     <g id=\"text_17\">\r\n      <!-- Documentary -->\r\n      <g transform=\"translate(7.2 36.989344)scale(0.1 -0.1)\">\r\n       <use xlink:href=\"#DejaVuSans-44\"/>\r\n       <use x=\"77.001953\" xlink:href=\"#DejaVuSans-6f\"/>\r\n       <use x=\"138.183594\" xlink:href=\"#DejaVuSans-63\"/>\r\n       <use x=\"193.164062\" xlink:href=\"#DejaVuSans-75\"/>\r\n       <use x=\"256.542969\" xlink:href=\"#DejaVuSans-6d\"/>\r\n       <use x=\"353.955078\" xlink:href=\"#DejaVuSans-65\"/>\r\n       <use x=\"415.478516\" xlink:href=\"#DejaVuSans-6e\"/>\r\n       <use x=\"478.857422\" xlink:href=\"#DejaVuSans-74\"/>\r\n       <use x=\"518.066406\" xlink:href=\"#DejaVuSans-61\"/>\r\n       <use x=\"579.345703\" xlink:href=\"#DejaVuSans-72\"/>\r\n       <use x=\"620.458984\" xlink:href=\"#DejaVuSans-79\"/>\r\n      </g>\r\n     </g>\r\n    </g>\r\n   </g>\r\n   <g id=\"patch_13\">\r\n    <path d=\"M 82.164062 239.758125 \r\nL 82.164062 22.318125 \r\n\" style=\"fill:none;stroke:#000000;stroke-linecap:square;stroke-linejoin:miter;stroke-width:0.8;\"/>\r\n   </g>\r\n   <g id=\"patch_14\">\r\n    <path d=\"M 416.964063 239.758125 \r\nL 416.964063 22.318125 \r\n\" style=\"fill:none;stroke:#000000;stroke-linecap:square;stroke-linejoin:miter;stroke-width:0.8;\"/>\r\n   </g>\r\n   <g id=\"patch_15\">\r\n    <path d=\"M 82.164062 239.758125 \r\nL 416.964063 239.758125 \r\n\" style=\"fill:none;stroke:#000000;stroke-linecap:square;stroke-linejoin:miter;stroke-width:0.8;\"/>\r\n   </g>\r\n   <g id=\"patch_16\">\r\n    <path d=\"M 82.164062 22.318125 \r\nL 416.964063 22.318125 \r\n\" style=\"fill:none;stroke:#000000;stroke-linecap:square;stroke-linejoin:miter;stroke-width:0.8;\"/>\r\n   </g>\r\n   <g id=\"text_18\">\r\n    <!-- Ridge Regression Coefficients -->\r\n    <g transform=\"translate(160.406875 16.318125)scale(0.12 -0.12)\">\r\n     <defs>\r\n      <path d=\"M 2906 2969 \r\nL 2906 4863 \r\nL 3481 4863 \r\nL 3481 0 \r\nL 2906 0 \r\nL 2906 525 \r\nQ 2725 213 2448 61 \r\nQ 2172 -91 1784 -91 \r\nQ 1150 -91 751 415 \r\nQ 353 922 353 1747 \r\nQ 353 2572 751 3078 \r\nQ 1150 3584 1784 3584 \r\nQ 2172 3584 2448 3432 \r\nQ 2725 3281 2906 2969 \r\nz\r\nM 947 1747 \r\nQ 947 1113 1208 752 \r\nQ 1469 391 1925 391 \r\nQ 2381 391 2643 752 \r\nQ 2906 1113 2906 1747 \r\nQ 2906 2381 2643 2742 \r\nQ 2381 3103 1925 3103 \r\nQ 1469 3103 1208 2742 \r\nQ 947 2381 947 1747 \r\nz\r\n\" id=\"DejaVuSans-64\" transform=\"scale(0.015625)\"/>\r\n      <path d=\"M 2906 1791 \r\nQ 2906 2416 2648 2759 \r\nQ 2391 3103 1925 3103 \r\nQ 1463 3103 1205 2759 \r\nQ 947 2416 947 1791 \r\nQ 947 1169 1205 825 \r\nQ 1463 481 1925 481 \r\nQ 2391 481 2648 825 \r\nQ 2906 1169 2906 1791 \r\nz\r\nM 3481 434 \r\nQ 3481 -459 3084 -895 \r\nQ 2688 -1331 1869 -1331 \r\nQ 1566 -1331 1297 -1286 \r\nQ 1028 -1241 775 -1147 \r\nL 775 -588 \r\nQ 1028 -725 1275 -790 \r\nQ 1522 -856 1778 -856 \r\nQ 2344 -856 2625 -561 \r\nQ 2906 -266 2906 331 \r\nL 2906 616 \r\nQ 2728 306 2450 153 \r\nQ 2172 0 1784 0 \r\nQ 1141 0 747 490 \r\nQ 353 981 353 1791 \r\nQ 353 2603 747 3093 \r\nQ 1141 3584 1784 3584 \r\nQ 2172 3584 2450 3431 \r\nQ 2728 3278 2906 2969 \r\nL 2906 3500 \r\nL 3481 3500 \r\nL 3481 434 \r\nz\r\n\" id=\"DejaVuSans-67\" transform=\"scale(0.015625)\"/>\r\n      <path id=\"DejaVuSans-20\" transform=\"scale(0.015625)\"/>\r\n      <path d=\"M 4122 4306 \r\nL 4122 3641 \r\nQ 3803 3938 3442 4084 \r\nQ 3081 4231 2675 4231 \r\nQ 1875 4231 1450 3742 \r\nQ 1025 3253 1025 2328 \r\nQ 1025 1406 1450 917 \r\nQ 1875 428 2675 428 \r\nQ 3081 428 3442 575 \r\nQ 3803 722 4122 1019 \r\nL 4122 359 \r\nQ 3791 134 3420 21 \r\nQ 3050 -91 2638 -91 \r\nQ 1578 -91 968 557 \r\nQ 359 1206 359 2328 \r\nQ 359 3453 968 4101 \r\nQ 1578 4750 2638 4750 \r\nQ 3056 4750 3426 4639 \r\nQ 3797 4528 4122 4306 \r\nz\r\n\" id=\"DejaVuSans-43\" transform=\"scale(0.015625)\"/>\r\n     </defs>\r\n     <use xlink:href=\"#DejaVuSans-52\"/>\r\n     <use x=\"69.482422\" xlink:href=\"#DejaVuSans-69\"/>\r\n     <use x=\"97.265625\" xlink:href=\"#DejaVuSans-64\"/>\r\n     <use x=\"160.742188\" xlink:href=\"#DejaVuSans-67\"/>\r\n     <use x=\"224.21875\" xlink:href=\"#DejaVuSans-65\"/>\r\n     <use x=\"285.742188\" xlink:href=\"#DejaVuSans-20\"/>\r\n     <use x=\"317.529297\" xlink:href=\"#DejaVuSans-52\"/>\r\n     <use x=\"382.511719\" xlink:href=\"#DejaVuSans-65\"/>\r\n     <use x=\"444.035156\" xlink:href=\"#DejaVuSans-67\"/>\r\n     <use x=\"507.511719\" xlink:href=\"#DejaVuSans-72\"/>\r\n     <use x=\"546.375\" xlink:href=\"#DejaVuSans-65\"/>\r\n     <use x=\"607.898438\" xlink:href=\"#DejaVuSans-73\"/>\r\n     <use x=\"659.998047\" xlink:href=\"#DejaVuSans-73\"/>\r\n     <use x=\"712.097656\" xlink:href=\"#DejaVuSans-69\"/>\r\n     <use x=\"739.880859\" xlink:href=\"#DejaVuSans-6f\"/>\r\n     <use x=\"801.0625\" xlink:href=\"#DejaVuSans-6e\"/>\r\n     <use x=\"864.441406\" xlink:href=\"#DejaVuSans-20\"/>\r\n     <use x=\"896.228516\" xlink:href=\"#DejaVuSans-43\"/>\r\n     <use x=\"966.052734\" xlink:href=\"#DejaVuSans-6f\"/>\r\n     <use x=\"1027.234375\" xlink:href=\"#DejaVuSans-65\"/>\r\n     <use x=\"1088.757812\" xlink:href=\"#DejaVuSans-66\"/>\r\n     <use x=\"1123.962891\" xlink:href=\"#DejaVuSans-66\"/>\r\n     <use x=\"1159.167969\" xlink:href=\"#DejaVuSans-69\"/>\r\n     <use x=\"1186.951172\" xlink:href=\"#DejaVuSans-63\"/>\r\n     <use x=\"1241.931641\" xlink:href=\"#DejaVuSans-69\"/>\r\n     <use x=\"1269.714844\" xlink:href=\"#DejaVuSans-65\"/>\r\n     <use x=\"1331.238281\" xlink:href=\"#DejaVuSans-6e\"/>\r\n     <use x=\"1394.617188\" xlink:href=\"#DejaVuSans-74\"/>\r\n     <use x=\"1433.826172\" xlink:href=\"#DejaVuSans-73\"/>\r\n    </g>\r\n   </g>\r\n  </g>\r\n </g>\r\n <defs>\r\n  <clipPath id=\"pc086cc179c\">\r\n   <rect height=\"217.44\" width=\"334.8\" x=\"82.164062\" y=\"22.318125\"/>\r\n  </clipPath>\r\n </defs>\r\n</svg>\r\n",
      "image/png": "[encoded data removed]"
     },
     "metadata": {
      "needs_background": "light"
     }
    }
   ],
   "source": [
    "#Looks better. graph below shows why longitude matters\n",
    "feat_imp.tail(10).plot(kind='barh')\n",
    "plt.title('Ridge Regression Coefficients')\n",
    "plt.show()"
   ]
  },
  {
   "cell_type": "markdown",
   "metadata": {},
   "source": []
  }
 ],
 "metadata": {
  "kernelspec": {
   "name": "python3",
   "display_name": "Python 3.8.5 64-bit ('DS-Unit-2-Applied-Modeling-OVqDOShY': pipenv)",
   "metadata": {
    "interpreter": {
     "hash": "637f5ef19d08870785413b9778934d3f7e5b756fab82e31250bc7891c28bff72"
    }
   }
  },
  "language_info": {
   "codemirror_mode": {
    "name": "ipython",
    "version": 3
   },
   "file_extension": ".py",
   "mimetype": "text/x-python",
   "name": "python",
   "nbconvert_exporter": "python",
   "pygments_lexer": "ipython3",
   "version": "3.8.5"
  }
 },
 "nbformat": 4,
 "nbformat_minor": 2
}