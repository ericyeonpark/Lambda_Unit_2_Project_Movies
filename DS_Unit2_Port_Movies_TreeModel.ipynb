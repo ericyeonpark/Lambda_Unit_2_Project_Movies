{
 "metadata": {
  "language_info": {
   "codemirror_mode": {
    "name": "ipython",
    "version": 3
   },
   "file_extension": ".py",
   "mimetype": "text/x-python",
   "name": "python",
   "nbconvert_exporter": "python",
   "pygments_lexer": "ipython3",
   "version": "3.8.5"
  },
  "orig_nbformat": 2,
  "kernelspec": {
   "name": "python3",
   "display_name": "Python 3.8.5 64-bit ('DS-Unit-2-Applied-Modeling-OVqDOShY': pipenv)",
   "metadata": {
    "interpreter": {
     "hash": "637f5ef19d08870785413b9778934d3f7e5b756fab82e31250bc7891c28bff72"
    }
   }
  }
 },
 "nbformat": 4,
 "nbformat_minor": 2,
 "cells": [
  {
   "source": [
    "# Import Libraries"
   ],
   "cell_type": "markdown",
   "metadata": {}
  },
  {
   "cell_type": "code",
   "execution_count": 71,
   "metadata": {},
   "outputs": [],
   "source": [
    "# data analysis and wrangling\n",
    "import pandas as pd \n",
    "import numpy as np \n",
    "\n",
    "# visualization\n",
    "import matplotlib.pyplot as plt \n",
    "\n",
    "# encoders\n",
    "from category_encoders import OneHotEncoder, OrdinalEncoder\n",
    "from sklearn.impute import SimpleImputer\n",
    "from sklearn.preprocessing import StandardScaler, FunctionTransformer\n",
    "\n",
    "#metrics\n",
    "from sklearn.model_selection import cross_val_score #k fold cv\n",
    "from sklearn.metrics import roc_curve, accuracy_score, plot_confusion_matrix, classification_report, roc_auc_score, plot_roc_curve, precision_score, recall_score, r2_score, confusion_matrix\n",
    "\n",
    "# model creation\n",
    "from sklearn.model_selection import train_test_split\n",
    "from sklearn.pipeline import make_pipeline \n",
    "from sklearn.tree import DecisionTreeClassifier, plot_tree\n",
    "from sklearn.ensemble import RandomForestClassifier\n",
    "from sklearn.model_selection import GridSearchCV, RandomizedSearchCV \n",
    "\n",
    "#feature importance\n",
    "from xgboost import XGBClassifier"
   ]
  },
  {
   "source": [
    "# Data Wrangling and Exploration"
   ],
   "cell_type": "markdown",
   "metadata": {}
  },
  {
   "cell_type": "code",
   "execution_count": 72,
   "metadata": {},
   "outputs": [],
   "source": [
    "#Create function to import data\n",
    "def wrangle(path):\n",
    "    df = pd.read_csv(path)\n",
    "\n",
    "    #drop null colomns\n",
    "    df.drop('Unnamed: 0', axis = 1, inplace = True) \n",
    "\n",
    "    #drop high null count features\n",
    "    df.drop(columns = ['Rotten Tomatoes', 'Age'], inplace = True)\n",
    "\n",
    "    #drop columns that don't fit with finding what features affect if a show goes on Netflix\n",
    "    df.drop(columns = ['Hulu', 'Prime Video', 'Disney+'], inplace = True)\n",
    "\n",
    "    #drop high cardinality features\n",
    "    high_card_cols = ['Title', 'Directors', 'ID', 'Type']\n",
    "    df.drop(columns = high_card_cols, inplace = True)\n",
    "\n",
    "    #drop_cols = []\n",
    "    return df"
   ]
  },
  {
   "cell_type": "code",
   "execution_count": 73,
   "metadata": {},
   "outputs": [],
   "source": [
    "#Use wrangle function to create dataframe\n",
    "df = wrangle('MoviesOnStreamingPlatforms_updated.csv')\n",
    "\n",
    "pd.set_option('display.max_columns', 100)"
   ]
  },
  {
   "cell_type": "code",
   "execution_count": 74,
   "metadata": {},
   "outputs": [],
   "source": [
    "# df.select_dtypes(include='object').describe()"
   ]
  },
  {
   "cell_type": "code",
   "execution_count": 75,
   "metadata": {},
   "outputs": [],
   "source": [
    "# df.select_dtypes('object').nunique()"
   ]
  },
  {
   "cell_type": "code",
   "execution_count": 76,
   "metadata": {},
   "outputs": [
    {
     "output_type": "stream",
     "name": "stdout",
     "text": [
      "<class 'pandas.core.frame.DataFrame'>\nRangeIndex: 16744 entries, 0 to 16743\nData columns (total 7 columns):\n #   Column    Non-Null Count  Dtype  \n---  ------    --------------  -----  \n 0   Year      16744 non-null  int64  \n 1   IMDb      16173 non-null  float64\n 2   Netflix   16744 non-null  int64  \n 3   Genres    16469 non-null  object \n 4   Country   16309 non-null  object \n 5   Language  16145 non-null  object \n 6   Runtime   16152 non-null  float64\ndtypes: float64(2), int64(2), object(3)\nmemory usage: 915.8+ KB\n"
     ]
    }
   ],
   "source": [
    "df.info()"
   ]
  },
  {
   "cell_type": "code",
   "execution_count": 77,
   "metadata": {},
   "outputs": [
    {
     "output_type": "execute_result",
     "data": {
      "text/plain": [
       "   Year  IMDb  Netflix                            Genres  \\\n",
       "0  2010   8.8        1  Action,Adventure,Sci-Fi,Thriller   \n",
       "1  1999   8.7        1                     Action,Sci-Fi   \n",
       "2  2018   8.5        1           Action,Adventure,Sci-Fi   \n",
       "3  1985   8.5        1           Adventure,Comedy,Sci-Fi   \n",
       "4  1966   8.8        1                           Western   \n",
       "\n",
       "                        Country                 Language  Runtime  \n",
       "0  United States,United Kingdom  English,Japanese,French    148.0  \n",
       "1                 United States                  English    136.0  \n",
       "2                 United States                  English    149.0  \n",
       "3                 United States                  English    116.0  \n",
       "4      Italy,Spain,West Germany                  Italian    161.0  "
      ],
      "text/html": "<div>\n<style scoped>\n    .dataframe tbody tr th:only-of-type {\n        vertical-align: middle;\n    }\n\n    .dataframe tbody tr th {\n        vertical-align: top;\n    }\n\n    .dataframe thead th {\n        text-align: right;\n    }\n</style>\n<table border=\"1\" class=\"dataframe\">\n  <thead>\n    <tr style=\"text-align: right;\">\n      <th></th>\n      <th>Year</th>\n      <th>IMDb</th>\n      <th>Netflix</th>\n      <th>Genres</th>\n      <th>Country</th>\n      <th>Language</th>\n      <th>Runtime</th>\n    </tr>\n  </thead>\n  <tbody>\n    <tr>\n      <th>0</th>\n      <td>2010</td>\n      <td>8.8</td>\n      <td>1</td>\n      <td>Action,Adventure,Sci-Fi,Thriller</td>\n      <td>United States,United Kingdom</td>\n      <td>English,Japanese,French</td>\n      <td>148.0</td>\n    </tr>\n    <tr>\n      <th>1</th>\n      <td>1999</td>\n      <td>8.7</td>\n      <td>1</td>\n      <td>Action,Sci-Fi</td>\n      <td>United States</td>\n      <td>English</td>\n      <td>136.0</td>\n    </tr>\n    <tr>\n      <th>2</th>\n      <td>2018</td>\n      <td>8.5</td>\n      <td>1</td>\n      <td>Action,Adventure,Sci-Fi</td>\n      <td>United States</td>\n      <td>English</td>\n      <td>149.0</td>\n    </tr>\n    <tr>\n      <th>3</th>\n      <td>1985</td>\n      <td>8.5</td>\n      <td>1</td>\n      <td>Adventure,Comedy,Sci-Fi</td>\n      <td>United States</td>\n      <td>English</td>\n      <td>116.0</td>\n    </tr>\n    <tr>\n      <th>4</th>\n      <td>1966</td>\n      <td>8.8</td>\n      <td>1</td>\n      <td>Western</td>\n      <td>Italy,Spain,West Germany</td>\n      <td>Italian</td>\n      <td>161.0</td>\n    </tr>\n  </tbody>\n</table>\n</div>"
     },
     "metadata": {},
     "execution_count": 77
    }
   ],
   "source": [
    "df.head()"
   ]
  },
  {
   "cell_type": "code",
   "execution_count": 78,
   "metadata": {},
   "outputs": [
    {
     "output_type": "execute_result",
     "data": {
      "text/plain": [
       "0    13184\n",
       "1     3560\n",
       "Name: Netflix, dtype: int64"
      ]
     },
     "metadata": {},
     "execution_count": 78
    }
   ],
   "source": [
    "df['Netflix'].value_counts()"
   ]
  },
  {
   "source": [
    "# Categorical Observation Clean-up"
   ],
   "cell_type": "markdown",
   "metadata": {}
  },
  {
   "source": [
    "- Features 'Language', 'Genre', 'Country' have some observations with multiple values (e.g. Country could contain observation of 'Mexico,South Korea,Colombia')\n",
    "- Goal is to convert observation to binary values of each country (e.g. 'Mexico,South Korea,Colombia' would add 1 to a Mexico feature, South Korea feature, Columbia feature)"
   ],
   "cell_type": "markdown",
   "metadata": {}
  },
  {
   "source": [
    "### Language Expanding"
   ],
   "cell_type": "markdown",
   "metadata": {}
  },
  {
   "cell_type": "code",
   "execution_count": 79,
   "metadata": {},
   "outputs": [],
   "source": [
    "def col_lang(df, df2, df_orig):\n",
    "    #use get_dummies to convert values into column names\n",
    "    df_dum = pd.get_dummies(df)\n",
    "\n",
    "    #drop any columns that contain a comma since that contains mult languages\n",
    "    for col in df_dum.columns:\n",
    "        if ',' in col:\n",
    "            df_dum.drop(columns = col, inplace = True)\n",
    "\n",
    "    #remove Language_ copy from column name\n",
    "    df_dum.columns = df_dum.columns.str.replace('Language_', '')\n",
    "    \n",
    "    #concat the Language feature from the original df to this df\n",
    "    df_final = pd.concat([df2, df_dum], axis=1)\n",
    "    \n",
    "    # fill 'Language' col with na values with string copy so it can be iterable\n",
    "    df_final['Language'] = df_final['Language'].fillna('None Provided')\n",
    "\n",
    "    # iterate over column names to fill values with 1 and 0 based on 'Language'\n",
    "    for col in df_final.columns[1:]:\n",
    "        for i, value in enumerate(df_final['Language'].values):\n",
    "            if col in value:\n",
    "                df_final[col].values[i] = 1\n",
    "            else: \n",
    "                df_final[col].values[i] = 0\n",
    "\n",
    "    # drop duplicate values in df_lang so merge doesn't become huge\n",
    "    df_final.drop_duplicates(inplace = True)\n",
    "\n",
    "    # merge df_final with original  \n",
    "    df_orig = df_orig.merge(df_final, how = 'left', on = 'Language')\n",
    "    df_orig.drop(columns = 'Language', inplace = True)\n",
    "\n",
    "    return df_orig"
   ]
  },
  {
   "source": [
    "### Country Expanding"
   ],
   "cell_type": "markdown",
   "metadata": {}
  },
  {
   "cell_type": "code",
   "execution_count": 80,
   "metadata": {},
   "outputs": [],
   "source": [
    "def col_country(df, df2, df_orig):\n",
    "    #use get_dummies to convert values into column names\n",
    "    df_dum = pd.get_dummies(df)\n",
    "\n",
    "    #drop any columns that contain a comma since that contains mult coutries\n",
    "    for col in df_dum.columns:\n",
    "        if ',' in col:\n",
    "            df_dum.drop(columns = col, inplace = True)\n",
    "\n",
    "    #remove Country_ copy from column name\n",
    "    df_dum.columns = df_dum.columns.str.replace('Country_', '')\n",
    "    \n",
    "    #concat the Country feature from the original df to this df\n",
    "    df_final = pd.concat([df2, df_dum], axis=1)\n",
    "    \n",
    "    # fill 'Country' col with na values with string copy so it can be iterable\n",
    "    df_final['Country'] = df_final['Country'].fillna('None Provided')\n",
    "\n",
    "    # iterate over column names to fill values with 1 and 0 based on 'Country'\n",
    "    for col in df_final.columns[1:]:\n",
    "        for i, value in enumerate(df_final['Country'].values):\n",
    "            if col in value:\n",
    "                df_final[col].values[i] = 1\n",
    "            else: \n",
    "                df_final[col].values[i] = 0\n",
    "\n",
    "    # drop duplicate values in df_final so merge doesn't become huge\n",
    "    df_final.drop_duplicates(inplace = True)\n",
    "\n",
    "    # merge df_final with original  \n",
    "    df_orig = df_orig.merge(df_final, how = 'left', on = 'Country')\n",
    "    df_orig.drop(columns = 'Country', inplace = True)\n",
    "\n",
    "    return df_orig"
   ]
  },
  {
   "source": [
    "### Genres Expanding"
   ],
   "cell_type": "markdown",
   "metadata": {}
  },
  {
   "cell_type": "code",
   "execution_count": 81,
   "metadata": {},
   "outputs": [],
   "source": [
    "def col_genres(df, df2, df_orig):\n",
    "    #use get_dummies to convert values into column names\n",
    "    df_dum = pd.get_dummies(df)\n",
    "\n",
    "    #drop any columns that contain a comma since that contains mult genres\n",
    "    for col in df_dum.columns:\n",
    "        if ',' in col:\n",
    "            df_dum.drop(columns = col, inplace = True)\n",
    "\n",
    "    #remove Genres_ copy from column name\n",
    "    df_dum.columns = df_dum.columns.str.replace('Genres_', '')\n",
    "    \n",
    "    #concat the Genres feature from the original df to this df\n",
    "    df_final = pd.concat([df2, df_dum], axis=1)\n",
    "    \n",
    "    # fill 'Genres' col with na values with string copy so it can be iterable\n",
    "    df_final['Genres'] = df_final['Genres'].fillna('None Provided')\n",
    "\n",
    "    # iterate over column names to fill values with 1 and 0 based on 'Genres'\n",
    "    for col in df_final.columns[1:]:\n",
    "        for i, value in enumerate(df_final['Genres'].values):\n",
    "            if col in value:\n",
    "                df_final[col].values[i] = 1\n",
    "            else: \n",
    "                df_final[col].values[i] = 0\n",
    "\n",
    "    # drop duplicate values in df_final so merge doesn't become huge\n",
    "    df_final.drop_duplicates(inplace = True)\n",
    "\n",
    "    # merge df_final with original  \n",
    "    df_orig = df_orig.merge(df_final, how = 'left', on = 'Genres')\n",
    "    df_orig.drop(columns = 'Genres', inplace = True)\n",
    "\n",
    "    return df_orig"
   ]
  },
  {
   "cell_type": "code",
   "execution_count": 82,
   "metadata": {},
   "outputs": [],
   "source": [
    "#Expand language, country, and genres column in original dataframe for modeling\n",
    "df = col_lang(df[['Language']], df[['Language']], df)\n",
    "df = col_country(df[['Country']], df[['Country']], df)\n",
    "df = col_genres(df[['Genres']], df[['Genres']], df)"
   ]
  },
  {
   "cell_type": "code",
   "execution_count": 83,
   "metadata": {},
   "outputs": [
    {
     "output_type": "execute_result",
     "data": {
      "text/plain": [
       "   Year  IMDb  Netflix  Runtime  Afrikaans  Akan  Albanian  Arabic  Assamese  \\\n",
       "0  2010   8.8        1    148.0        0.0   0.0       0.0     0.0       0.0   \n",
       "1  1999   8.7        1    136.0        0.0   0.0       0.0     0.0       0.0   \n",
       "2  2018   8.5        1    149.0        0.0   0.0       0.0     0.0       0.0   \n",
       "3  1985   8.5        1    116.0        0.0   0.0       0.0     0.0       0.0   \n",
       "4  1966   8.8        1    161.0        0.0   0.0       0.0     0.0       0.0   \n",
       "\n",
       "   Azerbaijani  Basque  Bengali  Bhojpuri  Bosnian  Brazilian Sign Language  \\\n",
       "0          0.0     0.0      0.0       0.0      0.0                      0.0   \n",
       "1          0.0     0.0      0.0       0.0      0.0                      0.0   \n",
       "2          0.0     0.0      0.0       0.0      0.0                      0.0   \n",
       "3          0.0     0.0      0.0       0.0      0.0                      0.0   \n",
       "4          0.0     0.0      0.0       0.0      0.0                      0.0   \n",
       "\n",
       "   Bulgarian  Cantonese  Catalan  Chinese  Croatian  Czech  Danish  Dari  \\\n",
       "0        0.0        0.0      0.0      0.0       0.0    0.0     0.0   0.0   \n",
       "1        0.0        0.0      0.0      0.0       0.0    0.0     0.0   0.0   \n",
       "2        0.0        0.0      0.0      0.0       0.0    0.0     0.0   0.0   \n",
       "3        0.0        0.0      0.0      0.0       0.0    0.0     0.0   0.0   \n",
       "4        0.0        0.0      0.0      0.0       0.0    0.0     0.0   0.0   \n",
       "\n",
       "   Dutch  English  Estonian  Filipino  Finnish  French  Georgian  German  \\\n",
       "0    0.0      1.0       0.0       0.0      0.0     1.0       0.0     0.0   \n",
       "1    0.0      1.0       0.0       0.0      0.0     0.0       0.0     0.0   \n",
       "2    0.0      1.0       0.0       0.0      0.0     0.0       0.0     0.0   \n",
       "3    0.0      1.0       0.0       0.0      0.0     0.0       0.0     0.0   \n",
       "4    0.0      0.0       0.0       0.0      0.0     0.0       0.0     0.0   \n",
       "\n",
       "   Greek  Gujarati  Hebrew  Hindi  Hungarian  Icelandic  Indonesian  Italian  \\\n",
       "0    0.0       0.0     0.0    0.0        0.0        0.0         0.0      0.0   \n",
       "1    0.0       0.0     0.0    0.0        0.0        0.0         0.0      0.0   \n",
       "2    0.0       0.0     0.0    0.0        0.0        0.0         0.0      0.0   \n",
       "3    0.0       0.0     0.0    0.0        0.0        0.0         0.0      0.0   \n",
       "4    0.0       0.0     0.0    0.0        0.0        0.0         0.0      1.0   \n",
       "\n",
       "   Japanese  Kannada  Kinyarwanda  Kirghiz  Korean  Latin  Latvian  \\\n",
       "0       1.0      0.0          0.0      0.0     0.0    0.0      0.0   \n",
       "1       0.0      0.0          0.0      0.0     0.0    0.0      0.0   \n",
       "2       0.0      0.0          0.0      0.0     0.0    0.0      0.0   \n",
       "3       0.0      0.0          0.0      0.0     0.0    0.0      0.0   \n",
       "4       0.0      0.0          0.0      0.0     0.0    0.0      0.0   \n",
       "\n",
       "   Macedonian  Malay  Malayalam  Mandarin  ...  Russia  Saudi Arabia  Serbia  \\\n",
       "0         0.0    0.0        0.0       0.0  ...     0.0           0.0     0.0   \n",
       "1         0.0    0.0        0.0       0.0  ...     0.0           0.0     0.0   \n",
       "2         0.0    0.0        0.0       0.0  ...     0.0           0.0     0.0   \n",
       "3         0.0    0.0        0.0       0.0  ...     0.0           0.0     0.0   \n",
       "4         0.0    0.0        0.0       0.0  ...     0.0           0.0     0.0   \n",
       "\n",
       "   Singapore  South Africa  South Korea  Soviet Union  Spain  Sri Lanka  \\\n",
       "0        0.0           0.0          0.0           0.0    0.0        0.0   \n",
       "1        0.0           0.0          0.0           0.0    0.0        0.0   \n",
       "2        0.0           0.0          0.0           0.0    0.0        0.0   \n",
       "3        0.0           0.0          0.0           0.0    0.0        0.0   \n",
       "4        0.0           0.0          0.0           0.0    1.0        0.0   \n",
       "\n",
       "   Sweden  Switzerland  Taiwan  Thailand  Trinidad and Tobago  Turkey  \\\n",
       "0     0.0          0.0     0.0       0.0                  0.0     0.0   \n",
       "1     0.0          0.0     0.0       0.0                  0.0     0.0   \n",
       "2     0.0          0.0     0.0       0.0                  0.0     0.0   \n",
       "3     0.0          0.0     0.0       0.0                  0.0     0.0   \n",
       "4     0.0          0.0     0.0       0.0                  0.0     0.0   \n",
       "\n",
       "   U.S. Virgin Islands  Ukraine  United Arab Emirates  United Kingdom  \\\n",
       "0                  0.0      0.0                   0.0             1.0   \n",
       "1                  0.0      0.0                   0.0             0.0   \n",
       "2                  0.0      0.0                   0.0             0.0   \n",
       "3                  0.0      0.0                   0.0             0.0   \n",
       "4                  0.0      0.0                   0.0             0.0   \n",
       "\n",
       "   United States  Uruguay  Venezuela  West Germany  Yugoslavia  Action  \\\n",
       "0            1.0      0.0        0.0           0.0         0.0     1.0   \n",
       "1            1.0      0.0        0.0           0.0         0.0     1.0   \n",
       "2            1.0      0.0        0.0           0.0         0.0     1.0   \n",
       "3            1.0      0.0        0.0           0.0         0.0     0.0   \n",
       "4            0.0      0.0        0.0           1.0         0.0     0.0   \n",
       "\n",
       "   Adventure  Animation  Biography  Comedy  Crime  Documentary  Drama  Family  \\\n",
       "0        1.0        0.0        0.0     0.0    0.0          0.0    0.0     0.0   \n",
       "1        0.0        0.0        0.0     0.0    0.0          0.0    0.0     0.0   \n",
       "2        1.0        0.0        0.0     0.0    0.0          0.0    0.0     0.0   \n",
       "3        1.0        0.0        0.0     1.0    0.0          0.0    0.0     0.0   \n",
       "4        0.0        0.0        0.0     0.0    0.0          0.0    0.0     0.0   \n",
       "\n",
       "   Fantasy  Game-Show  History  Horror  Music  Musical  Mystery  News  \\\n",
       "0      0.0        0.0      0.0     0.0    0.0      0.0      0.0   0.0   \n",
       "1      0.0        0.0      0.0     0.0    0.0      0.0      0.0   0.0   \n",
       "2      0.0        0.0      0.0     0.0    0.0      0.0      0.0   0.0   \n",
       "3      0.0        0.0      0.0     0.0    0.0      0.0      0.0   0.0   \n",
       "4      0.0        0.0      0.0     0.0    0.0      0.0      0.0   0.0   \n",
       "\n",
       "   Reality-TV  Romance  Sci-Fi  Short  Sport  Talk-Show  Thriller  War  \\\n",
       "0         0.0      0.0     1.0    0.0    0.0        0.0       1.0  0.0   \n",
       "1         0.0      0.0     1.0    0.0    0.0        0.0       0.0  0.0   \n",
       "2         0.0      0.0     1.0    0.0    0.0        0.0       0.0  0.0   \n",
       "3         0.0      0.0     1.0    0.0    0.0        0.0       0.0  0.0   \n",
       "4         0.0      0.0     0.0    0.0    0.0        0.0       0.0  0.0   \n",
       "\n",
       "   Western  \n",
       "0      0.0  \n",
       "1      0.0  \n",
       "2      0.0  \n",
       "3      0.0  \n",
       "4      1.0  \n",
       "\n",
       "[5 rows x 201 columns]"
      ],
      "text/html": "<div>\n<style scoped>\n    .dataframe tbody tr th:only-of-type {\n        vertical-align: middle;\n    }\n\n    .dataframe tbody tr th {\n        vertical-align: top;\n    }\n\n    .dataframe thead th {\n        text-align: right;\n    }\n</style>\n<table border=\"1\" class=\"dataframe\">\n  <thead>\n    <tr style=\"text-align: right;\">\n      <th></th>\n      <th>Year</th>\n      <th>IMDb</th>\n      <th>Netflix</th>\n      <th>Runtime</th>\n      <th>Afrikaans</th>\n      <th>Akan</th>\n      <th>Albanian</th>\n      <th>Arabic</th>\n      <th>Assamese</th>\n      <th>Azerbaijani</th>\n      <th>Basque</th>\n      <th>Bengali</th>\n      <th>Bhojpuri</th>\n      <th>Bosnian</th>\n      <th>Brazilian Sign Language</th>\n      <th>Bulgarian</th>\n      <th>Cantonese</th>\n      <th>Catalan</th>\n      <th>Chinese</th>\n      <th>Croatian</th>\n      <th>Czech</th>\n      <th>Danish</th>\n      <th>Dari</th>\n      <th>Dutch</th>\n      <th>English</th>\n      <th>Estonian</th>\n      <th>Filipino</th>\n      <th>Finnish</th>\n      <th>French</th>\n      <th>Georgian</th>\n      <th>German</th>\n      <th>Greek</th>\n      <th>Gujarati</th>\n      <th>Hebrew</th>\n      <th>Hindi</th>\n      <th>Hungarian</th>\n      <th>Icelandic</th>\n      <th>Indonesian</th>\n      <th>Italian</th>\n      <th>Japanese</th>\n      <th>Kannada</th>\n      <th>Kinyarwanda</th>\n      <th>Kirghiz</th>\n      <th>Korean</th>\n      <th>Latin</th>\n      <th>Latvian</th>\n      <th>Macedonian</th>\n      <th>Malay</th>\n      <th>Malayalam</th>\n      <th>Mandarin</th>\n      <th>...</th>\n      <th>Russia</th>\n      <th>Saudi Arabia</th>\n      <th>Serbia</th>\n      <th>Singapore</th>\n      <th>South Africa</th>\n      <th>South Korea</th>\n      <th>Soviet Union</th>\n      <th>Spain</th>\n      <th>Sri Lanka</th>\n      <th>Sweden</th>\n      <th>Switzerland</th>\n      <th>Taiwan</th>\n      <th>Thailand</th>\n      <th>Trinidad and Tobago</th>\n      <th>Turkey</th>\n      <th>U.S. Virgin Islands</th>\n      <th>Ukraine</th>\n      <th>United Arab Emirates</th>\n      <th>United Kingdom</th>\n      <th>United States</th>\n      <th>Uruguay</th>\n      <th>Venezuela</th>\n      <th>West Germany</th>\n      <th>Yugoslavia</th>\n      <th>Action</th>\n      <th>Adventure</th>\n      <th>Animation</th>\n      <th>Biography</th>\n      <th>Comedy</th>\n      <th>Crime</th>\n      <th>Documentary</th>\n      <th>Drama</th>\n      <th>Family</th>\n      <th>Fantasy</th>\n      <th>Game-Show</th>\n      <th>History</th>\n      <th>Horror</th>\n      <th>Music</th>\n      <th>Musical</th>\n      <th>Mystery</th>\n      <th>News</th>\n      <th>Reality-TV</th>\n      <th>Romance</th>\n      <th>Sci-Fi</th>\n      <th>Short</th>\n      <th>Sport</th>\n      <th>Talk-Show</th>\n      <th>Thriller</th>\n      <th>War</th>\n      <th>Western</th>\n    </tr>\n  </thead>\n  <tbody>\n    <tr>\n      <th>0</th>\n      <td>2010</td>\n      <td>8.8</td>\n      <td>1</td>\n      <td>148.0</td>\n      <td>0.0</td>\n      <td>0.0</td>\n      <td>0.0</td>\n      <td>0.0</td>\n      <td>0.0</td>\n      <td>0.0</td>\n      <td>0.0</td>\n      <td>0.0</td>\n      <td>0.0</td>\n      <td>0.0</td>\n      <td>0.0</td>\n      <td>0.0</td>\n      <td>0.0</td>\n      <td>0.0</td>\n      <td>0.0</td>\n      <td>0.0</td>\n      <td>0.0</td>\n      <td>0.0</td>\n      <td>0.0</td>\n      <td>0.0</td>\n      <td>1.0</td>\n      <td>0.0</td>\n      <td>0.0</td>\n      <td>0.0</td>\n      <td>1.0</td>\n      <td>0.0</td>\n      <td>0.0</td>\n      <td>0.0</td>\n      <td>0.0</td>\n      <td>0.0</td>\n      <td>0.0</td>\n      <td>0.0</td>\n      <td>0.0</td>\n      <td>0.0</td>\n      <td>0.0</td>\n      <td>1.0</td>\n      <td>0.0</td>\n      <td>0.0</td>\n      <td>0.0</td>\n      <td>0.0</td>\n      <td>0.0</td>\n      <td>0.0</td>\n      <td>0.0</td>\n      <td>0.0</td>\n      <td>0.0</td>\n      <td>0.0</td>\n      <td>...</td>\n      <td>0.0</td>\n      <td>0.0</td>\n      <td>0.0</td>\n      <td>0.0</td>\n      <td>0.0</td>\n      <td>0.0</td>\n      <td>0.0</td>\n      <td>0.0</td>\n      <td>0.0</td>\n      <td>0.0</td>\n      <td>0.0</td>\n      <td>0.0</td>\n      <td>0.0</td>\n      <td>0.0</td>\n      <td>0.0</td>\n      <td>0.0</td>\n      <td>0.0</td>\n      <td>0.0</td>\n      <td>1.0</td>\n      <td>1.0</td>\n      <td>0.0</td>\n      <td>0.0</td>\n      <td>0.0</td>\n      <td>0.0</td>\n      <td>1.0</td>\n      <td>1.0</td>\n      <td>0.0</td>\n      <td>0.0</td>\n      <td>0.0</td>\n      <td>0.0</td>\n      <td>0.0</td>\n      <td>0.0</td>\n      <td>0.0</td>\n      <td>0.0</td>\n      <td>0.0</td>\n      <td>0.0</td>\n      <td>0.0</td>\n      <td>0.0</td>\n      <td>0.0</td>\n      <td>0.0</td>\n      <td>0.0</td>\n      <td>0.0</td>\n      <td>0.0</td>\n      <td>1.0</td>\n      <td>0.0</td>\n      <td>0.0</td>\n      <td>0.0</td>\n      <td>1.0</td>\n      <td>0.0</td>\n      <td>0.0</td>\n    </tr>\n    <tr>\n      <th>1</th>\n      <td>1999</td>\n      <td>8.7</td>\n      <td>1</td>\n      <td>136.0</td>\n      <td>0.0</td>\n      <td>0.0</td>\n      <td>0.0</td>\n      <td>0.0</td>\n      <td>0.0</td>\n      <td>0.0</td>\n      <td>0.0</td>\n      <td>0.0</td>\n      <td>0.0</td>\n      <td>0.0</td>\n      <td>0.0</td>\n      <td>0.0</td>\n      <td>0.0</td>\n      <td>0.0</td>\n      <td>0.0</td>\n      <td>0.0</td>\n      <td>0.0</td>\n      <td>0.0</td>\n      <td>0.0</td>\n      <td>0.0</td>\n      <td>1.0</td>\n      <td>0.0</td>\n      <td>0.0</td>\n      <td>0.0</td>\n      <td>0.0</td>\n      <td>0.0</td>\n      <td>0.0</td>\n      <td>0.0</td>\n      <td>0.0</td>\n      <td>0.0</td>\n      <td>0.0</td>\n      <td>0.0</td>\n      <td>0.0</td>\n      <td>0.0</td>\n      <td>0.0</td>\n      <td>0.0</td>\n      <td>0.0</td>\n      <td>0.0</td>\n      <td>0.0</td>\n      <td>0.0</td>\n      <td>0.0</td>\n      <td>0.0</td>\n      <td>0.0</td>\n      <td>0.0</td>\n      <td>0.0</td>\n      <td>0.0</td>\n      <td>...</td>\n      <td>0.0</td>\n      <td>0.0</td>\n      <td>0.0</td>\n      <td>0.0</td>\n      <td>0.0</td>\n      <td>0.0</td>\n      <td>0.0</td>\n      <td>0.0</td>\n      <td>0.0</td>\n      <td>0.0</td>\n      <td>0.0</td>\n      <td>0.0</td>\n      <td>0.0</td>\n      <td>0.0</td>\n      <td>0.0</td>\n      <td>0.0</td>\n      <td>0.0</td>\n      <td>0.0</td>\n      <td>0.0</td>\n      <td>1.0</td>\n      <td>0.0</td>\n      <td>0.0</td>\n      <td>0.0</td>\n      <td>0.0</td>\n      <td>1.0</td>\n      <td>0.0</td>\n      <td>0.0</td>\n      <td>0.0</td>\n      <td>0.0</td>\n      <td>0.0</td>\n      <td>0.0</td>\n      <td>0.0</td>\n      <td>0.0</td>\n      <td>0.0</td>\n      <td>0.0</td>\n      <td>0.0</td>\n      <td>0.0</td>\n      <td>0.0</td>\n      <td>0.0</td>\n      <td>0.0</td>\n      <td>0.0</td>\n      <td>0.0</td>\n      <td>0.0</td>\n      <td>1.0</td>\n      <td>0.0</td>\n      <td>0.0</td>\n      <td>0.0</td>\n      <td>0.0</td>\n      <td>0.0</td>\n      <td>0.0</td>\n    </tr>\n    <tr>\n      <th>2</th>\n      <td>2018</td>\n      <td>8.5</td>\n      <td>1</td>\n      <td>149.0</td>\n      <td>0.0</td>\n      <td>0.0</td>\n      <td>0.0</td>\n      <td>0.0</td>\n      <td>0.0</td>\n      <td>0.0</td>\n      <td>0.0</td>\n      <td>0.0</td>\n      <td>0.0</td>\n      <td>0.0</td>\n      <td>0.0</td>\n      <td>0.0</td>\n      <td>0.0</td>\n      <td>0.0</td>\n      <td>0.0</td>\n      <td>0.0</td>\n      <td>0.0</td>\n      <td>0.0</td>\n      <td>0.0</td>\n      <td>0.0</td>\n      <td>1.0</td>\n      <td>0.0</td>\n      <td>0.0</td>\n      <td>0.0</td>\n      <td>0.0</td>\n      <td>0.0</td>\n      <td>0.0</td>\n      <td>0.0</td>\n      <td>0.0</td>\n      <td>0.0</td>\n      <td>0.0</td>\n      <td>0.0</td>\n      <td>0.0</td>\n      <td>0.0</td>\n      <td>0.0</td>\n      <td>0.0</td>\n      <td>0.0</td>\n      <td>0.0</td>\n      <td>0.0</td>\n      <td>0.0</td>\n      <td>0.0</td>\n      <td>0.0</td>\n      <td>0.0</td>\n      <td>0.0</td>\n      <td>0.0</td>\n      <td>0.0</td>\n      <td>...</td>\n      <td>0.0</td>\n      <td>0.0</td>\n      <td>0.0</td>\n      <td>0.0</td>\n      <td>0.0</td>\n      <td>0.0</td>\n      <td>0.0</td>\n      <td>0.0</td>\n      <td>0.0</td>\n      <td>0.0</td>\n      <td>0.0</td>\n      <td>0.0</td>\n      <td>0.0</td>\n      <td>0.0</td>\n      <td>0.0</td>\n      <td>0.0</td>\n      <td>0.0</td>\n      <td>0.0</td>\n      <td>0.0</td>\n      <td>1.0</td>\n      <td>0.0</td>\n      <td>0.0</td>\n      <td>0.0</td>\n      <td>0.0</td>\n      <td>1.0</td>\n      <td>1.0</td>\n      <td>0.0</td>\n      <td>0.0</td>\n      <td>0.0</td>\n      <td>0.0</td>\n      <td>0.0</td>\n      <td>0.0</td>\n      <td>0.0</td>\n      <td>0.0</td>\n      <td>0.0</td>\n      <td>0.0</td>\n      <td>0.0</td>\n      <td>0.0</td>\n      <td>0.0</td>\n      <td>0.0</td>\n      <td>0.0</td>\n      <td>0.0</td>\n      <td>0.0</td>\n      <td>1.0</td>\n      <td>0.0</td>\n      <td>0.0</td>\n      <td>0.0</td>\n      <td>0.0</td>\n      <td>0.0</td>\n      <td>0.0</td>\n    </tr>\n    <tr>\n      <th>3</th>\n      <td>1985</td>\n      <td>8.5</td>\n      <td>1</td>\n      <td>116.0</td>\n      <td>0.0</td>\n      <td>0.0</td>\n      <td>0.0</td>\n      <td>0.0</td>\n      <td>0.0</td>\n      <td>0.0</td>\n      <td>0.0</td>\n      <td>0.0</td>\n      <td>0.0</td>\n      <td>0.0</td>\n      <td>0.0</td>\n      <td>0.0</td>\n      <td>0.0</td>\n      <td>0.0</td>\n      <td>0.0</td>\n      <td>0.0</td>\n      <td>0.0</td>\n      <td>0.0</td>\n      <td>0.0</td>\n      <td>0.0</td>\n      <td>1.0</td>\n      <td>0.0</td>\n      <td>0.0</td>\n      <td>0.0</td>\n      <td>0.0</td>\n      <td>0.0</td>\n      <td>0.0</td>\n      <td>0.0</td>\n      <td>0.0</td>\n      <td>0.0</td>\n      <td>0.0</td>\n      <td>0.0</td>\n      <td>0.0</td>\n      <td>0.0</td>\n      <td>0.0</td>\n      <td>0.0</td>\n      <td>0.0</td>\n      <td>0.0</td>\n      <td>0.0</td>\n      <td>0.0</td>\n      <td>0.0</td>\n      <td>0.0</td>\n      <td>0.0</td>\n      <td>0.0</td>\n      <td>0.0</td>\n      <td>0.0</td>\n      <td>...</td>\n      <td>0.0</td>\n      <td>0.0</td>\n      <td>0.0</td>\n      <td>0.0</td>\n      <td>0.0</td>\n      <td>0.0</td>\n      <td>0.0</td>\n      <td>0.0</td>\n      <td>0.0</td>\n      <td>0.0</td>\n      <td>0.0</td>\n      <td>0.0</td>\n      <td>0.0</td>\n      <td>0.0</td>\n      <td>0.0</td>\n      <td>0.0</td>\n      <td>0.0</td>\n      <td>0.0</td>\n      <td>0.0</td>\n      <td>1.0</td>\n      <td>0.0</td>\n      <td>0.0</td>\n      <td>0.0</td>\n      <td>0.0</td>\n      <td>0.0</td>\n      <td>1.0</td>\n      <td>0.0</td>\n      <td>0.0</td>\n      <td>1.0</td>\n      <td>0.0</td>\n      <td>0.0</td>\n      <td>0.0</td>\n      <td>0.0</td>\n      <td>0.0</td>\n      <td>0.0</td>\n      <td>0.0</td>\n      <td>0.0</td>\n      <td>0.0</td>\n      <td>0.0</td>\n      <td>0.0</td>\n      <td>0.0</td>\n      <td>0.0</td>\n      <td>0.0</td>\n      <td>1.0</td>\n      <td>0.0</td>\n      <td>0.0</td>\n      <td>0.0</td>\n      <td>0.0</td>\n      <td>0.0</td>\n      <td>0.0</td>\n    </tr>\n    <tr>\n      <th>4</th>\n      <td>1966</td>\n      <td>8.8</td>\n      <td>1</td>\n      <td>161.0</td>\n      <td>0.0</td>\n      <td>0.0</td>\n      <td>0.0</td>\n      <td>0.0</td>\n      <td>0.0</td>\n      <td>0.0</td>\n      <td>0.0</td>\n      <td>0.0</td>\n      <td>0.0</td>\n      <td>0.0</td>\n      <td>0.0</td>\n      <td>0.0</td>\n      <td>0.0</td>\n      <td>0.0</td>\n      <td>0.0</td>\n      <td>0.0</td>\n      <td>0.0</td>\n      <td>0.0</td>\n      <td>0.0</td>\n      <td>0.0</td>\n      <td>0.0</td>\n      <td>0.0</td>\n      <td>0.0</td>\n      <td>0.0</td>\n      <td>0.0</td>\n      <td>0.0</td>\n      <td>0.0</td>\n      <td>0.0</td>\n      <td>0.0</td>\n      <td>0.0</td>\n      <td>0.0</td>\n      <td>0.0</td>\n      <td>0.0</td>\n      <td>0.0</td>\n      <td>1.0</td>\n      <td>0.0</td>\n      <td>0.0</td>\n      <td>0.0</td>\n      <td>0.0</td>\n      <td>0.0</td>\n      <td>0.0</td>\n      <td>0.0</td>\n      <td>0.0</td>\n      <td>0.0</td>\n      <td>0.0</td>\n      <td>0.0</td>\n      <td>...</td>\n      <td>0.0</td>\n      <td>0.0</td>\n      <td>0.0</td>\n      <td>0.0</td>\n      <td>0.0</td>\n      <td>0.0</td>\n      <td>0.0</td>\n      <td>1.0</td>\n      <td>0.0</td>\n      <td>0.0</td>\n      <td>0.0</td>\n      <td>0.0</td>\n      <td>0.0</td>\n      <td>0.0</td>\n      <td>0.0</td>\n      <td>0.0</td>\n      <td>0.0</td>\n      <td>0.0</td>\n      <td>0.0</td>\n      <td>0.0</td>\n      <td>0.0</td>\n      <td>0.0</td>\n      <td>1.0</td>\n      <td>0.0</td>\n      <td>0.0</td>\n      <td>0.0</td>\n      <td>0.0</td>\n      <td>0.0</td>\n      <td>0.0</td>\n      <td>0.0</td>\n      <td>0.0</td>\n      <td>0.0</td>\n      <td>0.0</td>\n      <td>0.0</td>\n      <td>0.0</td>\n      <td>0.0</td>\n      <td>0.0</td>\n      <td>0.0</td>\n      <td>0.0</td>\n      <td>0.0</td>\n      <td>0.0</td>\n      <td>0.0</td>\n      <td>0.0</td>\n      <td>0.0</td>\n      <td>0.0</td>\n      <td>0.0</td>\n      <td>0.0</td>\n      <td>0.0</td>\n      <td>0.0</td>\n      <td>1.0</td>\n    </tr>\n  </tbody>\n</table>\n<p>5 rows × 201 columns</p>\n</div>"
     },
     "metadata": {},
     "execution_count": 83
    }
   ],
   "source": [
    "df.head()"
   ]
  },
  {
   "cell_type": "code",
   "execution_count": 84,
   "metadata": {},
   "outputs": [
    {
     "output_type": "stream",
     "name": "stdout",
     "text": [
      "(16744, 201)\nYear\n"
     ]
    }
   ],
   "source": [
    "print(df.shape)\n",
    "print(df.columns[0])"
   ]
  },
  {
   "cell_type": "code",
   "execution_count": 85,
   "metadata": {},
   "outputs": [],
   "source": [
    "# Comment to remember code\n",
    "# 'English' in df_lang['Language'].values[0]\n",
    "    "
   ]
  },
  {
   "cell_type": "code",
   "execution_count": 86,
   "metadata": {
    "tags": []
   },
   "outputs": [],
   "source": [
    "# Comment to remember how code works for iterable\n",
    "\n",
    "# for i, value in enumerate(df_lang['Language'].values):\n",
    "#     print(i)\n",
    "#     print(value)\n",
    "#     print(type(value))"
   ]
  },
  {
   "source": [
    "# Target creation and Splitting Data"
   ],
   "cell_type": "markdown",
   "metadata": {}
  },
  {
   "source": [
    "Look into what factors could determine if a show gets on to Netflix"
   ],
   "cell_type": "markdown",
   "metadata": {}
  },
  {
   "cell_type": "code",
   "execution_count": 87,
   "metadata": {},
   "outputs": [],
   "source": [
    "#Create target variable, set without target, and set with only target\n",
    "target = 'Netflix'\n",
    "X = df.drop(columns = target)\n",
    "y = df[target]"
   ]
  },
  {
   "cell_type": "code",
   "execution_count": 88,
   "metadata": {},
   "outputs": [],
   "source": [
    "assert len(X) == len(y)"
   ]
  },
  {
   "source": [
    "### Split into train, test, val data"
   ],
   "cell_type": "markdown",
   "metadata": {}
  },
  {
   "source": [
    "Will split randomly. Won't split by year since I would rather have that as a feature"
   ],
   "cell_type": "markdown",
   "metadata": {}
  },
  {
   "cell_type": "code",
   "execution_count": 89,
   "metadata": {},
   "outputs": [],
   "source": [
    "# Use train-split function to divide train, validation, test with a (0.6, 0.2, 0.2 split)\n",
    "X_train, X_test, y_train, y_test = train_test_split(X, y, test_size=0.2, random_state=42)\n",
    "\n",
    "# Doing 0.25 x 0.8 = 0.2 split\n",
    "X_train, X_val, y_train, y_val = train_test_split(X_train, y_train, test_size=0.25, random_state=42) # 0.25 x 0.8 = 0.2"
   ]
  },
  {
   "cell_type": "code",
   "execution_count": 90,
   "metadata": {},
   "outputs": [],
   "source": [
    "assert len(X_train + X_test + X_val == len(X))\n",
    "assert len(y_train + y_test + y_val == len(y))"
   ]
  },
  {
   "source": [
    "# Create Model"
   ],
   "cell_type": "markdown",
   "metadata": {}
  },
  {
   "source": [
    "### Model based on results of randomized search and grid search"
   ],
   "cell_type": "markdown",
   "metadata": {}
  },
  {
   "cell_type": "code",
   "execution_count": 91,
   "metadata": {},
   "outputs": [
    {
     "output_type": "execute_result",
     "data": {
      "text/plain": [
       "Pipeline(steps=[('ordinalencoder', OrdinalEncoder(cols=[], mapping=[])),\n",
       "                ('simpleimputer', SimpleImputer(strategy='median')),\n",
       "                ('standardscaler', StandardScaler()),\n",
       "                ('randomforestclassifier',\n",
       "                 RandomForestClassifier(class_weight='balanced_subsample',\n",
       "                                        max_depth=60, n_estimators=90,\n",
       "                                        random_state=42))])"
      ]
     },
     "metadata": {},
     "execution_count": 91
    }
   ],
   "source": [
    "#Randon Forest Model\n",
    "model = make_pipeline(OrdinalEncoder(),\n",
    "                         SimpleImputer(strategy = 'median'),\n",
    "                         StandardScaler(),\n",
    "                         RandomForestClassifier(random_state=42,\n",
    "                                                max_depth = 60,\n",
    "                                                n_estimators = 90,\n",
    "                                                class_weight = 'balanced_subsample')\n",
    "                      )\n",
    "                                       \n",
    "                      \n",
    "\n",
    "model.fit(X_train, y_train)"
   ]
  },
  {
   "source": [
    "### Used for creating randomized search and Grid Search models"
   ],
   "cell_type": "markdown",
   "metadata": {}
  },
  {
   "cell_type": "code",
   "execution_count": 92,
   "metadata": {},
   "outputs": [],
   "source": [
    "# # Model for Randomized Search and Grid Search\n",
    "# model_rf = make_pipeline(OrdinalEncoder(),\n",
    "#                          SimpleImputer(),\n",
    "#                          RandomForestClassifier(random_state=42))\n",
    "\n",
    "# # param grid for Randomized Search and Grid Search\n",
    "# param_grid = {\n",
    "#     'simpleimputer__strategy': ['mean', 'median'],\n",
    "#     'randomforestclassifier__max_depth': range(0, 110, 10),\n",
    "#     'randomforestclassifier__n_estimators': range(0, 110, 10),\n",
    "#     'randomforestclassifier__class_weight': ['balanced', 'balanced_subsample']\n",
    "# }"
   ]
  },
  {
   "source": [
    "# dir(model_xgb.named_steps['xgbclassifier'])"
   ],
   "cell_type": "code",
   "metadata": {},
   "execution_count": 93,
   "outputs": []
  },
  {
   "source": [
    "### Randomized Search"
   ],
   "cell_type": "markdown",
   "metadata": {}
  },
  {
   "cell_type": "code",
   "execution_count": 94,
   "metadata": {},
   "outputs": [],
   "source": [
    "# model_rs = RandomizedSearchCV(\n",
    "#     model_rf,\n",
    "#     param_distributions=param_grid,\n",
    "#     n_iter=20,\n",
    "#     cv=None,\n",
    "#     n_jobs=-1,\n",
    "#     verbose = 1\n",
    "# )\n",
    "\n",
    "# model_rs.fit(X_train, y_train)"
   ]
  },
  {
   "cell_type": "code",
   "execution_count": 95,
   "metadata": {},
   "outputs": [],
   "source": [
    "# model_rs.best_params_"
   ]
  },
  {
   "source": [
    "# model_rs.best_score_"
   ],
   "cell_type": "code",
   "metadata": {},
   "execution_count": 96,
   "outputs": []
  },
  {
   "source": [
    "### Grid Search\n"
   ],
   "cell_type": "markdown",
   "metadata": {}
  },
  {
   "cell_type": "code",
   "execution_count": 97,
   "metadata": {},
   "outputs": [],
   "source": [
    "# model_gs = GridSearchCV(\n",
    "#     model_rf,\n",
    "#     param_grid = param_grid,\n",
    "#     n_jobs = -1,\n",
    "#     cv = None,\n",
    "#     verbose = 1\n",
    "# )\n",
    "\n",
    "# # model_gs.fit(X_train, y_train)"
   ]
  },
  {
   "cell_type": "code",
   "execution_count": 98,
   "metadata": {},
   "outputs": [],
   "source": [
    "# model_gs.best_params_"
   ]
  },
  {
   "cell_type": "code",
   "execution_count": 99,
   "metadata": {},
   "outputs": [],
   "source": [
    "# model_gs.best_score_"
   ]
  },
  {
   "source": [
    "# XGBoost"
   ],
   "cell_type": "markdown",
   "metadata": {}
  },
  {
   "cell_type": "code",
   "execution_count": 100,
   "metadata": {},
   "outputs": [
    {
     "output_type": "stream",
     "name": "stderr",
     "text": [
      "C:\\Users\\Eric\\.virtualenvs\\DS-Unit-2-Applied-Modeling-OVqDOShY\\lib\\site-packages\\xgboost\\sklearn.py:888: UserWarning: The use of label encoder in XGBClassifier is deprecated and will be removed in a future release. To remove this warning, do the following: 1) Pass option use_label_encoder=False when constructing XGBClassifier object; and 2) Encode your labels (y) as integers starting with 0, i.e. 0, 1, 2, ..., [num_class - 1].\n",
      "  warnings.warn(label_encoder_deprecation_msg, UserWarning)\n",
      "[16:31:46] WARNING: C:/Users/Administrator/workspace/xgboost-win64_release_1.3.0/src/learner.cc:1061: Starting in XGBoost 1.3.0, the default evaluation metric used with the objective 'binary:logistic' was changed from 'error' to 'logloss'. Explicitly set eval_metric if you'd like to restore the old behavior.\n"
     ]
    },
    {
     "output_type": "execute_result",
     "data": {
      "text/plain": [
       "Pipeline(steps=[('ordinalencoder', OrdinalEncoder(cols=[], mapping=[])),\n",
       "                ('simpleimputer', SimpleImputer(strategy='median')),\n",
       "                ('xgbclassifier',\n",
       "                 XGBClassifier(base_score=0.5, booster='gbtree',\n",
       "                               colsample_bylevel=1, colsample_bynode=1,\n",
       "                               colsample_bytree=1, gamma=0, gpu_id=-1,\n",
       "                               importance_type='gain',\n",
       "                               interaction_constraints='',\n",
       "                               learning_rate=0.00010526315789473685,\n",
       "                               max_delta_step=0, max_depth=70,\n",
       "                               min_child_weight=1, missing=nan,\n",
       "                               monotone_constraints='()', n_estimators=20,\n",
       "                               n_jobs=-1, num_parallel_tree=1, random_state=42,\n",
       "                               reg_alpha=0, reg_lambda=1, scale_pos_weight=1,\n",
       "                               subsample=1, tree_method='exact',\n",
       "                               validate_parameters=1, verbosity=None))])"
      ]
     },
     "metadata": {},
     "execution_count": 100
    }
   ],
   "source": [
    "#XGBoost Model\n",
    "model_xgb = make_pipeline(OrdinalEncoder(),\n",
    "                          SimpleImputer(strategy = 'median'),\n",
    "                          XGBClassifier(random_state = 42,\n",
    "                                        n_estimators=20,\n",
    "                                        max_depth = 70,\n",
    "                                        learning_rate= 0.00010526315789473685,\n",
    "                                        n_jobs=-1))\n",
    "\n",
    "model_xgb.fit(X_train, y_train)"
   ]
  },
  {
   "cell_type": "code",
   "execution_count": 101,
   "metadata": {},
   "outputs": [],
   "source": [
    "# dir(model_xgb.named_steps['xgbclassifier'])"
   ]
  },
  {
   "cell_type": "code",
   "execution_count": 102,
   "metadata": {},
   "outputs": [],
   "source": [
    "# np.linspace(0,0.001, 10)"
   ]
  },
  {
   "cell_type": "code",
   "execution_count": 103,
   "metadata": {},
   "outputs": [],
   "source": [
    "# # Model for Randomized Search on XGBoost\n",
    "# model_xgb_rs = make_pipeline(OrdinalEncoder(),\n",
    "#                              SimpleImputer(),\n",
    "#                              XGBClassifier())\n",
    "\n",
    "# # param grid for Randomized Search and Grid Search\n",
    "# param_grid_xgb = {\n",
    "#     'simpleimputer__strategy': ['mean', 'median'],\n",
    "#     'xgbclassifier__max_depth': range(0, 110, 10),\n",
    "#     'xgbclassifier__n_estimators': range(0, 100, 10),\n",
    "#     'xgbclassifier__class_weight': ['balanced'],\n",
    "#     'xgbclassifier__learning_rate': np.linspace(0,0.0005, 20) # range should originally be between [0.0001, 0.001, 0.01, 0.1]\n",
    "# }"
   ]
  },
  {
   "cell_type": "code",
   "execution_count": 104,
   "metadata": {},
   "outputs": [],
   "source": [
    "# model_XGB_rs = RandomizedSearchCV(\n",
    "#     model_xgb_rs,\n",
    "#     param_distributions=param_grid_xgb,\n",
    "#     n_iter=20,\n",
    "#     cv=None,\n",
    "#     n_jobs=-1,\n",
    "#     verbose = 1\n",
    "# )\n",
    "\n",
    "# model_XGB_rs.fit(X_train, y_train)"
   ]
  },
  {
   "cell_type": "code",
   "execution_count": 105,
   "metadata": {},
   "outputs": [],
   "source": [
    "# model_XGB_rs.best_params_"
   ]
  },
  {
   "source": [
    "# Check Metrics"
   ],
   "cell_type": "markdown",
   "metadata": {}
  },
  {
   "source": [
    "### Establish Baseline"
   ],
   "cell_type": "markdown",
   "metadata": {}
  },
  {
   "cell_type": "code",
   "execution_count": 106,
   "metadata": {},
   "outputs": [
    {
     "output_type": "stream",
     "name": "stdout",
     "text": [
      "baseline accuracy 0.7879753135576348\n"
     ]
    }
   ],
   "source": [
    "#Baseline accuarcy\n",
    "acc_train = y_train.value_counts(normalize = True).max()\n",
    "print('baseline accuracy', acc_train)\n",
    "#Accuracy if for 'Not on Netflx' since its the majority class"
   ]
  },
  {
   "source": [
    "### Check accuracy scores for train and val set"
   ],
   "cell_type": "markdown",
   "metadata": {}
  },
  {
   "cell_type": "code",
   "execution_count": 107,
   "metadata": {},
   "outputs": [
    {
     "output_type": "stream",
     "name": "stdout",
     "text": [
      "RF Training Accuracy: 0.9978100736611587\n",
      "RF Validation Accuracy: 0.8250223947447\n",
      "RF Testing Accuracy: 0.8244252015527023\n",
      "\n",
      "XGB Accuracy Train:  0.8942862830977504\n",
      "XGB Accuracy Val:  0.7930725589728277\n",
      "XGB Accuracy Test:  0.8071065989847716\n"
     ]
    }
   ],
   "source": [
    "#Acc Scores from Random Forest model and XGBoost model \n",
    "print('RF Training Accuracy:', model.score(X_train, y_train))\n",
    "print('RF Validation Accuracy:', model.score(X_val, y_val))\n",
    "print('RF Testing Accuracy:', model.score(X_test, y_test))\n",
    "print()\n",
    "print('XGB Accuracy Train: ',model_xgb.score(X_train, y_train))  \n",
    "print('XGB Accuracy Val: ',model_xgb.score(X_val, y_val))        \n",
    "print('XGB Accuracy Test: ',model_xgb.score(X_test, y_test))     "
   ]
  },
  {
   "cell_type": "code",
   "execution_count": 108,
   "metadata": {},
   "outputs": [],
   "source": [
    "# Old Reference Values for hyperparameters\n",
    "\n",
    "# Training e = 55 d = 8 RS Accuracy: 0.8593470037826001\n",
    "# Validation e = 55 d = 8 RS Accuracy: 0.8211406389967154\n",
    "# Testing e = 55 d = 8 RS Accuracy: 0.817258883248731\n",
    "\n",
    "# XGB Accuracy Train:  0.8191319928329683  #XG Boost 60, d = 5. r = 0.0002368421052631579\n",
    "# XGB Accuracy Val:  0.8044192296207823    #XG Boost 60, d = 5. r = 0.0002368421052631579\n",
    "# XGB Accuracy Test:  0.8139743206927441   #XG Boost 60, d = 5. r = 0.0002368421052631579"
   ]
  },
  {
   "source": [
    "### Check ROC AUC Curve Metrics"
   ],
   "cell_type": "markdown",
   "metadata": {}
  },
  {
   "cell_type": "code",
   "execution_count": 109,
   "metadata": {},
   "outputs": [],
   "source": [
    "# Create ROC curve to find fpr, tpr and threshold for model\n",
    "fpr, tpr, threshold = roc_curve(y_val, model.predict_proba(X_val)[:,-1])"
   ]
  },
  {
   "cell_type": "code",
   "execution_count": 110,
   "metadata": {},
   "outputs": [],
   "source": [
    "# create df for fpr, tpr, threshold\n",
    "ROC_AUC = pd.DataFrame({'Threshold': threshold, 'fpr': fpr, 'tpr': tpr}).sort_values(by = 'tpr')\n"
   ]
  },
  {
   "cell_type": "code",
   "execution_count": 111,
   "metadata": {},
   "outputs": [
    {
     "output_type": "execute_result",
     "data": {
      "text/plain": [
       "     Threshold       fpr       tpr\n",
       "166   0.288889  0.175976  0.707483\n",
       "167   0.288276  0.175976  0.708844\n",
       "168   0.284794  0.176741  0.708844\n",
       "169   0.278565  0.176741  0.711565\n",
       "171   0.268165  0.186305  0.731973"
      ],
      "text/html": "<div>\n<style scoped>\n    .dataframe tbody tr th:only-of-type {\n        vertical-align: middle;\n    }\n\n    .dataframe tbody tr th {\n        vertical-align: top;\n    }\n\n    .dataframe thead th {\n        text-align: right;\n    }\n</style>\n<table border=\"1\" class=\"dataframe\">\n  <thead>\n    <tr style=\"text-align: right;\">\n      <th></th>\n      <th>Threshold</th>\n      <th>fpr</th>\n      <th>tpr</th>\n    </tr>\n  </thead>\n  <tbody>\n    <tr>\n      <th>166</th>\n      <td>0.288889</td>\n      <td>0.175976</td>\n      <td>0.707483</td>\n    </tr>\n    <tr>\n      <th>167</th>\n      <td>0.288276</td>\n      <td>0.175976</td>\n      <td>0.708844</td>\n    </tr>\n    <tr>\n      <th>168</th>\n      <td>0.284794</td>\n      <td>0.176741</td>\n      <td>0.708844</td>\n    </tr>\n    <tr>\n      <th>169</th>\n      <td>0.278565</td>\n      <td>0.176741</td>\n      <td>0.711565</td>\n    </tr>\n    <tr>\n      <th>171</th>\n      <td>0.268165</td>\n      <td>0.186305</td>\n      <td>0.731973</td>\n    </tr>\n  </tbody>\n</table>\n</div>"
     },
     "metadata": {},
     "execution_count": 111
    }
   ],
   "source": [
    "# Filter dataframe based on ROC graph below. Will be used to adjust threshold for code in the Confusion Matrix section\n",
    "condition_tpr = (ROC_AUC['tpr'] < 0.9) & (ROC_AUC['tpr'] > 0.7)\n",
    "condition_fpr = (ROC_AUC['fpr'] < 0.3) & (ROC_AUC['fpr'] > 0.1)\n",
    "\n",
    "#Filtered dataframe based on above conditions\n",
    "ROC_AUC_cond = ROC_AUC.loc[condition_tpr & condition_fpr]\n",
    "ROC_AUC_cond.head()"
   ]
  },
  {
   "cell_type": "code",
   "execution_count": 112,
   "metadata": {},
   "outputs": [
    {
     "output_type": "stream",
     "name": "stdout",
     "text": [
      "random forest model roc auc score for val is 0.8581380218499028\nrandom forest model roc auc score for test is 0.8464497731129339\n\nXGboost model roc auc score for val is 0.8141852609444696\nXGBoost forest model roc auc score for test is 0.8153535046868308\n"
     ]
    }
   ],
   "source": [
    "# Random Forest roc auc score for the test and val\n",
    "roc_auc_score_val = roc_auc_score(y_val, model.predict_proba(X_val)[:,1])\n",
    "roc_auc_score_test = roc_auc_score(y_test, model.predict_proba(X_test)[:,1])\n",
    "\n",
    "# XGBoost roc auc score for the test and val\n",
    "roc_auc_score_val_xgb = roc_auc_score(y_val, model_xgb.predict_proba(X_val)[:,1])\n",
    "roc_auc_score_test_xgb = roc_auc_score(y_test, model_xgb.predict_proba(X_test)[:,1])\n",
    "\n",
    "print(\"random forest model roc auc score for val is\", roc_auc_score_val)\n",
    "print(\"random forest model roc auc score for test is\", roc_auc_score_test)\n",
    "print()\n",
    "print(\"XGboost model roc auc score for val is\", roc_auc_score_val_xgb)\n",
    "print(\"XGBoost forest model roc auc score for test is\", roc_auc_score_test_xgb)"
   ]
  },
  {
   "cell_type": "code",
   "execution_count": 113,
   "metadata": {},
   "outputs": [
    {
     "output_type": "display_data",
     "data": {
      "text/plain": "<Figure size 432x288 with 1 Axes>",
      "image/svg+xml": "<?xml version=\"1.0\" encoding=\"utf-8\" standalone=\"no\"?>\r\n<!DOCTYPE svg PUBLIC \"-//W3C//DTD SVG 1.1//EN\"\r\n  \"http://www.w3.org/Graphics/SVG/1.1/DTD/svg11.dtd\">\r\n<svg height=\"277.314375pt\" version=\"1.1\" viewBox=\"0 0 385.78125 277.314375\" width=\"385.78125pt\" xmlns=\"http://www.w3.org/2000/svg\" xmlns:xlink=\"http://www.w3.org/1999/xlink\">\r\n <metadata>\r\n  <rdf:RDF xmlns:cc=\"http://creativecommons.org/ns#\" xmlns:dc=\"http://purl.org/dc/elements/1.1/\" xmlns:rdf=\"http://www.w3.org/1999/02/22-rdf-syntax-ns#\">\r\n   <cc:Work>\r\n    <dc:type rdf:resource=\"http://purl.org/dc/dcmitype/StillImage\"/>\r\n    <dc:date>2021-03-31T16:32:14.304715</dc:date>\r\n    <dc:format>image/svg+xml</dc:format>\r\n    <dc:creator>\r\n     <cc:Agent>\r\n      <dc:title>Matplotlib v3.4.0, https://matplotlib.org/</dc:title>\r\n     </cc:Agent>\r\n    </dc:creator>\r\n   </cc:Work>\r\n  </rdf:RDF>\r\n </metadata>\r\n <defs>\r\n  <style type=\"text/css\">*{stroke-linecap:butt;stroke-linejoin:round;}</style>\r\n </defs>\r\n <g id=\"figure_1\">\r\n  <g id=\"patch_1\">\r\n   <path d=\"M 0 277.314375 \r\nL 385.78125 277.314375 \r\nL 385.78125 0 \r\nL 0 0 \r\nz\r\n\" style=\"fill:none;\"/>\r\n  </g>\r\n  <g id=\"axes_1\">\r\n   <g id=\"patch_2\">\r\n    <path d=\"M 43.78125 239.758125 \r\nL 378.58125 239.758125 \r\nL 378.58125 22.318125 \r\nL 43.78125 22.318125 \r\nz\r\n\" style=\"fill:#ffffff;\"/>\r\n   </g>\r\n   <g id=\"matplotlib.axis_1\">\r\n    <g id=\"xtick_1\">\r\n     <g id=\"line2d_1\">\r\n      <defs>\r\n       <path d=\"M 0 0 \r\nL 0 3.5 \r\n\" id=\"mffd7b7a49e\" style=\"stroke:#000000;stroke-width:0.8;\"/>\r\n      </defs>\r\n      <g>\r\n       <use style=\"stroke:#000000;stroke-width:0.8;\" x=\"58.999432\" xlink:href=\"#mffd7b7a49e\" y=\"239.758125\"/>\r\n      </g>\r\n     </g>\r\n     <g id=\"text_1\">\r\n      <!-- 0.0 -->\r\n      <g transform=\"translate(51.047869 254.356562)scale(0.1 -0.1)\">\r\n       <defs>\r\n        <path d=\"M 2034 4250 \r\nQ 1547 4250 1301 3770 \r\nQ 1056 3291 1056 2328 \r\nQ 1056 1369 1301 889 \r\nQ 1547 409 2034 409 \r\nQ 2525 409 2770 889 \r\nQ 3016 1369 3016 2328 \r\nQ 3016 3291 2770 3770 \r\nQ 2525 4250 2034 4250 \r\nz\r\nM 2034 4750 \r\nQ 2819 4750 3233 4129 \r\nQ 3647 3509 3647 2328 \r\nQ 3647 1150 3233 529 \r\nQ 2819 -91 2034 -91 \r\nQ 1250 -91 836 529 \r\nQ 422 1150 422 2328 \r\nQ 422 3509 836 4129 \r\nQ 1250 4750 2034 4750 \r\nz\r\n\" id=\"DejaVuSans-30\" transform=\"scale(0.015625)\"/>\r\n        <path d=\"M 684 794 \r\nL 1344 794 \r\nL 1344 0 \r\nL 684 0 \r\nL 684 794 \r\nz\r\n\" id=\"DejaVuSans-2e\" transform=\"scale(0.015625)\"/>\r\n       </defs>\r\n       <use xlink:href=\"#DejaVuSans-30\"/>\r\n       <use x=\"63.623047\" xlink:href=\"#DejaVuSans-2e\"/>\r\n       <use x=\"95.410156\" xlink:href=\"#DejaVuSans-30\"/>\r\n      </g>\r\n     </g>\r\n    </g>\r\n    <g id=\"xtick_2\">\r\n     <g id=\"line2d_2\">\r\n      <g>\r\n       <use style=\"stroke:#000000;stroke-width:0.8;\" x=\"119.872159\" xlink:href=\"#mffd7b7a49e\" y=\"239.758125\"/>\r\n      </g>\r\n     </g>\r\n     <g id=\"text_2\">\r\n      <!-- 0.2 -->\r\n      <g transform=\"translate(111.920597 254.356562)scale(0.1 -0.1)\">\r\n       <defs>\r\n        <path d=\"M 1228 531 \r\nL 3431 531 \r\nL 3431 0 \r\nL 469 0 \r\nL 469 531 \r\nQ 828 903 1448 1529 \r\nQ 2069 2156 2228 2338 \r\nQ 2531 2678 2651 2914 \r\nQ 2772 3150 2772 3378 \r\nQ 2772 3750 2511 3984 \r\nQ 2250 4219 1831 4219 \r\nQ 1534 4219 1204 4116 \r\nQ 875 4013 500 3803 \r\nL 500 4441 \r\nQ 881 4594 1212 4672 \r\nQ 1544 4750 1819 4750 \r\nQ 2544 4750 2975 4387 \r\nQ 3406 4025 3406 3419 \r\nQ 3406 3131 3298 2873 \r\nQ 3191 2616 2906 2266 \r\nQ 2828 2175 2409 1742 \r\nQ 1991 1309 1228 531 \r\nz\r\n\" id=\"DejaVuSans-32\" transform=\"scale(0.015625)\"/>\r\n       </defs>\r\n       <use xlink:href=\"#DejaVuSans-30\"/>\r\n       <use x=\"63.623047\" xlink:href=\"#DejaVuSans-2e\"/>\r\n       <use x=\"95.410156\" xlink:href=\"#DejaVuSans-32\"/>\r\n      </g>\r\n     </g>\r\n    </g>\r\n    <g id=\"xtick_3\">\r\n     <g id=\"line2d_3\">\r\n      <g>\r\n       <use style=\"stroke:#000000;stroke-width:0.8;\" x=\"180.744886\" xlink:href=\"#mffd7b7a49e\" y=\"239.758125\"/>\r\n      </g>\r\n     </g>\r\n     <g id=\"text_3\">\r\n      <!-- 0.4 -->\r\n      <g transform=\"translate(172.793324 254.356562)scale(0.1 -0.1)\">\r\n       <defs>\r\n        <path d=\"M 2419 4116 \r\nL 825 1625 \r\nL 2419 1625 \r\nL 2419 4116 \r\nz\r\nM 2253 4666 \r\nL 3047 4666 \r\nL 3047 1625 \r\nL 3713 1625 \r\nL 3713 1100 \r\nL 3047 1100 \r\nL 3047 0 \r\nL 2419 0 \r\nL 2419 1100 \r\nL 313 1100 \r\nL 313 1709 \r\nL 2253 4666 \r\nz\r\n\" id=\"DejaVuSans-34\" transform=\"scale(0.015625)\"/>\r\n       </defs>\r\n       <use xlink:href=\"#DejaVuSans-30\"/>\r\n       <use x=\"63.623047\" xlink:href=\"#DejaVuSans-2e\"/>\r\n       <use x=\"95.410156\" xlink:href=\"#DejaVuSans-34\"/>\r\n      </g>\r\n     </g>\r\n    </g>\r\n    <g id=\"xtick_4\">\r\n     <g id=\"line2d_4\">\r\n      <g>\r\n       <use style=\"stroke:#000000;stroke-width:0.8;\" x=\"241.617614\" xlink:href=\"#mffd7b7a49e\" y=\"239.758125\"/>\r\n      </g>\r\n     </g>\r\n     <g id=\"text_4\">\r\n      <!-- 0.6 -->\r\n      <g transform=\"translate(233.666051 254.356562)scale(0.1 -0.1)\">\r\n       <defs>\r\n        <path d=\"M 2113 2584 \r\nQ 1688 2584 1439 2293 \r\nQ 1191 2003 1191 1497 \r\nQ 1191 994 1439 701 \r\nQ 1688 409 2113 409 \r\nQ 2538 409 2786 701 \r\nQ 3034 994 3034 1497 \r\nQ 3034 2003 2786 2293 \r\nQ 2538 2584 2113 2584 \r\nz\r\nM 3366 4563 \r\nL 3366 3988 \r\nQ 3128 4100 2886 4159 \r\nQ 2644 4219 2406 4219 \r\nQ 1781 4219 1451 3797 \r\nQ 1122 3375 1075 2522 \r\nQ 1259 2794 1537 2939 \r\nQ 1816 3084 2150 3084 \r\nQ 2853 3084 3261 2657 \r\nQ 3669 2231 3669 1497 \r\nQ 3669 778 3244 343 \r\nQ 2819 -91 2113 -91 \r\nQ 1303 -91 875 529 \r\nQ 447 1150 447 2328 \r\nQ 447 3434 972 4092 \r\nQ 1497 4750 2381 4750 \r\nQ 2619 4750 2861 4703 \r\nQ 3103 4656 3366 4563 \r\nz\r\n\" id=\"DejaVuSans-36\" transform=\"scale(0.015625)\"/>\r\n       </defs>\r\n       <use xlink:href=\"#DejaVuSans-30\"/>\r\n       <use x=\"63.623047\" xlink:href=\"#DejaVuSans-2e\"/>\r\n       <use x=\"95.410156\" xlink:href=\"#DejaVuSans-36\"/>\r\n      </g>\r\n     </g>\r\n    </g>\r\n    <g id=\"xtick_5\">\r\n     <g id=\"line2d_5\">\r\n      <g>\r\n       <use style=\"stroke:#000000;stroke-width:0.8;\" x=\"302.490341\" xlink:href=\"#mffd7b7a49e\" y=\"239.758125\"/>\r\n      </g>\r\n     </g>\r\n     <g id=\"text_5\">\r\n      <!-- 0.8 -->\r\n      <g transform=\"translate(294.538778 254.356562)scale(0.1 -0.1)\">\r\n       <defs>\r\n        <path d=\"M 2034 2216 \r\nQ 1584 2216 1326 1975 \r\nQ 1069 1734 1069 1313 \r\nQ 1069 891 1326 650 \r\nQ 1584 409 2034 409 \r\nQ 2484 409 2743 651 \r\nQ 3003 894 3003 1313 \r\nQ 3003 1734 2745 1975 \r\nQ 2488 2216 2034 2216 \r\nz\r\nM 1403 2484 \r\nQ 997 2584 770 2862 \r\nQ 544 3141 544 3541 \r\nQ 544 4100 942 4425 \r\nQ 1341 4750 2034 4750 \r\nQ 2731 4750 3128 4425 \r\nQ 3525 4100 3525 3541 \r\nQ 3525 3141 3298 2862 \r\nQ 3072 2584 2669 2484 \r\nQ 3125 2378 3379 2068 \r\nQ 3634 1759 3634 1313 \r\nQ 3634 634 3220 271 \r\nQ 2806 -91 2034 -91 \r\nQ 1263 -91 848 271 \r\nQ 434 634 434 1313 \r\nQ 434 1759 690 2068 \r\nQ 947 2378 1403 2484 \r\nz\r\nM 1172 3481 \r\nQ 1172 3119 1398 2916 \r\nQ 1625 2713 2034 2713 \r\nQ 2441 2713 2670 2916 \r\nQ 2900 3119 2900 3481 \r\nQ 2900 3844 2670 4047 \r\nQ 2441 4250 2034 4250 \r\nQ 1625 4250 1398 4047 \r\nQ 1172 3844 1172 3481 \r\nz\r\n\" id=\"DejaVuSans-38\" transform=\"scale(0.015625)\"/>\r\n       </defs>\r\n       <use xlink:href=\"#DejaVuSans-30\"/>\r\n       <use x=\"63.623047\" xlink:href=\"#DejaVuSans-2e\"/>\r\n       <use x=\"95.410156\" xlink:href=\"#DejaVuSans-38\"/>\r\n      </g>\r\n     </g>\r\n    </g>\r\n    <g id=\"xtick_6\">\r\n     <g id=\"line2d_6\">\r\n      <g>\r\n       <use style=\"stroke:#000000;stroke-width:0.8;\" x=\"363.363068\" xlink:href=\"#mffd7b7a49e\" y=\"239.758125\"/>\r\n      </g>\r\n     </g>\r\n     <g id=\"text_6\">\r\n      <!-- 1.0 -->\r\n      <g transform=\"translate(355.411506 254.356562)scale(0.1 -0.1)\">\r\n       <defs>\r\n        <path d=\"M 794 531 \r\nL 1825 531 \r\nL 1825 4091 \r\nL 703 3866 \r\nL 703 4441 \r\nL 1819 4666 \r\nL 2450 4666 \r\nL 2450 531 \r\nL 3481 531 \r\nL 3481 0 \r\nL 794 0 \r\nL 794 531 \r\nz\r\n\" id=\"DejaVuSans-31\" transform=\"scale(0.015625)\"/>\r\n       </defs>\r\n       <use xlink:href=\"#DejaVuSans-31\"/>\r\n       <use x=\"63.623047\" xlink:href=\"#DejaVuSans-2e\"/>\r\n       <use x=\"95.410156\" xlink:href=\"#DejaVuSans-30\"/>\r\n      </g>\r\n     </g>\r\n    </g>\r\n    <g id=\"text_7\">\r\n     <!-- False Positive Rate (Positive label: 1) -->\r\n     <g transform=\"translate(119.815625 268.034687)scale(0.1 -0.1)\">\r\n      <defs>\r\n       <path d=\"M 628 4666 \r\nL 3309 4666 \r\nL 3309 4134 \r\nL 1259 4134 \r\nL 1259 2759 \r\nL 3109 2759 \r\nL 3109 2228 \r\nL 1259 2228 \r\nL 1259 0 \r\nL 628 0 \r\nL 628 4666 \r\nz\r\n\" id=\"DejaVuSans-46\" transform=\"scale(0.015625)\"/>\r\n       <path d=\"M 2194 1759 \r\nQ 1497 1759 1228 1600 \r\nQ 959 1441 959 1056 \r\nQ 959 750 1161 570 \r\nQ 1363 391 1709 391 \r\nQ 2188 391 2477 730 \r\nQ 2766 1069 2766 1631 \r\nL 2766 1759 \r\nL 2194 1759 \r\nz\r\nM 3341 1997 \r\nL 3341 0 \r\nL 2766 0 \r\nL 2766 531 \r\nQ 2569 213 2275 61 \r\nQ 1981 -91 1556 -91 \r\nQ 1019 -91 701 211 \r\nQ 384 513 384 1019 \r\nQ 384 1609 779 1909 \r\nQ 1175 2209 1959 2209 \r\nL 2766 2209 \r\nL 2766 2266 \r\nQ 2766 2663 2505 2880 \r\nQ 2244 3097 1772 3097 \r\nQ 1472 3097 1187 3025 \r\nQ 903 2953 641 2809 \r\nL 641 3341 \r\nQ 956 3463 1253 3523 \r\nQ 1550 3584 1831 3584 \r\nQ 2591 3584 2966 3190 \r\nQ 3341 2797 3341 1997 \r\nz\r\n\" id=\"DejaVuSans-61\" transform=\"scale(0.015625)\"/>\r\n       <path d=\"M 603 4863 \r\nL 1178 4863 \r\nL 1178 0 \r\nL 603 0 \r\nL 603 4863 \r\nz\r\n\" id=\"DejaVuSans-6c\" transform=\"scale(0.015625)\"/>\r\n       <path d=\"M 2834 3397 \r\nL 2834 2853 \r\nQ 2591 2978 2328 3040 \r\nQ 2066 3103 1784 3103 \r\nQ 1356 3103 1142 2972 \r\nQ 928 2841 928 2578 \r\nQ 928 2378 1081 2264 \r\nQ 1234 2150 1697 2047 \r\nL 1894 2003 \r\nQ 2506 1872 2764 1633 \r\nQ 3022 1394 3022 966 \r\nQ 3022 478 2636 193 \r\nQ 2250 -91 1575 -91 \r\nQ 1294 -91 989 -36 \r\nQ 684 19 347 128 \r\nL 347 722 \r\nQ 666 556 975 473 \r\nQ 1284 391 1588 391 \r\nQ 1994 391 2212 530 \r\nQ 2431 669 2431 922 \r\nQ 2431 1156 2273 1281 \r\nQ 2116 1406 1581 1522 \r\nL 1381 1569 \r\nQ 847 1681 609 1914 \r\nQ 372 2147 372 2553 \r\nQ 372 3047 722 3315 \r\nQ 1072 3584 1716 3584 \r\nQ 2034 3584 2315 3537 \r\nQ 2597 3491 2834 3397 \r\nz\r\n\" id=\"DejaVuSans-73\" transform=\"scale(0.015625)\"/>\r\n       <path d=\"M 3597 1894 \r\nL 3597 1613 \r\nL 953 1613 \r\nQ 991 1019 1311 708 \r\nQ 1631 397 2203 397 \r\nQ 2534 397 2845 478 \r\nQ 3156 559 3463 722 \r\nL 3463 178 \r\nQ 3153 47 2828 -22 \r\nQ 2503 -91 2169 -91 \r\nQ 1331 -91 842 396 \r\nQ 353 884 353 1716 \r\nQ 353 2575 817 3079 \r\nQ 1281 3584 2069 3584 \r\nQ 2775 3584 3186 3129 \r\nQ 3597 2675 3597 1894 \r\nz\r\nM 3022 2063 \r\nQ 3016 2534 2758 2815 \r\nQ 2500 3097 2075 3097 \r\nQ 1594 3097 1305 2825 \r\nQ 1016 2553 972 2059 \r\nL 3022 2063 \r\nz\r\n\" id=\"DejaVuSans-65\" transform=\"scale(0.015625)\"/>\r\n       <path id=\"DejaVuSans-20\" transform=\"scale(0.015625)\"/>\r\n       <path d=\"M 1259 4147 \r\nL 1259 2394 \r\nL 2053 2394 \r\nQ 2494 2394 2734 2622 \r\nQ 2975 2850 2975 3272 \r\nQ 2975 3691 2734 3919 \r\nQ 2494 4147 2053 4147 \r\nL 1259 4147 \r\nz\r\nM 628 4666 \r\nL 2053 4666 \r\nQ 2838 4666 3239 4311 \r\nQ 3641 3956 3641 3272 \r\nQ 3641 2581 3239 2228 \r\nQ 2838 1875 2053 1875 \r\nL 1259 1875 \r\nL 1259 0 \r\nL 628 0 \r\nL 628 4666 \r\nz\r\n\" id=\"DejaVuSans-50\" transform=\"scale(0.015625)\"/>\r\n       <path d=\"M 1959 3097 \r\nQ 1497 3097 1228 2736 \r\nQ 959 2375 959 1747 \r\nQ 959 1119 1226 758 \r\nQ 1494 397 1959 397 \r\nQ 2419 397 2687 759 \r\nQ 2956 1122 2956 1747 \r\nQ 2956 2369 2687 2733 \r\nQ 2419 3097 1959 3097 \r\nz\r\nM 1959 3584 \r\nQ 2709 3584 3137 3096 \r\nQ 3566 2609 3566 1747 \r\nQ 3566 888 3137 398 \r\nQ 2709 -91 1959 -91 \r\nQ 1206 -91 779 398 \r\nQ 353 888 353 1747 \r\nQ 353 2609 779 3096 \r\nQ 1206 3584 1959 3584 \r\nz\r\n\" id=\"DejaVuSans-6f\" transform=\"scale(0.015625)\"/>\r\n       <path d=\"M 603 3500 \r\nL 1178 3500 \r\nL 1178 0 \r\nL 603 0 \r\nL 603 3500 \r\nz\r\nM 603 4863 \r\nL 1178 4863 \r\nL 1178 4134 \r\nL 603 4134 \r\nL 603 4863 \r\nz\r\n\" id=\"DejaVuSans-69\" transform=\"scale(0.015625)\"/>\r\n       <path d=\"M 1172 4494 \r\nL 1172 3500 \r\nL 2356 3500 \r\nL 2356 3053 \r\nL 1172 3053 \r\nL 1172 1153 \r\nQ 1172 725 1289 603 \r\nQ 1406 481 1766 481 \r\nL 2356 481 \r\nL 2356 0 \r\nL 1766 0 \r\nQ 1100 0 847 248 \r\nQ 594 497 594 1153 \r\nL 594 3053 \r\nL 172 3053 \r\nL 172 3500 \r\nL 594 3500 \r\nL 594 4494 \r\nL 1172 4494 \r\nz\r\n\" id=\"DejaVuSans-74\" transform=\"scale(0.015625)\"/>\r\n       <path d=\"M 191 3500 \r\nL 800 3500 \r\nL 1894 563 \r\nL 2988 3500 \r\nL 3597 3500 \r\nL 2284 0 \r\nL 1503 0 \r\nL 191 3500 \r\nz\r\n\" id=\"DejaVuSans-76\" transform=\"scale(0.015625)\"/>\r\n       <path d=\"M 2841 2188 \r\nQ 3044 2119 3236 1894 \r\nQ 3428 1669 3622 1275 \r\nL 4263 0 \r\nL 3584 0 \r\nL 2988 1197 \r\nQ 2756 1666 2539 1819 \r\nQ 2322 1972 1947 1972 \r\nL 1259 1972 \r\nL 1259 0 \r\nL 628 0 \r\nL 628 4666 \r\nL 2053 4666 \r\nQ 2853 4666 3247 4331 \r\nQ 3641 3997 3641 3322 \r\nQ 3641 2881 3436 2590 \r\nQ 3231 2300 2841 2188 \r\nz\r\nM 1259 4147 \r\nL 1259 2491 \r\nL 2053 2491 \r\nQ 2509 2491 2742 2702 \r\nQ 2975 2913 2975 3322 \r\nQ 2975 3731 2742 3939 \r\nQ 2509 4147 2053 4147 \r\nL 1259 4147 \r\nz\r\n\" id=\"DejaVuSans-52\" transform=\"scale(0.015625)\"/>\r\n       <path d=\"M 1984 4856 \r\nQ 1566 4138 1362 3434 \r\nQ 1159 2731 1159 2009 \r\nQ 1159 1288 1364 580 \r\nQ 1569 -128 1984 -844 \r\nL 1484 -844 \r\nQ 1016 -109 783 600 \r\nQ 550 1309 550 2009 \r\nQ 550 2706 781 3412 \r\nQ 1013 4119 1484 4856 \r\nL 1984 4856 \r\nz\r\n\" id=\"DejaVuSans-28\" transform=\"scale(0.015625)\"/>\r\n       <path d=\"M 3116 1747 \r\nQ 3116 2381 2855 2742 \r\nQ 2594 3103 2138 3103 \r\nQ 1681 3103 1420 2742 \r\nQ 1159 2381 1159 1747 \r\nQ 1159 1113 1420 752 \r\nQ 1681 391 2138 391 \r\nQ 2594 391 2855 752 \r\nQ 3116 1113 3116 1747 \r\nz\r\nM 1159 2969 \r\nQ 1341 3281 1617 3432 \r\nQ 1894 3584 2278 3584 \r\nQ 2916 3584 3314 3078 \r\nQ 3713 2572 3713 1747 \r\nQ 3713 922 3314 415 \r\nQ 2916 -91 2278 -91 \r\nQ 1894 -91 1617 61 \r\nQ 1341 213 1159 525 \r\nL 1159 0 \r\nL 581 0 \r\nL 581 4863 \r\nL 1159 4863 \r\nL 1159 2969 \r\nz\r\n\" id=\"DejaVuSans-62\" transform=\"scale(0.015625)\"/>\r\n       <path d=\"M 750 794 \r\nL 1409 794 \r\nL 1409 0 \r\nL 750 0 \r\nL 750 794 \r\nz\r\nM 750 3309 \r\nL 1409 3309 \r\nL 1409 2516 \r\nL 750 2516 \r\nL 750 3309 \r\nz\r\n\" id=\"DejaVuSans-3a\" transform=\"scale(0.015625)\"/>\r\n       <path d=\"M 513 4856 \r\nL 1013 4856 \r\nQ 1481 4119 1714 3412 \r\nQ 1947 2706 1947 2009 \r\nQ 1947 1309 1714 600 \r\nQ 1481 -109 1013 -844 \r\nL 513 -844 \r\nQ 928 -128 1133 580 \r\nQ 1338 1288 1338 2009 \r\nQ 1338 2731 1133 3434 \r\nQ 928 4138 513 4856 \r\nz\r\n\" id=\"DejaVuSans-29\" transform=\"scale(0.015625)\"/>\r\n      </defs>\r\n      <use xlink:href=\"#DejaVuSans-46\"/>\r\n      <use x=\"48.394531\" xlink:href=\"#DejaVuSans-61\"/>\r\n      <use x=\"109.673828\" xlink:href=\"#DejaVuSans-6c\"/>\r\n      <use x=\"137.457031\" xlink:href=\"#DejaVuSans-73\"/>\r\n      <use x=\"189.556641\" xlink:href=\"#DejaVuSans-65\"/>\r\n      <use x=\"251.080078\" xlink:href=\"#DejaVuSans-20\"/>\r\n      <use x=\"282.867188\" xlink:href=\"#DejaVuSans-50\"/>\r\n      <use x=\"339.544922\" xlink:href=\"#DejaVuSans-6f\"/>\r\n      <use x=\"400.726562\" xlink:href=\"#DejaVuSans-73\"/>\r\n      <use x=\"452.826172\" xlink:href=\"#DejaVuSans-69\"/>\r\n      <use x=\"480.609375\" xlink:href=\"#DejaVuSans-74\"/>\r\n      <use x=\"519.818359\" xlink:href=\"#DejaVuSans-69\"/>\r\n      <use x=\"547.601562\" xlink:href=\"#DejaVuSans-76\"/>\r\n      <use x=\"606.78125\" xlink:href=\"#DejaVuSans-65\"/>\r\n      <use x=\"668.304688\" xlink:href=\"#DejaVuSans-20\"/>\r\n      <use x=\"700.091797\" xlink:href=\"#DejaVuSans-52\"/>\r\n      <use x=\"767.324219\" xlink:href=\"#DejaVuSans-61\"/>\r\n      <use x=\"828.603516\" xlink:href=\"#DejaVuSans-74\"/>\r\n      <use x=\"867.8125\" xlink:href=\"#DejaVuSans-65\"/>\r\n      <use x=\"929.335938\" xlink:href=\"#DejaVuSans-20\"/>\r\n      <use x=\"961.123047\" xlink:href=\"#DejaVuSans-28\"/>\r\n      <use x=\"1000.136719\" xlink:href=\"#DejaVuSans-50\"/>\r\n      <use x=\"1056.814453\" xlink:href=\"#DejaVuSans-6f\"/>\r\n      <use x=\"1117.996094\" xlink:href=\"#DejaVuSans-73\"/>\r\n      <use x=\"1170.095703\" xlink:href=\"#DejaVuSans-69\"/>\r\n      <use x=\"1197.878906\" xlink:href=\"#DejaVuSans-74\"/>\r\n      <use x=\"1237.087891\" xlink:href=\"#DejaVuSans-69\"/>\r\n      <use x=\"1264.871094\" xlink:href=\"#DejaVuSans-76\"/>\r\n      <use x=\"1324.050781\" xlink:href=\"#DejaVuSans-65\"/>\r\n      <use x=\"1385.574219\" xlink:href=\"#DejaVuSans-20\"/>\r\n      <use x=\"1417.361328\" xlink:href=\"#DejaVuSans-6c\"/>\r\n      <use x=\"1445.144531\" xlink:href=\"#DejaVuSans-61\"/>\r\n      <use x=\"1506.423828\" xlink:href=\"#DejaVuSans-62\"/>\r\n      <use x=\"1569.900391\" xlink:href=\"#DejaVuSans-65\"/>\r\n      <use x=\"1631.423828\" xlink:href=\"#DejaVuSans-6c\"/>\r\n      <use x=\"1659.207031\" xlink:href=\"#DejaVuSans-3a\"/>\r\n      <use x=\"1692.898438\" xlink:href=\"#DejaVuSans-20\"/>\r\n      <use x=\"1724.685547\" xlink:href=\"#DejaVuSans-31\"/>\r\n      <use x=\"1788.308594\" xlink:href=\"#DejaVuSans-29\"/>\r\n     </g>\r\n    </g>\r\n   </g>\r\n   <g id=\"matplotlib.axis_2\">\r\n    <g id=\"ytick_1\">\r\n     <g id=\"line2d_7\">\r\n      <defs>\r\n       <path d=\"M 0 0 \r\nL -3.5 0 \r\n\" id=\"m46c3c7d871\" style=\"stroke:#000000;stroke-width:0.8;\"/>\r\n      </defs>\r\n      <g>\r\n       <use style=\"stroke:#000000;stroke-width:0.8;\" x=\"43.78125\" xlink:href=\"#m46c3c7d871\" y=\"229.874489\"/>\r\n      </g>\r\n     </g>\r\n     <g id=\"text_8\">\r\n      <!-- 0.0 -->\r\n      <g transform=\"translate(20.878125 233.673707)scale(0.1 -0.1)\">\r\n       <use xlink:href=\"#DejaVuSans-30\"/>\r\n       <use x=\"63.623047\" xlink:href=\"#DejaVuSans-2e\"/>\r\n       <use x=\"95.410156\" xlink:href=\"#DejaVuSans-30\"/>\r\n      </g>\r\n     </g>\r\n    </g>\r\n    <g id=\"ytick_2\">\r\n     <g id=\"line2d_8\">\r\n      <g>\r\n       <use style=\"stroke:#000000;stroke-width:0.8;\" x=\"43.78125\" xlink:href=\"#m46c3c7d871\" y=\"190.339943\"/>\r\n      </g>\r\n     </g>\r\n     <g id=\"text_9\">\r\n      <!-- 0.2 -->\r\n      <g transform=\"translate(20.878125 194.139162)scale(0.1 -0.1)\">\r\n       <use xlink:href=\"#DejaVuSans-30\"/>\r\n       <use x=\"63.623047\" xlink:href=\"#DejaVuSans-2e\"/>\r\n       <use x=\"95.410156\" xlink:href=\"#DejaVuSans-32\"/>\r\n      </g>\r\n     </g>\r\n    </g>\r\n    <g id=\"ytick_3\">\r\n     <g id=\"line2d_9\">\r\n      <g>\r\n       <use style=\"stroke:#000000;stroke-width:0.8;\" x=\"43.78125\" xlink:href=\"#m46c3c7d871\" y=\"150.805398\"/>\r\n      </g>\r\n     </g>\r\n     <g id=\"text_10\">\r\n      <!-- 0.4 -->\r\n      <g transform=\"translate(20.878125 154.604616)scale(0.1 -0.1)\">\r\n       <use xlink:href=\"#DejaVuSans-30\"/>\r\n       <use x=\"63.623047\" xlink:href=\"#DejaVuSans-2e\"/>\r\n       <use x=\"95.410156\" xlink:href=\"#DejaVuSans-34\"/>\r\n      </g>\r\n     </g>\r\n    </g>\r\n    <g id=\"ytick_4\">\r\n     <g id=\"line2d_10\">\r\n      <g>\r\n       <use style=\"stroke:#000000;stroke-width:0.8;\" x=\"43.78125\" xlink:href=\"#m46c3c7d871\" y=\"111.270852\"/>\r\n      </g>\r\n     </g>\r\n     <g id=\"text_11\">\r\n      <!-- 0.6 -->\r\n      <g transform=\"translate(20.878125 115.070071)scale(0.1 -0.1)\">\r\n       <use xlink:href=\"#DejaVuSans-30\"/>\r\n       <use x=\"63.623047\" xlink:href=\"#DejaVuSans-2e\"/>\r\n       <use x=\"95.410156\" xlink:href=\"#DejaVuSans-36\"/>\r\n      </g>\r\n     </g>\r\n    </g>\r\n    <g id=\"ytick_5\">\r\n     <g id=\"line2d_11\">\r\n      <g>\r\n       <use style=\"stroke:#000000;stroke-width:0.8;\" x=\"43.78125\" xlink:href=\"#m46c3c7d871\" y=\"71.736307\"/>\r\n      </g>\r\n     </g>\r\n     <g id=\"text_12\">\r\n      <!-- 0.8 -->\r\n      <g transform=\"translate(20.878125 75.535526)scale(0.1 -0.1)\">\r\n       <use xlink:href=\"#DejaVuSans-30\"/>\r\n       <use x=\"63.623047\" xlink:href=\"#DejaVuSans-2e\"/>\r\n       <use x=\"95.410156\" xlink:href=\"#DejaVuSans-38\"/>\r\n      </g>\r\n     </g>\r\n    </g>\r\n    <g id=\"ytick_6\">\r\n     <g id=\"line2d_12\">\r\n      <g>\r\n       <use style=\"stroke:#000000;stroke-width:0.8;\" x=\"43.78125\" xlink:href=\"#m46c3c7d871\" y=\"32.201761\"/>\r\n      </g>\r\n     </g>\r\n     <g id=\"text_13\">\r\n      <!-- 1.0 -->\r\n      <g transform=\"translate(20.878125 36.00098)scale(0.1 -0.1)\">\r\n       <use xlink:href=\"#DejaVuSans-31\"/>\r\n       <use x=\"63.623047\" xlink:href=\"#DejaVuSans-2e\"/>\r\n       <use x=\"95.410156\" xlink:href=\"#DejaVuSans-30\"/>\r\n      </g>\r\n     </g>\r\n    </g>\r\n    <g id=\"text_14\">\r\n     <!-- True Positive Rate (Positive label: 1) -->\r\n     <g transform=\"translate(14.798438 220.467031)rotate(-90)scale(0.1 -0.1)\">\r\n      <defs>\r\n       <path d=\"M -19 4666 \r\nL 3928 4666 \r\nL 3928 4134 \r\nL 2272 4134 \r\nL 2272 0 \r\nL 1638 0 \r\nL 1638 4134 \r\nL -19 4134 \r\nL -19 4666 \r\nz\r\n\" id=\"DejaVuSans-54\" transform=\"scale(0.015625)\"/>\r\n       <path d=\"M 2631 2963 \r\nQ 2534 3019 2420 3045 \r\nQ 2306 3072 2169 3072 \r\nQ 1681 3072 1420 2755 \r\nQ 1159 2438 1159 1844 \r\nL 1159 0 \r\nL 581 0 \r\nL 581 3500 \r\nL 1159 3500 \r\nL 1159 2956 \r\nQ 1341 3275 1631 3429 \r\nQ 1922 3584 2338 3584 \r\nQ 2397 3584 2469 3576 \r\nQ 2541 3569 2628 3553 \r\nL 2631 2963 \r\nz\r\n\" id=\"DejaVuSans-72\" transform=\"scale(0.015625)\"/>\r\n       <path d=\"M 544 1381 \r\nL 544 3500 \r\nL 1119 3500 \r\nL 1119 1403 \r\nQ 1119 906 1312 657 \r\nQ 1506 409 1894 409 \r\nQ 2359 409 2629 706 \r\nQ 2900 1003 2900 1516 \r\nL 2900 3500 \r\nL 3475 3500 \r\nL 3475 0 \r\nL 2900 0 \r\nL 2900 538 \r\nQ 2691 219 2414 64 \r\nQ 2138 -91 1772 -91 \r\nQ 1169 -91 856 284 \r\nQ 544 659 544 1381 \r\nz\r\nM 1991 3584 \r\nL 1991 3584 \r\nz\r\n\" id=\"DejaVuSans-75\" transform=\"scale(0.015625)\"/>\r\n      </defs>\r\n      <use xlink:href=\"#DejaVuSans-54\"/>\r\n      <use x=\"46.333984\" xlink:href=\"#DejaVuSans-72\"/>\r\n      <use x=\"87.447266\" xlink:href=\"#DejaVuSans-75\"/>\r\n      <use x=\"150.826172\" xlink:href=\"#DejaVuSans-65\"/>\r\n      <use x=\"212.349609\" xlink:href=\"#DejaVuSans-20\"/>\r\n      <use x=\"244.136719\" xlink:href=\"#DejaVuSans-50\"/>\r\n      <use x=\"300.814453\" xlink:href=\"#DejaVuSans-6f\"/>\r\n      <use x=\"361.996094\" xlink:href=\"#DejaVuSans-73\"/>\r\n      <use x=\"414.095703\" xlink:href=\"#DejaVuSans-69\"/>\r\n      <use x=\"441.878906\" xlink:href=\"#DejaVuSans-74\"/>\r\n      <use x=\"481.087891\" xlink:href=\"#DejaVuSans-69\"/>\r\n      <use x=\"508.871094\" xlink:href=\"#DejaVuSans-76\"/>\r\n      <use x=\"568.050781\" xlink:href=\"#DejaVuSans-65\"/>\r\n      <use x=\"629.574219\" xlink:href=\"#DejaVuSans-20\"/>\r\n      <use x=\"661.361328\" xlink:href=\"#DejaVuSans-52\"/>\r\n      <use x=\"728.59375\" xlink:href=\"#DejaVuSans-61\"/>\r\n      <use x=\"789.873047\" xlink:href=\"#DejaVuSans-74\"/>\r\n      <use x=\"829.082031\" xlink:href=\"#DejaVuSans-65\"/>\r\n      <use x=\"890.605469\" xlink:href=\"#DejaVuSans-20\"/>\r\n      <use x=\"922.392578\" xlink:href=\"#DejaVuSans-28\"/>\r\n      <use x=\"961.40625\" xlink:href=\"#DejaVuSans-50\"/>\r\n      <use x=\"1018.083984\" xlink:href=\"#DejaVuSans-6f\"/>\r\n      <use x=\"1079.265625\" xlink:href=\"#DejaVuSans-73\"/>\r\n      <use x=\"1131.365234\" xlink:href=\"#DejaVuSans-69\"/>\r\n      <use x=\"1159.148438\" xlink:href=\"#DejaVuSans-74\"/>\r\n      <use x=\"1198.357422\" xlink:href=\"#DejaVuSans-69\"/>\r\n      <use x=\"1226.140625\" xlink:href=\"#DejaVuSans-76\"/>\r\n      <use x=\"1285.320312\" xlink:href=\"#DejaVuSans-65\"/>\r\n      <use x=\"1346.84375\" xlink:href=\"#DejaVuSans-20\"/>\r\n      <use x=\"1378.630859\" xlink:href=\"#DejaVuSans-6c\"/>\r\n      <use x=\"1406.414062\" xlink:href=\"#DejaVuSans-61\"/>\r\n      <use x=\"1467.693359\" xlink:href=\"#DejaVuSans-62\"/>\r\n      <use x=\"1531.169922\" xlink:href=\"#DejaVuSans-65\"/>\r\n      <use x=\"1592.693359\" xlink:href=\"#DejaVuSans-6c\"/>\r\n      <use x=\"1620.476562\" xlink:href=\"#DejaVuSans-3a\"/>\r\n      <use x=\"1654.167969\" xlink:href=\"#DejaVuSans-20\"/>\r\n      <use x=\"1685.955078\" xlink:href=\"#DejaVuSans-31\"/>\r\n      <use x=\"1749.578125\" xlink:href=\"#DejaVuSans-29\"/>\r\n     </g>\r\n    </g>\r\n   </g>\r\n   <g id=\"line2d_13\">\r\n    <path clip-path=\"url(#p5307745e74)\" d=\"M 58.999432 229.874489 \r\nL 58.999432 225.840351 \r\nL 59.115868 225.302466 \r\nL 59.115868 223.957754 \r\nL 59.232304 223.419869 \r\nL 59.232304 217.503134 \r\nL 59.34874 217.503134 \r\nL 59.34874 216.965249 \r\nL 59.465176 215.620537 \r\nL 59.581612 215.620537 \r\nL 59.581612 212.66217 \r\nL 59.698048 212.66217 \r\nL 59.698048 207.552262 \r\nL 60.047356 205.13178 \r\nL 60.280228 202.711298 \r\nL 60.978843 199.483988 \r\nL 61.095279 199.483988 \r\nL 61.328151 197.332448 \r\nL 61.444587 194.911965 \r\nL 61.561023 194.911965 \r\nL 62.026767 193.567253 \r\nL 62.143203 191.953598 \r\nL 62.143203 190.071001 \r\nL 62.725383 188.188403 \r\nL 62.958255 188.188403 \r\nL 62.958255 185.767921 \r\nL 64.471923 184.154266 \r\nL 64.471923 183.885324 \r\nL 64.588359 183.885324 \r\nL 64.588359 183.616381 \r\nL 65.054102 181.733784 \r\nL 65.054102 180.926956 \r\nL 65.519846 178.506474 \r\nL 65.752718 178.506474 \r\nL 66.56777 176.085991 \r\nL 66.800642 173.396567 \r\nL 67.382822 172.051854 \r\nL 68.081438 169.900314 \r\nL 68.430746 169.900314 \r\nL 69.595105 167.748774 \r\nL 69.944413 164.252522 \r\nL 70.177285 164.252522 \r\nL 70.177285 163.98358 \r\nL 70.293721 163.98358 \r\nL 70.293721 163.714637 \r\nL 70.410157 163.714637 \r\nL 71.458081 161.563097 \r\nL 71.807389 161.563097 \r\nL 72.506005 160.487327 \r\nL 72.506005 159.949442 \r\nL 72.622441 159.949442 \r\nL 72.622441 159.6805 \r\nL 72.855313 159.6805 \r\nL 73.553929 158.066845 \r\nL 73.553929 157.52896 \r\nL 73.786801 157.52896 \r\nL 74.019672 155.108478 \r\nL 74.136108 155.108478 \r\nL 74.136108 154.839535 \r\nL 74.252544 154.839535 \r\nL 74.718288 152.419053 \r\nL 74.834724 152.419053 \r\nL 75.999084 150.805398 \r\nL 75.999084 150.536455 \r\nL 76.6977 147.578088 \r\nL 76.814136 147.578088 \r\nL 76.814136 147.309145 \r\nL 77.629188 145.964433 \r\nL 77.629188 145.426548 \r\nL 78.094932 142.468181 \r\nL 78.211368 142.468181 \r\nL 79.259291 140.585583 \r\nL 79.259291 139.778756 \r\nL 79.375727 139.778756 \r\nL 81.122267 138.434043 \r\nL 81.122267 137.896158 \r\nL 81.238703 137.896158 \r\nL 81.238703 136.820388 \r\nL 82.985242 134.668849 \r\nL 82.985242 134.399906 \r\nL 83.101678 134.399906 \r\nL 84.149602 132.786251 \r\nL 84.964654 132.786251 \r\nL 84.964654 132.517309 \r\nL 86.594758 129.827884 \r\nL 86.594758 129.558941 \r\nL 86.711194 129.558941 \r\nL 86.711194 129.289999 \r\nL 86.82763 129.289999 \r\nL 88.108425 126.869516 \r\nL 88.108425 126.331631 \r\nL 89.039913 123.373264 \r\nL 89.272785 123.373264 \r\nL 91.601505 120.952782 \r\nL 92.067248 120.952782 \r\nL 93.348044 119.339127 \r\nL 93.348044 118.263357 \r\nL 93.580916 118.263357 \r\nL 95.443892 115.842875 \r\nL 95.443892 115.573932 \r\nL 95.560328 115.30499 \r\nL 95.7932 115.30499 \r\nL 97.656175 112.615565 \r\nL 97.656175 112.346622 \r\nL 97.889047 112.346622 \r\nL 100.567075 109.388255 \r\nL 100.567075 108.85037 \r\nL 100.683511 108.85037 \r\nL 100.683511 108.581427 \r\nL 100.799947 108.581427 \r\nL 102.546486 105.085175 \r\nL 102.895794 105.085175 \r\nL 102.895794 104.816233 \r\nL 103.01223 104.816233 \r\nL 104.17659 101.051038 \r\nL 104.642334 101.051038 \r\nL 105.108078 100.782095 \r\nL 106.738181 97.016901 \r\nL 107.087489 97.016901 \r\nL 107.087489 96.747958 \r\nL 108.950465 93.789591 \r\nL 109.183337 93.789591 \r\nL 109.765517 92.175936 \r\nL 110.114824 92.175936 \r\nL 112.55998 90.024396 \r\nL 112.55998 89.755453 \r\nL 112.792852 89.755453 \r\nL 112.792852 89.217568 \r\nL 115.238007 85.183431 \r\nL 115.703751 85.183431 \r\nL 115.703751 84.645546 \r\nL 115.820187 84.645546 \r\nL 119.19683 81.418236 \r\nL 119.429702 81.418236 \r\nL 122.573474 78.459869 \r\nL 123.27209 78.459869 \r\nL 123.27209 78.190926 \r\nL 123.388526 78.190926 \r\nL 123.854269 77.384099 \r\nL 127.347349 74.156789 \r\nL 127.696657 74.156789 \r\nL 127.696657 73.618904 \r\nL 127.929529 73.618904 \r\nL 127.929529 73.349962 \r\nL 128.1624 73.349962 \r\nL 128.1624 73.081019 \r\nL 128.278836 73.081019 \r\nL 132.121224 70.929479 \r\nL 132.121224 70.660537 \r\nL 132.23766 70.660537 \r\nL 132.354096 70.391594 \r\nL 132.586967 70.391594 \r\nL 132.586967 70.122652 \r\nL 132.703403 70.122652 \r\nL 132.703403 69.584767 \r\nL 132.819839 69.584767 \r\nL 136.312919 68.240054 \r\nL 136.312919 67.971112 \r\nL 136.429355 67.971112 \r\nL 136.429355 67.70217 \r\nL 136.662227 67.70217 \r\nL 141.552537 66.088515 \r\nL 142.018281 66.088515 \r\nL 142.018281 65.819572 \r\nL 142.134717 65.819572 \r\nL 145.511361 63.668032 \r\nL 145.511361 63.130147 \r\nL 145.860669 63.130147 \r\nL 145.860669 62.861205 \r\nL 145.977104 62.861205 \r\nL 149.819492 61.516492 \r\nL 150.867415 61.516492 \r\nL 155.990598 59.633895 \r\nL 155.990598 59.364952 \r\nL 156.80565 59.364952 \r\nL 156.80565 59.09601 \r\nL 157.038522 59.09601 \r\nL 161.346653 56.137643 \r\nL 161.812397 56.137643 \r\nL 166.702708 55.061873 \r\nL 167.51776 55.061873 \r\nL 173.805302 51.834563 \r\nL 175.202534 51.834563 \r\nL 175.202534 51.56562 \r\nL 180.675025 49.145138 \r\nL 181.257205 49.145138 \r\nL 181.257205 48.338311 \r\nL 181.490077 48.338311 \r\nL 187.428311 46.993598 \r\nL 187.428311 46.724656 \r\nL 187.777619 46.724656 \r\nL 187.777619 46.186771 \r\nL 187.894055 46.186771 \r\nL 195.695265 44.573116 \r\nL 195.695265 44.304173 \r\nL 196.277445 44.304173 \r\nL 203.147168 43.497346 \r\nL 212.112738 42.421576 \r\nL 212.112738 42.152633 \r\nL 212.34561 42.152633 \r\nL 212.578482 41.614748 \r\nL 212.92779 41.614748 \r\nL 221.89336 40.001093 \r\nL 222.708411 40.001093 \r\nL 232.489033 38.387439 \r\nL 232.605469 38.118496 \r\nL 232.954777 38.118496 \r\nL 245.29699 36.504841 \r\nL 245.29699 36.235899 \r\nL 246.112042 36.235899 \r\nL 260.084359 34.891186 \r\nL 260.084359 34.622244 \r\nL 260.200795 34.622244 \r\nL 260.200795 34.353301 \r\nL 261.714463 34.353301 \r\nL 280.926399 33.546474 \r\nL 302.350618 33.277531 \r\nL 327.73366 32.470704 \r\nL 329.596636 32.201761 \r\nL 363.363068 32.201761 \r\nL 363.363068 32.201761 \r\n\" style=\"fill:none;stroke:#1f77b4;stroke-linecap:square;stroke-width:1.5;\"/>\r\n   </g>\r\n   <g id=\"line2d_14\">\r\n    <path clip-path=\"url(#p5307745e74)\" d=\"M 58.999432 229.874489 \r\nL 58.999432 221.910695 \r\nL 59.343475 219.350905 \r\nL 59.343475 218.497641 \r\nL 59.458156 218.497641 \r\nL 59.687518 217.928799 \r\nL 59.687518 215.084587 \r\nL 59.8022 213.662481 \r\nL 60.719648 208.258478 \r\nL 61.063692 206.836372 \r\nL 61.178373 206.836372 \r\nL 61.178373 205.129845 \r\nL 61.407735 204.561003 \r\nL 61.407735 203.99216 \r\nL 61.522416 203.423318 \r\nL 61.637097 203.423318 \r\nL 61.637097 203.138897 \r\nL 61.866459 201.716791 \r\nL 62.095821 199.157 \r\nL 62.325184 199.157 \r\nL 62.898589 198.872579 \r\nL 62.898589 198.019315 \r\nL 63.127951 197.734894 \r\nL 63.127951 197.450473 \r\nL 63.357314 197.450473 \r\nL 63.816038 196.312788 \r\nL 63.816038 195.743946 \r\nL 63.930719 195.743946 \r\nL 64.389443 194.890682 \r\nL 64.389443 194.32184 \r\nL 64.618806 194.32184 \r\nL 65.07753 192.04647 \r\nL 65.07753 191.477628 \r\nL 65.192211 191.477628 \r\nL 65.421573 188.348995 \r\nL 65.880298 188.064574 \r\nL 65.880298 187.780152 \r\nL 66.224341 186.642468 \r\nL 66.453703 186.642468 \r\nL 66.453703 186.073625 \r\nL 66.797747 180.669623 \r\nL 67.485833 177.825411 \r\nL 67.485833 177.256568 \r\nL 68.403282 175.26562 \r\nL 69.435412 173.843514 \r\nL 70.123498 172.421408 \r\nL 70.811585 171.568145 \r\nL 71.729034 168.15509 \r\nL 72.646483 167.017406 \r\nL 72.646483 166.448563 \r\nL 73.219888 163.604351 \r\nL 74.48138 160.475718 \r\nL 74.710742 160.475718 \r\nL 74.710742 160.191297 \r\nL 74.825423 160.191297 \r\nL 76.201597 157.915927 \r\nL 76.660321 157.915927 \r\nL 77.233727 156.2094 \r\nL 77.57777 156.2094 \r\nL 77.57777 155.924979 \r\nL 78.380538 153.365188 \r\nL 78.380538 152.796346 \r\nL 78.495219 152.796346 \r\nL 79.068624 150.236555 \r\nL 79.183305 150.236555 \r\nL 79.183305 149.383292 \r\nL 79.297986 149.383292 \r\nL 79.297986 148.814449 \r\nL 79.412667 148.814449 \r\nL 79.412667 148.530028 \r\nL 80.444797 146.254659 \r\nL 80.444797 145.685816 \r\nL 80.559478 145.685816 \r\nL 80.559478 145.401395 \r\nL 80.67416 145.401395 \r\nL 80.67416 145.116974 \r\nL 81.362246 141.988341 \r\nL 81.476927 141.988341 \r\nL 81.476927 141.70392 \r\nL 82.394376 139.997392 \r\nL 83.311825 139.997392 \r\nL 84.229274 138.290865 \r\nL 84.229274 138.006444 \r\nL 84.573317 138.006444 \r\nL 84.573317 137.722023 \r\nL 85.376085 134.877811 \r\nL 85.605447 134.877811 \r\nL 85.605447 134.59339 \r\nL 85.720128 134.59339 \r\nL 87.210982 132.033599 \r\nL 87.210982 131.180336 \r\nL 87.325663 131.180336 \r\nL 87.325663 130.895914 \r\nL 87.440344 130.895914 \r\nL 88.816518 129.189387 \r\nL 89.04588 129.189387 \r\nL 89.04588 128.620545 \r\nL 89.389923 128.620545 \r\nL 89.389923 128.336124 \r\nL 89.619285 128.336124 \r\nL 91.683545 125.491912 \r\nL 91.683545 124.923069 \r\nL 91.912907 124.923069 \r\nL 91.912907 124.354227 \r\nL 92.25695 124.354227 \r\nL 94.206529 118.950224 \r\nL 94.550572 118.950224 \r\nL 94.550572 118.381382 \r\nL 96.958876 114.399485 \r\nL 96.958876 113.830643 \r\nL 97.188238 113.830643 \r\nL 97.188238 113.546222 \r\nL 97.4176 113.546222 \r\nL 99.023135 110.986431 \r\nL 99.252498 110.986431 \r\nL 101.660801 105.86685 \r\nL 101.890163 105.86685 \r\nL 101.890163 105.582428 \r\nL 102.004844 105.582428 \r\nL 104.871871 101.600532 \r\nL 104.871871 101.031689 \r\nL 105.330596 101.031689 \r\nL 105.330596 100.747268 \r\nL 107.165493 98.471899 \r\nL 107.165493 98.187478 \r\nL 107.280174 98.187478 \r\nL 109.688478 94.490002 \r\nL 109.688478 94.205581 \r\nL 109.803159 94.205581 \r\nL 110.261883 93.92116 \r\nL 112.440824 89.370421 \r\nL 114.275721 87.095051 \r\nL 114.505084 87.095051 \r\nL 114.505084 86.81063 \r\nL 114.849127 86.81063 \r\nL 114.849127 86.526209 \r\nL 114.963808 86.526209 \r\nL 118.518922 83.681997 \r\nL 119.32169 83.681997 \r\nL 122.647442 81.122206 \r\nL 123.220847 81.122206 \r\nL 123.220847 80.837785 \r\nL 123.679572 80.837785 \r\nL 128.037453 79.415679 \r\nL 128.037453 79.131258 \r\nL 128.266816 79.131258 \r\nL 128.266816 78.562415 \r\nL 128.496178 78.562415 \r\nL 133.886189 76.855888 \r\nL 133.886189 76.571467 \r\nL 134.230233 76.571467 \r\nL 134.230233 76.287046 \r\nL 137.326622 73.727255 \r\nL 137.900028 73.727255 \r\nL 137.900028 73.442834 \r\nL 138.014709 73.442834 \r\nL 142.831315 71.451886 \r\nL 142.831315 71.167464 \r\nL 143.060677 71.167464 \r\nL 143.060677 70.883043 \r\nL 144.092807 70.883043 \r\nL 148.56537 69.460937 \r\nL 148.56537 69.176516 \r\nL 148.909413 69.176516 \r\nL 151.776441 67.185568 \r\nL 152.120484 67.185568 \r\nL 152.120484 66.332304 \r\nL 152.464527 66.332304 \r\nL 152.464527 66.047883 \r\nL 152.69389 66.047883 \r\nL 156.478366 63.488092 \r\nL 156.478366 63.203671 \r\nL 156.593047 63.203671 \r\nL 156.593047 62.634829 \r\nL 156.93709 62.634829 \r\nL 156.93709 62.350408 \r\nL 157.510496 62.350408 \r\nL 161.524334 59.790617 \r\nL 162.212421 59.790617 \r\nL 167.717114 57.230826 \r\nL 167.717114 56.946405 \r\nL 168.290519 56.946405 \r\nL 175.171385 54.671035 \r\nL 175.171385 54.386614 \r\nL 175.286066 54.386614 \r\nL 180.676078 52.111245 \r\nL 181.249483 52.111245 \r\nL 181.249483 51.826823 \r\nL 181.708208 51.826823 \r\nL 181.708208 51.542402 \r\nL 181.93757 51.542402 \r\nL 188.015668 48.982612 \r\nL 188.015668 48.69819 \r\nL 188.474392 48.69819 \r\nL 188.474392 48.413769 \r\nL 188.703755 48.413769 \r\nL 195.928664 46.707242 \r\nL 196.846113 46.707242 \r\nL 203.382935 44.716294 \r\nL 203.84166 44.716294 \r\nL 203.84166 44.431873 \r\nL 204.185703 44.431873 \r\nL 204.185703 44.147451 \r\nL 204.300384 44.147451 \r\nL 204.415065 43.86303 \r\nL 214.851045 41.018818 \r\nL 214.851045 40.734397 \r\nL 215.424451 40.734397 \r\nL 215.424451 40.449976 \r\nL 215.997856 40.449976 \r\nL 224.369576 39.596712 \r\nL 224.369576 39.312291 \r\nL 225.401706 39.312291 \r\nL 236.869816 37.890185 \r\nL 237.672584 37.890185 \r\nL 251.89304 36.7525 \r\nL 251.89304 36.468079 \r\nL 265.42541 35.899237 \r\nL 265.654772 35.614816 \r\nL 266.45754 35.614816 \r\nL 284.23311 35.045973 \r\nL 306.595924 34.477131 \r\nL 306.825286 34.19271 \r\nL 307.513373 34.19271 \r\nL 331.252361 33.055025 \r\nL 332.857896 32.770604 \r\nL 363.363068 32.201761 \r\nL 363.363068 32.201761 \r\n\" style=\"fill:none;stroke:#ff7f0e;stroke-linecap:square;stroke-width:1.5;\"/>\r\n   </g>\r\n   <g id=\"line2d_15\">\r\n    <path clip-path=\"url(#p5307745e74)\" d=\"M 58.999432 229.874489 \r\nL 59.93092 219.654674 \r\nL 60.513099 215.082652 \r\nL 61.095279 212.66217 \r\nL 61.793895 202.442355 \r\nL 62.026767 202.442355 \r\nL 62.492511 200.290815 \r\nL 62.608947 200.290815 \r\nL 62.725383 199.483988 \r\nL 63.074691 199.215045 \r\nL 63.540435 197.60139 \r\nL 63.773307 197.60139 \r\nL 64.471923 196.794563 \r\nL 64.937666 196.52562 \r\nL 65.40341 195.987735 \r\nL 65.636282 194.643023 \r\nL 65.636282 193.836196 \r\nL 66.334898 192.222541 \r\nL 66.56777 192.222541 \r\nL 67.382822 189.802058 \r\nL 67.615694 189.802058 \r\nL 69.012926 188.995231 \r\nL 69.478669 186.843691 \r\nL 70.177285 186.843691 \r\nL 70.526593 186.574748 \r\nL 70.875901 186.036863 \r\nL 71.341645 185.767921 \r\nL 71.458081 185.230036 \r\nL 71.807389 185.230036 \r\nL 72.506005 184.423208 \r\nL 72.622441 183.885324 \r\nL 72.622441 182.540611 \r\nL 73.088185 182.002726 \r\nL 73.437493 180.658014 \r\nL 73.437493 179.851186 \r\nL 73.670365 179.851186 \r\nL 73.670365 179.313301 \r\nL 73.786801 178.775416 \r\nL 73.903237 178.775416 \r\nL 73.903237 178.506474 \r\nL 74.252544 178.506474 \r\nL 74.252544 178.237531 \r\nL 74.36898 178.237531 \r\nL 74.36898 177.699646 \r\nL 75.184032 175.548106 \r\nL 75.416904 175.548106 \r\nL 75.416904 175.279164 \r\nL 75.999084 175.279164 \r\nL 75.999084 175.010221 \r\nL 76.11552 175.010221 \r\nL 76.11552 174.741279 \r\nL 76.231956 173.934452 \r\nL 76.464828 173.934452 \r\nL 77.047008 172.320797 \r\nL 77.047008 172.051854 \r\nL 77.163444 172.051854 \r\nL 77.163444 171.513969 \r\nL 77.512752 171.513969 \r\nL 77.512752 169.631372 \r\nL 78.094932 169.093487 \r\nL 78.444239 169.093487 \r\nL 78.444239 168.824544 \r\nL 78.909983 168.555602 \r\nL 78.909983 168.017717 \r\nL 80.540087 164.252522 \r\nL 80.772959 164.252522 \r\nL 80.772959 163.445695 \r\nL 81.122267 162.369925 \r\nL 81.238703 161.563097 \r\nL 81.937319 161.563097 \r\nL 81.937319 161.294155 \r\nL 82.519499 160.218385 \r\nL 82.752371 160.218385 \r\nL 83.683858 158.335787 \r\nL 84.848218 156.184247 \r\nL 84.848218 155.37742 \r\nL 85.08109 155.37742 \r\nL 85.313962 155.108478 \r\nL 85.66327 155.108478 \r\nL 86.594758 153.22588 \r\nL 86.944066 152.956938 \r\nL 87.40981 152.956938 \r\nL 87.526245 152.419053 \r\nL 87.875553 152.419053 \r\nL 87.875553 152.15011 \r\nL 87.991989 152.15011 \r\nL 87.991989 151.881168 \r\nL 88.224861 151.881168 \r\nL 88.341297 151.343283 \r\nL 88.341297 150.536455 \r\nL 88.574169 150.536455 \r\nL 88.807041 150.267513 \r\nL 89.039913 150.267513 \r\nL 89.039913 149.99857 \r\nL 89.272785 149.729628 \r\nL 89.505657 149.729628 \r\nL 89.505657 149.191743 \r\nL 89.738529 149.191743 \r\nL 89.738529 148.653858 \r\nL 89.854965 148.384915 \r\nL 89.854965 147.84703 \r\nL 89.971401 147.84703 \r\nL 89.971401 147.040203 \r\nL 90.553581 146.502318 \r\nL 90.786453 146.233375 \r\nL 90.786453 145.964433 \r\nL 90.902889 145.964433 \r\nL 91.019325 145.69549 \r\nL 91.368633 145.426548 \r\nL 91.368633 144.619721 \r\nL 91.834377 143.275008 \r\nL 91.834377 142.737123 \r\nL 96.026072 135.744619 \r\nL 96.026072 134.668849 \r\nL 96.258944 134.399906 \r\nL 96.258944 134.130964 \r\nL 96.37538 134.130964 \r\nL 96.37538 133.055194 \r\nL 96.491815 133.055194 \r\nL 96.491815 132.786251 \r\nL 96.608251 132.786251 \r\nL 96.608251 132.517309 \r\nL 96.724687 132.517309 \r\nL 96.724687 132.248366 \r\nL 97.306867 132.248366 \r\nL 97.889047 131.172596 \r\nL 99.169843 131.172596 \r\nL 99.286279 130.634711 \r\nL 99.519151 130.365769 \r\nL 99.752023 130.365769 \r\nL 99.752023 130.096826 \r\nL 99.984895 129.021056 \r\nL 100.334203 129.021056 \r\nL 100.334203 128.752114 \r\nL 100.450639 128.483171 \r\nL 101.149254 128.483171 \r\nL 102.895794 124.986919 \r\nL 102.895794 124.717977 \r\nL 103.01223 124.449034 \r\nL 103.361538 124.449034 \r\nL 103.361538 123.911149 \r\nL 103.59441 123.642207 \r\nL 103.59441 122.566437 \r\nL 103.710846 122.566437 \r\nL 104.060154 122.028552 \r\nL 105.34095 122.028552 \r\nL 105.34095 121.490667 \r\nL 105.457385 121.490667 \r\nL 105.573821 121.221724 \r\nL 105.806693 121.221724 \r\nL 106.039565 120.952782 \r\nL 106.272437 120.952782 \r\nL 106.272437 120.683839 \r\nL 106.738181 120.683839 \r\nL 106.738181 120.145954 \r\nL 107.203925 120.145954 \r\nL 107.553233 119.339127 \r\nL 107.553233 118.532299 \r\nL 108.018977 118.532299 \r\nL 108.368285 117.994414 \r\nL 108.717593 117.994414 \r\nL 108.717593 117.725472 \r\nL 108.834029 117.725472 \r\nL 108.834029 117.456529 \r\nL 108.950465 117.187587 \r\nL 109.299773 117.187587 \r\nL 109.299773 116.649702 \r\nL 109.532645 116.649702 \r\nL 109.649081 116.38076 \r\nL 109.765517 115.573932 \r\nL 109.881953 115.573932 \r\nL 109.881953 115.30499 \r\nL 110.114824 115.30499 \r\nL 110.23126 115.036047 \r\nL 111.046312 115.036047 \r\nL 111.046312 114.767105 \r\nL 111.162748 114.767105 \r\nL 111.162748 114.22922 \r\nL 111.39562 114.22922 \r\nL 111.512056 113.960277 \r\nL 113.840776 112.346622 \r\nL 113.957212 111.808737 \r\nL 115.121571 111.808737 \r\nL 115.121571 111.539795 \r\nL 115.354443 111.539795 \r\nL 115.354443 111.00191 \r\nL 115.587315 111.00191 \r\nL 115.587315 110.732967 \r\nL 115.703751 110.732967 \r\nL 115.703751 108.581427 \r\nL 115.936623 108.581427 \r\nL 115.936623 108.312485 \r\nL 116.402367 106.160945 \r\nL 116.518803 106.160945 \r\nL 116.518803 105.892003 \r\nL 117.916035 105.892003 \r\nL 117.916035 105.62306 \r\nL 118.614651 105.62306 \r\nL 118.614651 105.354118 \r\nL 119.895446 104.009405 \r\nL 119.895446 102.664693 \r\nL 120.36119 102.39575 \r\nL 120.36119 102.126808 \r\nL 120.477626 102.126808 \r\nL 120.477626 101.857865 \r\nL 120.826934 101.857865 \r\nL 122.10773 101.588923 \r\nL 122.10773 101.31998 \r\nL 122.457038 101.31998 \r\nL 122.68991 101.051038 \r\nL 122.922782 101.051038 \r\nL 122.922782 100.513153 \r\nL 123.388526 100.513153 \r\nL 123.970705 99.16844 \r\nL 124.320013 98.899498 \r\nL 124.669321 98.899498 \r\nL 124.669321 98.09267 \r\nL 124.902193 97.823728 \r\nL 124.902193 97.554785 \r\nL 125.251501 97.554785 \r\nL 125.833681 95.403246 \r\nL 126.299425 95.134303 \r\nL 126.532297 93.251706 \r\nL 127.463785 93.251706 \r\nL 127.813093 91.906993 \r\nL 128.395272 91.369108 \r\nL 128.628144 90.562281 \r\nL 129.093888 90.562281 \r\nL 129.443196 90.024396 \r\nL 130.025376 89.486511 \r\nL 130.607556 89.486511 \r\nL 132.004788 88.679683 \r\nL 132.23766 87.334971 \r\nL 132.586967 87.334971 \r\nL 133.867763 86.528144 \r\nL 134.333507 85.990259 \r\nL 134.682815 85.452374 \r\nL 135.264995 85.452374 \r\nL 135.730739 85.183431 \r\nL 136.196483 84.914489 \r\nL 137.12797 83.031891 \r\nL 137.360842 83.031891 \r\nL 137.593714 82.762949 \r\nL 142.600461 77.115157 \r\nL 143.415513 77.115157 \r\nL 144.347001 75.770444 \r\nL 144.929181 75.770444 \r\nL 145.045617 75.501502 \r\nL 145.744233 75.501502 \r\nL 147.607208 74.425732 \r\nL 150.518107 72.812077 \r\nL 150.867415 72.005249 \r\nL 151.216723 71.736307 \r\nL 151.333159 71.198422 \r\nL 159.716549 69.315824 \r\nL 160.764473 68.508997 \r\nL 163.558937 67.70217 \r\nL 165.654784 65.55063 \r\nL 166.120528 65.281687 \r\nL 167.168452 65.281687 \r\nL 167.401324 65.012745 \r\nL 168.565683 64.47486 \r\nL 169.380735 63.668032 \r\nL 171.010839 63.39909 \r\nL 173.223122 62.054377 \r\nL 175.086098 60.440722 \r\nL 176.017586 60.440722 \r\nL 183.353052 58.289183 \r\nL 183.70236 58.02024 \r\nL 184.517412 56.137643 \r\nL 186.613259 55.061873 \r\nL 186.729695 54.79293 \r\nL 195.811701 52.910333 \r\nL 198.373293 52.910333 \r\nL 198.489729 52.64139 \r\nL 201.517064 51.834563 \r\nL 201.866372 51.56562 \r\nL 204.078656 51.296678 \r\nL 204.660835 50.48985 \r\nL 205.475887 49.951965 \r\nL 209.43471 49.683023 \r\nL 219.797512 43.228403 \r\nL 221.89336 42.959461 \r\nL 263.693874 37.042726 \r\nL 265.091106 36.235899 \r\nL 311.316188 33.546474 \r\nL 363.363068 32.201761 \r\nL 363.363068 32.201761 \r\n\" style=\"fill:none;stroke:#2ca02c;stroke-linecap:square;stroke-width:1.5;\"/>\r\n   </g>\r\n   <g id=\"line2d_16\">\r\n    <path clip-path=\"url(#p5307745e74)\" d=\"M 58.999432 229.874489 \r\nL 59.8022 222.195116 \r\nL 60.94901 216.506693 \r\nL 61.293054 211.955954 \r\nL 61.637097 209.111742 \r\nL 61.866459 209.111742 \r\nL 62.095821 208.542899 \r\nL 62.669227 206.551951 \r\nL 62.783908 205.698687 \r\nL 62.898589 203.707739 \r\nL 63.127951 202.285633 \r\nL 63.127951 201.147948 \r\nL 63.930719 198.588158 \r\nL 64.733487 197.734894 \r\nL 64.733487 197.166052 \r\nL 65.192211 196.312788 \r\nL 65.421573 196.312788 \r\nL 66.224341 194.32184 \r\nL 66.797747 191.193207 \r\nL 67.14179 190.055522 \r\nL 67.14179 188.633416 \r\nL 67.485833 186.926889 \r\nL 67.944558 186.926889 \r\nL 68.059239 186.642468 \r\nL 68.288601 186.642468 \r\nL 68.403282 186.073625 \r\nL 68.403282 185.220362 \r\nL 68.632644 184.367098 \r\nL 69.779455 182.944992 \r\nL 69.779455 182.660571 \r\nL 70.582223 182.37615 \r\nL 70.582223 181.522886 \r\nL 70.696904 181.238465 \r\nL 70.696904 180.669623 \r\nL 71.040947 179.531938 \r\nL 71.270309 179.531938 \r\nL 71.499672 178.394253 \r\nL 71.614353 178.394253 \r\nL 72.990526 176.687726 \r\nL 72.990526 176.118884 \r\nL 73.334569 175.834462 \r\nL 73.334569 175.26562 \r\nL 73.44925 175.26562 \r\nL 73.44925 174.696778 \r\nL 75.398829 169.577196 \r\nL 75.628191 168.15509 \r\nL 75.972234 167.301827 \r\nL 76.660321 166.448563 \r\nL 77.233727 166.448563 \r\nL 77.233727 166.164142 \r\nL 77.348408 166.164142 \r\nL 77.921813 165.026457 \r\nL 78.151175 164.742036 \r\nL 78.151175 164.173194 \r\nL 78.380538 163.31993 \r\nL 78.380538 163.035509 \r\nL 79.068624 163.035509 \r\nL 79.068624 162.751088 \r\nL 79.183305 162.751088 \r\nL 79.297986 161.897824 \r\nL 79.527349 161.897824 \r\nL 79.527349 161.613403 \r\nL 81.018203 157.347085 \r\nL 81.476927 157.347085 \r\nL 81.476927 157.062664 \r\nL 81.706289 157.062664 \r\nL 81.706289 156.2094 \r\nL 82.279695 154.787294 \r\nL 82.509057 154.787294 \r\nL 82.8531 154.218452 \r\nL 82.8531 153.64961 \r\nL 83.197144 153.64961 \r\nL 83.197144 153.080767 \r\nL 83.311825 153.080767 \r\nL 83.311825 152.511925 \r\nL 83.541187 151.943082 \r\nL 83.541187 150.520977 \r\nL 84.114592 150.520977 \r\nL 84.114592 150.236555 \r\nL 84.458636 149.667713 \r\nL 84.802679 149.667713 \r\nL 84.802679 149.383292 \r\nL 85.261403 149.383292 \r\nL 85.261403 149.098871 \r\nL 85.376085 149.098871 \r\nL 85.376085 148.814449 \r\nL 85.490766 148.814449 \r\nL 85.834809 148.245607 \r\nL 86.064171 147.961186 \r\nL 86.064171 147.392343 \r\nL 86.408214 147.392343 \r\nL 86.408214 147.107922 \r\nL 86.752258 147.107922 \r\nL 90.422053 141.135077 \r\nL 90.766096 140.850656 \r\nL 90.766096 140.566235 \r\nL 90.880777 140.566235 \r\nL 90.880777 139.712971 \r\nL 91.224821 139.712971 \r\nL 91.224821 139.42855 \r\nL 91.339502 139.42855 \r\nL 91.339502 139.144129 \r\nL 91.798226 138.006444 \r\nL 92.027588 138.006444 \r\nL 92.027588 136.868759 \r\nL 92.142269 136.868759 \r\nL 92.486313 136.584338 \r\nL 92.830356 136.584338 \r\nL 92.830356 136.299917 \r\nL 93.059718 136.015496 \r\nL 93.28908 136.015496 \r\nL 93.977167 135.731075 \r\nL 94.32121 135.731075 \r\nL 94.550572 135.162232 \r\nL 95.238659 135.162232 \r\nL 95.697383 134.024547 \r\nL 97.991005 130.895914 \r\nL 97.991005 130.611493 \r\nL 98.564411 130.611493 \r\nL 98.564411 130.327072 \r\nL 98.679092 130.327072 \r\nL 98.679092 129.75823 \r\nL 99.825903 129.75823 \r\nL 99.825903 129.473808 \r\nL 100.169946 128.336124 \r\nL 100.169946 128.051703 \r\nL 100.399309 127.767281 \r\nL 100.399309 126.345175 \r\nL 100.51399 126.345175 \r\nL 100.51399 125.207491 \r\nL 100.972714 125.207491 \r\nL 101.431438 124.354227 \r\nL 102.004844 123.216542 \r\nL 102.004844 122.6477 \r\nL 102.234206 122.363279 \r\nL 102.234206 121.225594 \r\nL 102.578249 121.225594 \r\nL 102.69293 120.087909 \r\nL 102.807612 120.087909 \r\nL 102.807612 119.519067 \r\nL 103.036974 119.519067 \r\nL 103.266336 119.234646 \r\nL 104.069104 118.381382 \r\nL 104.413147 118.381382 \r\nL 107.280174 116.959276 \r\nL 107.394856 116.390434 \r\nL 108.082942 116.390434 \r\nL 108.082942 116.106013 \r\nL 108.426985 115.821591 \r\nL 109.229753 115.821591 \r\nL 109.229753 115.53717 \r\nL 109.344434 115.53717 \r\nL 109.344434 115.252749 \r\nL 109.459115 115.252749 \r\nL 109.459115 114.399485 \r\nL 109.688478 114.399485 \r\nL 109.688478 113.830643 \r\nL 109.803159 113.830643 \r\nL 110.376564 112.977379 \r\nL 111.867418 110.986431 \r\nL 112.096781 110.986431 \r\nL 112.096781 110.417589 \r\nL 112.326143 110.417589 \r\nL 112.670186 110.133168 \r\nL 112.670186 109.564325 \r\nL 112.899548 109.564325 \r\nL 112.899548 109.279904 \r\nL 113.12891 109.279904 \r\nL 113.243592 108.995483 \r\nL 113.243592 108.42664 \r\nL 113.702316 108.142219 \r\nL 113.931678 108.142219 \r\nL 114.505084 107.857798 \r\nL 114.505084 107.573377 \r\nL 114.963808 107.573377 \r\nL 114.963808 107.288956 \r\nL 115.422532 106.151271 \r\nL 116.110619 106.151271 \r\nL 116.2253 105.582428 \r\nL 117.142749 104.444744 \r\nL 117.601473 104.444744 \r\nL 117.830836 104.160323 \r\nL 118.404241 104.160323 \r\nL 118.633603 103.875901 \r\nL 118.862965 103.875901 \r\nL 118.862965 103.307059 \r\nL 119.207009 102.453795 \r\nL 119.436371 102.453795 \r\nL 119.551052 102.169374 \r\nL 119.780414 102.169374 \r\nL 120.009776 101.600532 \r\nL 122.074036 101.600532 \r\nL 122.074036 101.316111 \r\nL 122.303398 100.178426 \r\nL 122.991485 99.325162 \r\nL 123.679572 99.325162 \r\nL 124.138296 99.040741 \r\nL 124.138296 97.618635 \r\nL 124.711701 97.618635 \r\nL 125.62915 95.627687 \r\nL 125.62915 94.774423 \r\nL 126.087875 94.774423 \r\nL 127.922772 93.636738 \r\nL 128.037453 92.783475 \r\nL 128.381497 92.783475 \r\nL 128.381497 91.930211 \r\nL 128.610859 91.930211 \r\nL 129.184264 91.076948 \r\nL 131.019162 90.508105 \r\nL 131.477886 90.508105 \r\nL 132.051292 89.085999 \r\nL 132.739378 89.085999 \r\nL 132.968741 88.801578 \r\nL 132.968741 88.517157 \r\nL 133.198103 88.232736 \r\nL 135.033 86.526209 \r\nL 135.147681 85.957366 \r\nL 135.377044 85.672945 \r\nL 135.950449 85.672945 \r\nL 136.294492 85.388524 \r\nL 136.523855 85.388524 \r\nL 140.652374 81.406627 \r\nL 141.340461 81.406627 \r\nL 142.601953 80.553364 \r\nL 143.748764 80.553364 \r\nL 143.748764 79.7001 \r\nL 144.207488 79.415679 \r\nL 145.46898 78.562415 \r\nL 148.680051 77.424731 \r\nL 149.712181 75.149361 \r\nL 159.345393 73.158413 \r\nL 160.262842 72.305149 \r\nL 163.588594 72.020728 \r\nL 166.455621 68.323253 \r\nL 167.029027 67.75441 \r\nL 167.143708 66.901147 \r\nL 167.831795 65.194619 \r\nL 168.863925 63.772513 \r\nL 169.207968 63.772513 \r\nL 170.813503 62.91925 \r\nL 172.189676 62.91925 \r\nL 172.419039 62.350408 \r\nL 173.336487 61.497144 \r\nL 173.680531 60.928302 \r\nL 177.006283 60.64388 \r\nL 177.006283 60.359459 \r\nL 178.267775 59.790617 \r\nL 187.098219 57.515247 \r\nL 188.015668 56.377563 \r\nL 189.27716 55.239878 \r\nL 190.079928 55.239878 \r\nL 190.538652 54.955457 \r\nL 198.795691 51.826823 \r\nL 198.910372 51.257981 \r\nL 204.185703 49.267033 \r\nL 205.217833 48.413769 \r\nL 207.970179 48.413769 \r\nL 209.461034 47.560506 \r\nL 210.378482 47.276084 \r\nL 214.507002 46.422821 \r\nL 228.727458 42.725345 \r\nL 229.415545 42.725345 \r\nL 270.815421 35.899237 \r\nL 271.962232 35.330394 \r\nL 321.275105 33.339446 \r\nL 363.363068 32.201761 \r\nL 363.363068 32.201761 \r\n\" style=\"fill:none;stroke:#d62728;stroke-linecap:square;stroke-width:1.5;\"/>\r\n   </g>\r\n   <g id=\"line2d_17\">\r\n    <path clip-path=\"url(#p5307745e74)\" d=\"M 58.999432 229.874489 \r\nL 363.363068 32.201761 \r\n\" style=\"fill:none;stroke:#808080;stroke-dasharray:5.55,2.4;stroke-dashoffset:0;stroke-width:1.5;\"/>\r\n   </g>\r\n   <g id=\"line2d_18\">\r\n    <path clip-path=\"url(#p5307745e74)\" d=\"M 58.999432 229.874489 \r\nL 363.363068 32.201761 \r\n\" style=\"fill:none;stroke:#808080;stroke-dasharray:5.55,2.4;stroke-dashoffset:0;stroke-width:1.5;\"/>\r\n   </g>\r\n   <g id=\"patch_3\">\r\n    <path d=\"M 43.78125 239.758125 \r\nL 43.78125 22.318125 \r\n\" style=\"fill:none;stroke:#000000;stroke-linecap:square;stroke-linejoin:miter;stroke-width:0.8;\"/>\r\n   </g>\r\n   <g id=\"patch_4\">\r\n    <path d=\"M 378.58125 239.758125 \r\nL 378.58125 22.318125 \r\n\" style=\"fill:none;stroke:#000000;stroke-linecap:square;stroke-linejoin:miter;stroke-width:0.8;\"/>\r\n   </g>\r\n   <g id=\"patch_5\">\r\n    <path d=\"M 43.78125 239.758125 \r\nL 378.58125 239.758125 \r\n\" style=\"fill:none;stroke:#000000;stroke-linecap:square;stroke-linejoin:miter;stroke-width:0.8;\"/>\r\n   </g>\r\n   <g id=\"patch_6\">\r\n    <path d=\"M 43.78125 22.318125 \r\nL 378.58125 22.318125 \r\n\" style=\"fill:none;stroke:#000000;stroke-linecap:square;stroke-linejoin:miter;stroke-width:0.8;\"/>\r\n   </g>\r\n   <g id=\"text_15\">\r\n    <!-- ROC Curve for Netflix Models -->\r\n    <g transform=\"translate(123.848438 16.318125)scale(0.12 -0.12)\">\r\n     <defs>\r\n      <path d=\"M 2522 4238 \r\nQ 1834 4238 1429 3725 \r\nQ 1025 3213 1025 2328 \r\nQ 1025 1447 1429 934 \r\nQ 1834 422 2522 422 \r\nQ 3209 422 3611 934 \r\nQ 4013 1447 4013 2328 \r\nQ 4013 3213 3611 3725 \r\nQ 3209 4238 2522 4238 \r\nz\r\nM 2522 4750 \r\nQ 3503 4750 4090 4092 \r\nQ 4678 3434 4678 2328 \r\nQ 4678 1225 4090 567 \r\nQ 3503 -91 2522 -91 \r\nQ 1538 -91 948 565 \r\nQ 359 1222 359 2328 \r\nQ 359 3434 948 4092 \r\nQ 1538 4750 2522 4750 \r\nz\r\n\" id=\"DejaVuSans-4f\" transform=\"scale(0.015625)\"/>\r\n      <path d=\"M 4122 4306 \r\nL 4122 3641 \r\nQ 3803 3938 3442 4084 \r\nQ 3081 4231 2675 4231 \r\nQ 1875 4231 1450 3742 \r\nQ 1025 3253 1025 2328 \r\nQ 1025 1406 1450 917 \r\nQ 1875 428 2675 428 \r\nQ 3081 428 3442 575 \r\nQ 3803 722 4122 1019 \r\nL 4122 359 \r\nQ 3791 134 3420 21 \r\nQ 3050 -91 2638 -91 \r\nQ 1578 -91 968 557 \r\nQ 359 1206 359 2328 \r\nQ 359 3453 968 4101 \r\nQ 1578 4750 2638 4750 \r\nQ 3056 4750 3426 4639 \r\nQ 3797 4528 4122 4306 \r\nz\r\n\" id=\"DejaVuSans-43\" transform=\"scale(0.015625)\"/>\r\n      <path d=\"M 2375 4863 \r\nL 2375 4384 \r\nL 1825 4384 \r\nQ 1516 4384 1395 4259 \r\nQ 1275 4134 1275 3809 \r\nL 1275 3500 \r\nL 2222 3500 \r\nL 2222 3053 \r\nL 1275 3053 \r\nL 1275 0 \r\nL 697 0 \r\nL 697 3053 \r\nL 147 3053 \r\nL 147 3500 \r\nL 697 3500 \r\nL 697 3744 \r\nQ 697 4328 969 4595 \r\nQ 1241 4863 1831 4863 \r\nL 2375 4863 \r\nz\r\n\" id=\"DejaVuSans-66\" transform=\"scale(0.015625)\"/>\r\n      <path d=\"M 628 4666 \r\nL 1478 4666 \r\nL 3547 763 \r\nL 3547 4666 \r\nL 4159 4666 \r\nL 4159 0 \r\nL 3309 0 \r\nL 1241 3903 \r\nL 1241 0 \r\nL 628 0 \r\nL 628 4666 \r\nz\r\n\" id=\"DejaVuSans-4e\" transform=\"scale(0.015625)\"/>\r\n      <path d=\"M 3513 3500 \r\nL 2247 1797 \r\nL 3578 0 \r\nL 2900 0 \r\nL 1881 1375 \r\nL 863 0 \r\nL 184 0 \r\nL 1544 1831 \r\nL 300 3500 \r\nL 978 3500 \r\nL 1906 2253 \r\nL 2834 3500 \r\nL 3513 3500 \r\nz\r\n\" id=\"DejaVuSans-78\" transform=\"scale(0.015625)\"/>\r\n      <path d=\"M 628 4666 \r\nL 1569 4666 \r\nL 2759 1491 \r\nL 3956 4666 \r\nL 4897 4666 \r\nL 4897 0 \r\nL 4281 0 \r\nL 4281 4097 \r\nL 3078 897 \r\nL 2444 897 \r\nL 1241 4097 \r\nL 1241 0 \r\nL 628 0 \r\nL 628 4666 \r\nz\r\n\" id=\"DejaVuSans-4d\" transform=\"scale(0.015625)\"/>\r\n      <path d=\"M 2906 2969 \r\nL 2906 4863 \r\nL 3481 4863 \r\nL 3481 0 \r\nL 2906 0 \r\nL 2906 525 \r\nQ 2725 213 2448 61 \r\nQ 2172 -91 1784 -91 \r\nQ 1150 -91 751 415 \r\nQ 353 922 353 1747 \r\nQ 353 2572 751 3078 \r\nQ 1150 3584 1784 3584 \r\nQ 2172 3584 2448 3432 \r\nQ 2725 3281 2906 2969 \r\nz\r\nM 947 1747 \r\nQ 947 1113 1208 752 \r\nQ 1469 391 1925 391 \r\nQ 2381 391 2643 752 \r\nQ 2906 1113 2906 1747 \r\nQ 2906 2381 2643 2742 \r\nQ 2381 3103 1925 3103 \r\nQ 1469 3103 1208 2742 \r\nQ 947 2381 947 1747 \r\nz\r\n\" id=\"DejaVuSans-64\" transform=\"scale(0.015625)\"/>\r\n     </defs>\r\n     <use xlink:href=\"#DejaVuSans-52\"/>\r\n     <use x=\"69.482422\" xlink:href=\"#DejaVuSans-4f\"/>\r\n     <use x=\"148.193359\" xlink:href=\"#DejaVuSans-43\"/>\r\n     <use x=\"218.017578\" xlink:href=\"#DejaVuSans-20\"/>\r\n     <use x=\"249.804688\" xlink:href=\"#DejaVuSans-43\"/>\r\n     <use x=\"319.628906\" xlink:href=\"#DejaVuSans-75\"/>\r\n     <use x=\"383.007812\" xlink:href=\"#DejaVuSans-72\"/>\r\n     <use x=\"424.121094\" xlink:href=\"#DejaVuSans-76\"/>\r\n     <use x=\"483.300781\" xlink:href=\"#DejaVuSans-65\"/>\r\n     <use x=\"544.824219\" xlink:href=\"#DejaVuSans-20\"/>\r\n     <use x=\"576.611328\" xlink:href=\"#DejaVuSans-66\"/>\r\n     <use x=\"611.816406\" xlink:href=\"#DejaVuSans-6f\"/>\r\n     <use x=\"672.998047\" xlink:href=\"#DejaVuSans-72\"/>\r\n     <use x=\"714.111328\" xlink:href=\"#DejaVuSans-20\"/>\r\n     <use x=\"745.898438\" xlink:href=\"#DejaVuSans-4e\"/>\r\n     <use x=\"820.703125\" xlink:href=\"#DejaVuSans-65\"/>\r\n     <use x=\"882.226562\" xlink:href=\"#DejaVuSans-74\"/>\r\n     <use x=\"921.435547\" xlink:href=\"#DejaVuSans-66\"/>\r\n     <use x=\"956.640625\" xlink:href=\"#DejaVuSans-6c\"/>\r\n     <use x=\"984.423828\" xlink:href=\"#DejaVuSans-69\"/>\r\n     <use x=\"1012.207031\" xlink:href=\"#DejaVuSans-78\"/>\r\n     <use x=\"1071.386719\" xlink:href=\"#DejaVuSans-20\"/>\r\n     <use x=\"1103.173828\" xlink:href=\"#DejaVuSans-4d\"/>\r\n     <use x=\"1189.453125\" xlink:href=\"#DejaVuSans-6f\"/>\r\n     <use x=\"1250.634766\" xlink:href=\"#DejaVuSans-64\"/>\r\n     <use x=\"1314.111328\" xlink:href=\"#DejaVuSans-65\"/>\r\n     <use x=\"1375.634766\" xlink:href=\"#DejaVuSans-6c\"/>\r\n     <use x=\"1403.417969\" xlink:href=\"#DejaVuSans-73\"/>\r\n    </g>\r\n   </g>\r\n   <g id=\"legend_1\">\r\n    <g id=\"patch_7\">\r\n     <path d=\"M 241.460938 234.758125 \r\nL 371.58125 234.758125 \r\nQ 373.58125 234.758125 373.58125 232.758125 \r\nL 373.58125 175.045625 \r\nQ 373.58125 173.045625 371.58125 173.045625 \r\nL 241.460938 173.045625 \r\nQ 239.460938 173.045625 239.460938 175.045625 \r\nL 239.460938 232.758125 \r\nQ 239.460938 234.758125 241.460938 234.758125 \r\nz\r\n\" style=\"fill:#ffffff;opacity:0.8;stroke:#cccccc;stroke-linejoin:miter;\"/>\r\n    </g>\r\n    <g id=\"line2d_19\">\r\n     <path d=\"M 243.460938 181.144062 \r\nL 263.460938 181.144062 \r\n\" style=\"fill:none;stroke:#1f77b4;stroke-linecap:square;stroke-width:1.5;\"/>\r\n    </g>\r\n    <g id=\"line2d_20\"/>\r\n    <g id=\"text_16\">\r\n     <!-- Random Forest Val -->\r\n     <g transform=\"translate(271.460938 184.644062)scale(0.1 -0.1)\">\r\n      <defs>\r\n       <path d=\"M 3513 2113 \r\nL 3513 0 \r\nL 2938 0 \r\nL 2938 2094 \r\nQ 2938 2591 2744 2837 \r\nQ 2550 3084 2163 3084 \r\nQ 1697 3084 1428 2787 \r\nQ 1159 2491 1159 1978 \r\nL 1159 0 \r\nL 581 0 \r\nL 581 3500 \r\nL 1159 3500 \r\nL 1159 2956 \r\nQ 1366 3272 1645 3428 \r\nQ 1925 3584 2291 3584 \r\nQ 2894 3584 3203 3211 \r\nQ 3513 2838 3513 2113 \r\nz\r\n\" id=\"DejaVuSans-6e\" transform=\"scale(0.015625)\"/>\r\n       <path d=\"M 3328 2828 \r\nQ 3544 3216 3844 3400 \r\nQ 4144 3584 4550 3584 \r\nQ 5097 3584 5394 3201 \r\nQ 5691 2819 5691 2113 \r\nL 5691 0 \r\nL 5113 0 \r\nL 5113 2094 \r\nQ 5113 2597 4934 2840 \r\nQ 4756 3084 4391 3084 \r\nQ 3944 3084 3684 2787 \r\nQ 3425 2491 3425 1978 \r\nL 3425 0 \r\nL 2847 0 \r\nL 2847 2094 \r\nQ 2847 2600 2669 2842 \r\nQ 2491 3084 2119 3084 \r\nQ 1678 3084 1418 2786 \r\nQ 1159 2488 1159 1978 \r\nL 1159 0 \r\nL 581 0 \r\nL 581 3500 \r\nL 1159 3500 \r\nL 1159 2956 \r\nQ 1356 3278 1631 3431 \r\nQ 1906 3584 2284 3584 \r\nQ 2666 3584 2933 3390 \r\nQ 3200 3197 3328 2828 \r\nz\r\n\" id=\"DejaVuSans-6d\" transform=\"scale(0.015625)\"/>\r\n       <path d=\"M 1831 0 \r\nL 50 4666 \r\nL 709 4666 \r\nL 2188 738 \r\nL 3669 4666 \r\nL 4325 4666 \r\nL 2547 0 \r\nL 1831 0 \r\nz\r\n\" id=\"DejaVuSans-56\" transform=\"scale(0.015625)\"/>\r\n      </defs>\r\n      <use xlink:href=\"#DejaVuSans-52\"/>\r\n      <use x=\"67.232422\" xlink:href=\"#DejaVuSans-61\"/>\r\n      <use x=\"128.511719\" xlink:href=\"#DejaVuSans-6e\"/>\r\n      <use x=\"191.890625\" xlink:href=\"#DejaVuSans-64\"/>\r\n      <use x=\"255.367188\" xlink:href=\"#DejaVuSans-6f\"/>\r\n      <use x=\"316.548828\" xlink:href=\"#DejaVuSans-6d\"/>\r\n      <use x=\"413.960938\" xlink:href=\"#DejaVuSans-20\"/>\r\n      <use x=\"445.748047\" xlink:href=\"#DejaVuSans-46\"/>\r\n      <use x=\"499.642578\" xlink:href=\"#DejaVuSans-6f\"/>\r\n      <use x=\"560.824219\" xlink:href=\"#DejaVuSans-72\"/>\r\n      <use x=\"599.6875\" xlink:href=\"#DejaVuSans-65\"/>\r\n      <use x=\"661.210938\" xlink:href=\"#DejaVuSans-73\"/>\r\n      <use x=\"713.310547\" xlink:href=\"#DejaVuSans-74\"/>\r\n      <use x=\"752.519531\" xlink:href=\"#DejaVuSans-20\"/>\r\n      <use x=\"784.306641\" xlink:href=\"#DejaVuSans-56\"/>\r\n      <use x=\"844.964844\" xlink:href=\"#DejaVuSans-61\"/>\r\n      <use x=\"906.244141\" xlink:href=\"#DejaVuSans-6c\"/>\r\n     </g>\r\n    </g>\r\n    <g id=\"line2d_21\">\r\n     <path d=\"M 243.460938 195.822187 \r\nL 263.460938 195.822187 \r\n\" style=\"fill:none;stroke:#ff7f0e;stroke-linecap:square;stroke-width:1.5;\"/>\r\n    </g>\r\n    <g id=\"line2d_22\"/>\r\n    <g id=\"text_17\">\r\n     <!-- Random Forest Test -->\r\n     <g transform=\"translate(271.460938 199.322187)scale(0.1 -0.1)\">\r\n      <use xlink:href=\"#DejaVuSans-52\"/>\r\n      <use x=\"67.232422\" xlink:href=\"#DejaVuSans-61\"/>\r\n      <use x=\"128.511719\" xlink:href=\"#DejaVuSans-6e\"/>\r\n      <use x=\"191.890625\" xlink:href=\"#DejaVuSans-64\"/>\r\n      <use x=\"255.367188\" xlink:href=\"#DejaVuSans-6f\"/>\r\n      <use x=\"316.548828\" xlink:href=\"#DejaVuSans-6d\"/>\r\n      <use x=\"413.960938\" xlink:href=\"#DejaVuSans-20\"/>\r\n      <use x=\"445.748047\" xlink:href=\"#DejaVuSans-46\"/>\r\n      <use x=\"499.642578\" xlink:href=\"#DejaVuSans-6f\"/>\r\n      <use x=\"560.824219\" xlink:href=\"#DejaVuSans-72\"/>\r\n      <use x=\"599.6875\" xlink:href=\"#DejaVuSans-65\"/>\r\n      <use x=\"661.210938\" xlink:href=\"#DejaVuSans-73\"/>\r\n      <use x=\"713.310547\" xlink:href=\"#DejaVuSans-74\"/>\r\n      <use x=\"752.519531\" xlink:href=\"#DejaVuSans-20\"/>\r\n      <use x=\"784.306641\" xlink:href=\"#DejaVuSans-54\"/>\r\n      <use x=\"828.390625\" xlink:href=\"#DejaVuSans-65\"/>\r\n      <use x=\"889.914062\" xlink:href=\"#DejaVuSans-73\"/>\r\n      <use x=\"942.013672\" xlink:href=\"#DejaVuSans-74\"/>\r\n     </g>\r\n    </g>\r\n    <g id=\"line2d_23\">\r\n     <path d=\"M 243.460938 210.500312 \r\nL 263.460938 210.500312 \r\n\" style=\"fill:none;stroke:#2ca02c;stroke-linecap:square;stroke-width:1.5;\"/>\r\n    </g>\r\n    <g id=\"line2d_24\"/>\r\n    <g id=\"text_18\">\r\n     <!-- XGBoost Val -->\r\n     <g transform=\"translate(271.460938 214.000312)scale(0.1 -0.1)\">\r\n      <defs>\r\n       <path d=\"M 403 4666 \r\nL 1081 4666 \r\nL 2241 2931 \r\nL 3406 4666 \r\nL 4084 4666 \r\nL 2584 2425 \r\nL 4184 0 \r\nL 3506 0 \r\nL 2194 1984 \r\nL 872 0 \r\nL 191 0 \r\nL 1856 2491 \r\nL 403 4666 \r\nz\r\n\" id=\"DejaVuSans-58\" transform=\"scale(0.015625)\"/>\r\n       <path d=\"M 3809 666 \r\nL 3809 1919 \r\nL 2778 1919 \r\nL 2778 2438 \r\nL 4434 2438 \r\nL 4434 434 \r\nQ 4069 175 3628 42 \r\nQ 3188 -91 2688 -91 \r\nQ 1594 -91 976 548 \r\nQ 359 1188 359 2328 \r\nQ 359 3472 976 4111 \r\nQ 1594 4750 2688 4750 \r\nQ 3144 4750 3555 4637 \r\nQ 3966 4525 4313 4306 \r\nL 4313 3634 \r\nQ 3963 3931 3569 4081 \r\nQ 3175 4231 2741 4231 \r\nQ 1884 4231 1454 3753 \r\nQ 1025 3275 1025 2328 \r\nQ 1025 1384 1454 906 \r\nQ 1884 428 2741 428 \r\nQ 3075 428 3337 486 \r\nQ 3600 544 3809 666 \r\nz\r\n\" id=\"DejaVuSans-47\" transform=\"scale(0.015625)\"/>\r\n       <path d=\"M 1259 2228 \r\nL 1259 519 \r\nL 2272 519 \r\nQ 2781 519 3026 730 \r\nQ 3272 941 3272 1375 \r\nQ 3272 1813 3026 2020 \r\nQ 2781 2228 2272 2228 \r\nL 1259 2228 \r\nz\r\nM 1259 4147 \r\nL 1259 2741 \r\nL 2194 2741 \r\nQ 2656 2741 2882 2914 \r\nQ 3109 3088 3109 3444 \r\nQ 3109 3797 2882 3972 \r\nQ 2656 4147 2194 4147 \r\nL 1259 4147 \r\nz\r\nM 628 4666 \r\nL 2241 4666 \r\nQ 2963 4666 3353 4366 \r\nQ 3744 4066 3744 3513 \r\nQ 3744 3084 3544 2831 \r\nQ 3344 2578 2956 2516 \r\nQ 3422 2416 3680 2098 \r\nQ 3938 1781 3938 1306 \r\nQ 3938 681 3513 340 \r\nQ 3088 0 2303 0 \r\nL 628 0 \r\nL 628 4666 \r\nz\r\n\" id=\"DejaVuSans-42\" transform=\"scale(0.015625)\"/>\r\n      </defs>\r\n      <use xlink:href=\"#DejaVuSans-58\"/>\r\n      <use x=\"68.505859\" xlink:href=\"#DejaVuSans-47\"/>\r\n      <use x=\"145.996094\" xlink:href=\"#DejaVuSans-42\"/>\r\n      <use x=\"214.599609\" xlink:href=\"#DejaVuSans-6f\"/>\r\n      <use x=\"275.78125\" xlink:href=\"#DejaVuSans-6f\"/>\r\n      <use x=\"336.962891\" xlink:href=\"#DejaVuSans-73\"/>\r\n      <use x=\"389.0625\" xlink:href=\"#DejaVuSans-74\"/>\r\n      <use x=\"428.271484\" xlink:href=\"#DejaVuSans-20\"/>\r\n      <use x=\"460.058594\" xlink:href=\"#DejaVuSans-56\"/>\r\n      <use x=\"520.716797\" xlink:href=\"#DejaVuSans-61\"/>\r\n      <use x=\"581.996094\" xlink:href=\"#DejaVuSans-6c\"/>\r\n     </g>\r\n    </g>\r\n    <g id=\"line2d_25\">\r\n     <path d=\"M 243.460938 225.178437 \r\nL 263.460938 225.178437 \r\n\" style=\"fill:none;stroke:#d62728;stroke-linecap:square;stroke-width:1.5;\"/>\r\n    </g>\r\n    <g id=\"line2d_26\"/>\r\n    <g id=\"text_19\">\r\n     <!-- XGBoost Test -->\r\n     <g transform=\"translate(271.460938 228.678437)scale(0.1 -0.1)\">\r\n      <use xlink:href=\"#DejaVuSans-58\"/>\r\n      <use x=\"68.505859\" xlink:href=\"#DejaVuSans-47\"/>\r\n      <use x=\"145.996094\" xlink:href=\"#DejaVuSans-42\"/>\r\n      <use x=\"214.599609\" xlink:href=\"#DejaVuSans-6f\"/>\r\n      <use x=\"275.78125\" xlink:href=\"#DejaVuSans-6f\"/>\r\n      <use x=\"336.962891\" xlink:href=\"#DejaVuSans-73\"/>\r\n      <use x=\"389.0625\" xlink:href=\"#DejaVuSans-74\"/>\r\n      <use x=\"428.271484\" xlink:href=\"#DejaVuSans-20\"/>\r\n      <use x=\"460.058594\" xlink:href=\"#DejaVuSans-54\"/>\r\n      <use x=\"504.142578\" xlink:href=\"#DejaVuSans-65\"/>\r\n      <use x=\"565.666016\" xlink:href=\"#DejaVuSans-73\"/>\r\n      <use x=\"617.765625\" xlink:href=\"#DejaVuSans-74\"/>\r\n     </g>\r\n    </g>\r\n   </g>\r\n  </g>\r\n </g>\r\n <defs>\r\n  <clipPath id=\"p5307745e74\">\r\n   <rect height=\"217.44\" width=\"334.8\" x=\"43.78125\" y=\"22.318125\"/>\r\n  </clipPath>\r\n </defs>\r\n</svg>\r\n",
      "image/png": "[encoded data removed]"
     },
     "metadata": {
      "needs_background": "light"
     }
    }
   ],
   "source": [
    "# ROC Curve for Val and test\n",
    "rf_val = plot_roc_curve(model, X_val, y_val, label='Random Forest Val')\n",
    "rf_test = plot_roc_curve(model, X_test, y_test, ax = rf_val.ax_, label='Random Forest Test')\n",
    "xgb_val = plot_roc_curve(model_xgb, X_val, y_val, ax = rf_val.ax_, label='XGBoost Val')\n",
    "xgb_test = plot_roc_curve(model_xgb, X_test, y_test, ax = rf_val.ax_, label='XGBoost Test')\n",
    "\n",
    "plt.plot([(0,0), (1,1)], color='grey', linestyle='--')\n",
    "plt.title('ROC Curve for Netflix Models')\n",
    "plt.legend();"
   ]
  },
  {
   "source": [
    "### Confusion Matrix"
   ],
   "cell_type": "markdown",
   "metadata": {}
  },
  {
   "cell_type": "code",
   "execution_count": 114,
   "metadata": {},
   "outputs": [
    {
     "output_type": "stream",
     "name": "stdout",
     "text": [
      "                precision    recall  f1-score   support\n\nNot On Netflix       0.85      0.95      0.90      2654\n    On Netflix       0.64      0.35      0.45       695\n\n      accuracy                           0.82      3349\n     macro avg       0.74      0.65      0.67      3349\n  weighted avg       0.80      0.82      0.80      3349\n\n"
     ]
    }
   ],
   "source": [
    "# RF Model Classification report to see precision and recall values using test data\n",
    "print(classification_report(y_test, \n",
    "                            model.predict(X_test),\n",
    "                            target_names = ['Not On Netflix', 'On Netflix']))"
   ]
  },
  {
   "cell_type": "code",
   "execution_count": 115,
   "metadata": {},
   "outputs": [
    {
     "output_type": "stream",
     "name": "stdout",
     "text": [
      "                precision    recall  f1-score   support\n\nNot On Netflix       0.86      0.91      0.88      2654\n    On Netflix       0.55      0.42      0.47       695\n\n      accuracy                           0.81      3349\n     macro avg       0.70      0.66      0.68      3349\n  weighted avg       0.79      0.81      0.80      3349\n\n"
     ]
    }
   ],
   "source": [
    "# XGBoost Classification report to see precision and recall values using test data\n",
    "print(classification_report(y_test, \n",
    "                            model_xgb.predict(X_test),\n",
    "                            target_names = ['Not On Netflix', 'On Netflix']))"
   ]
  },
  {
   "source": [
    "Since the recall and precision values are low. Lets see if we can get better numbers using the threshold values we found previously on our ROC curve. It seems a threshold of 0.288889 will help increase our recall value."
   ],
   "cell_type": "markdown",
   "metadata": {}
  },
  {
   "cell_type": "code",
   "execution_count": 116,
   "metadata": {},
   "outputs": [],
   "source": [
    "#Create predicted y probabilites based on X_val\n",
    "y_pred_prob = model.predict_proba(X_val)\n",
    "\n",
    "#based on y val predicted, any prob larger than threshold will be 1\n",
    "y_pred = []\n",
    "\n",
    "for y in y_pred_prob:\n",
    "    if y[1] > 0.288889:\n",
    "        y_pred.append(1) \n",
    "    else:\n",
    "        y_pred.append(0)\n",
    "\n",
    "# create a series for the new predicted values. y_pred_test will be used in classification report\n",
    "y_pred_val = pd.Series(data = y_pred, index = X_val.index) \n"
   ]
  },
  {
   "cell_type": "code",
   "execution_count": 117,
   "metadata": {},
   "outputs": [],
   "source": [
    "# # Code kept for refererence as an alternative to a classification report\n",
    "# tn, fp, fn, tp = confusion_matrix(y_test,y_pred_test).ravel()\n",
    "# print(tn, fp, fn, tp)"
   ]
  },
  {
   "cell_type": "code",
   "execution_count": 118,
   "metadata": {},
   "outputs": [
    {
     "output_type": "stream",
     "name": "stdout",
     "text": [
      "                precision    recall  f1-score   support\n\nNot On Netflix       0.91      0.83      0.87      2614\n    On Netflix       0.54      0.70      0.61       735\n\n      accuracy                           0.80      3349\n     macro avg       0.72      0.76      0.74      3349\n  weighted avg       0.83      0.80      0.81      3349\n\n"
     ]
    }
   ],
   "source": [
    "# RF Model Classification report with new Threshold at 0.288889\n",
    "print(classification_report(y_val, \n",
    "                            y_pred_val,\n",
    "                            target_names = ['Not On Netflix', 'On Netflix']))"
   ]
  },
  {
   "source": [
    "# Feature Importance"
   ],
   "cell_type": "markdown",
   "metadata": {}
  },
  {
   "source": [
    "### Get Top 10 Features"
   ],
   "cell_type": "markdown",
   "metadata": {}
  },
  {
   "cell_type": "code",
   "execution_count": 119,
   "metadata": {},
   "outputs": [],
   "source": [
    "# Random Forest Model feature importance\n",
    "importances = model.named_steps['randomforestclassifier'].feature_importances_\n",
    "features = model.named_steps['ordinalencoder'].get_feature_names()\n",
    "#features = X_train.columns\n",
    "\n",
    "feat_imp=pd.Series(importances, index=features).sort_values()"
   ]
  },
  {
   "cell_type": "code",
   "execution_count": 120,
   "metadata": {},
   "outputs": [
    {
     "output_type": "display_data",
     "data": {
      "text/plain": "<Figure size 432x288 with 1 Axes>",
      "image/svg+xml": "<?xml version=\"1.0\" encoding=\"utf-8\" standalone=\"no\"?>\r\n<!DOCTYPE svg PUBLIC \"-//W3C//DTD SVG 1.1//EN\"\r\n  \"http://www.w3.org/Graphics/SVG/1.1/DTD/svg11.dtd\">\r\n<svg height=\"277.314375pt\" version=\"1.1\" viewBox=\"0 0 507.121875 277.314375\" width=\"507.121875pt\" xmlns=\"http://www.w3.org/2000/svg\" xmlns:xlink=\"http://www.w3.org/1999/xlink\">\r\n <metadata>\r\n  <rdf:RDF xmlns:cc=\"http://creativecommons.org/ns#\" xmlns:dc=\"http://purl.org/dc/elements/1.1/\" xmlns:rdf=\"http://www.w3.org/1999/02/22-rdf-syntax-ns#\">\r\n   <cc:Work>\r\n    <dc:type rdf:resource=\"http://purl.org/dc/dcmitype/StillImage\"/>\r\n    <dc:date>2021-03-31T16:32:20.799018</dc:date>\r\n    <dc:format>image/svg+xml</dc:format>\r\n    <dc:creator>\r\n     <cc:Agent>\r\n      <dc:title>Matplotlib v3.4.0, https://matplotlib.org/</dc:title>\r\n     </cc:Agent>\r\n    </dc:creator>\r\n   </cc:Work>\r\n  </rdf:RDF>\r\n </metadata>\r\n <defs>\r\n  <style type=\"text/css\">*{stroke-linecap:butt;stroke-linejoin:round;}</style>\r\n </defs>\r\n <g id=\"figure_1\">\r\n  <g id=\"patch_1\">\r\n   <path d=\"M 0 277.314375 \r\nL 507.121875 277.314375 \r\nL 507.121875 0 \r\nL 0 0 \r\nz\r\n\" style=\"fill:none;\"/>\r\n  </g>\r\n  <g id=\"axes_1\">\r\n   <g id=\"patch_2\">\r\n    <path d=\"M 95.592187 239.758125 \r\nL 430.392187 239.758125 \r\nL 430.392187 22.318125 \r\nL 95.592187 22.318125 \r\nz\r\n\" style=\"fill:#ffffff;\"/>\r\n   </g>\r\n   <g id=\"patch_3\">\r\n    <path clip-path=\"url(#p5a956c419f)\" d=\"M 95.592187 234.322125 \r\nL 112.745194 234.322125 \r\nL 112.745194 223.450125 \r\nL 95.592187 223.450125 \r\nz\r\n\" style=\"fill:#1f77b4;\"/>\r\n   </g>\r\n   <g id=\"patch_4\">\r\n    <path clip-path=\"url(#p5a956c419f)\" d=\"M 95.592187 212.578125 \r\nL 114.419053 212.578125 \r\nL 114.419053 201.706125 \r\nL 95.592187 201.706125 \r\nz\r\n\" style=\"fill:#1f77b4;\"/>\r\n   </g>\r\n   <g id=\"patch_5\">\r\n    <path clip-path=\"url(#p5a956c419f)\" d=\"M 95.592187 190.834125 \r\nL 115.770155 190.834125 \r\nL 115.770155 179.962125 \r\nL 95.592187 179.962125 \r\nz\r\n\" style=\"fill:#1f77b4;\"/>\r\n   </g>\r\n   <g id=\"patch_6\">\r\n    <path clip-path=\"url(#p5a956c419f)\" d=\"M 95.592187 169.090125 \r\nL 119.033309 169.090125 \r\nL 119.033309 158.218125 \r\nL 95.592187 158.218125 \r\nz\r\n\" style=\"fill:#1f77b4;\"/>\r\n   </g>\r\n   <g id=\"patch_7\">\r\n    <path clip-path=\"url(#p5a956c419f)\" d=\"M 95.592187 147.346125 \r\nL 121.237214 147.346125 \r\nL 121.237214 136.474125 \r\nL 95.592187 136.474125 \r\nz\r\n\" style=\"fill:#1f77b4;\"/>\r\n   </g>\r\n   <g id=\"patch_8\">\r\n    <path clip-path=\"url(#p5a956c419f)\" d=\"M 95.592187 125.602125 \r\nL 121.873197 125.602125 \r\nL 121.873197 114.730125 \r\nL 95.592187 114.730125 \r\nz\r\n\" style=\"fill:#1f77b4;\"/>\r\n   </g>\r\n   <g id=\"patch_9\">\r\n    <path clip-path=\"url(#p5a956c419f)\" d=\"M 95.592187 103.858125 \r\nL 124.476932 103.858125 \r\nL 124.476932 92.986125 \r\nL 95.592187 92.986125 \r\nz\r\n\" style=\"fill:#1f77b4;\"/>\r\n   </g>\r\n   <g id=\"patch_10\">\r\n    <path clip-path=\"url(#p5a956c419f)\" d=\"M 95.592187 82.114125 \r\nL 280.970322 82.114125 \r\nL 280.970322 71.242125 \r\nL 95.592187 71.242125 \r\nz\r\n\" style=\"fill:#1f77b4;\"/>\r\n   </g>\r\n   <g id=\"patch_11\">\r\n    <path clip-path=\"url(#p5a956c419f)\" d=\"M 95.592187 60.370125 \r\nL 284.660468 60.370125 \r\nL 284.660468 49.498125 \r\nL 95.592187 49.498125 \r\nz\r\n\" style=\"fill:#1f77b4;\"/>\r\n   </g>\r\n   <g id=\"patch_12\">\r\n    <path clip-path=\"url(#p5a956c419f)\" d=\"M 95.592187 38.626125 \r\nL 414.44933 38.626125 \r\nL 414.44933 27.754125 \r\nL 95.592187 27.754125 \r\nz\r\n\" style=\"fill:#1f77b4;\"/>\r\n   </g>\r\n   <g id=\"matplotlib.axis_1\">\r\n    <g id=\"xtick_1\">\r\n     <g id=\"line2d_1\">\r\n      <defs>\r\n       <path d=\"M 0 0 \r\nL 0 3.5 \r\n\" id=\"mb47f64fae8\" style=\"stroke:#000000;stroke-width:0.8;\"/>\r\n      </defs>\r\n      <g>\r\n       <use style=\"stroke:#000000;stroke-width:0.8;\" x=\"95.592187\" xlink:href=\"#mb47f64fae8\" y=\"239.758125\"/>\r\n      </g>\r\n     </g>\r\n     <g id=\"text_1\">\r\n      <!-- 0.00 -->\r\n      <g transform=\"translate(84.459375 254.356562)scale(0.1 -0.1)\">\r\n       <defs>\r\n        <path d=\"M 2034 4250 \r\nQ 1547 4250 1301 3770 \r\nQ 1056 3291 1056 2328 \r\nQ 1056 1369 1301 889 \r\nQ 1547 409 2034 409 \r\nQ 2525 409 2770 889 \r\nQ 3016 1369 3016 2328 \r\nQ 3016 3291 2770 3770 \r\nQ 2525 4250 2034 4250 \r\nz\r\nM 2034 4750 \r\nQ 2819 4750 3233 4129 \r\nQ 3647 3509 3647 2328 \r\nQ 3647 1150 3233 529 \r\nQ 2819 -91 2034 -91 \r\nQ 1250 -91 836 529 \r\nQ 422 1150 422 2328 \r\nQ 422 3509 836 4129 \r\nQ 1250 4750 2034 4750 \r\nz\r\n\" id=\"DejaVuSans-30\" transform=\"scale(0.015625)\"/>\r\n        <path d=\"M 684 794 \r\nL 1344 794 \r\nL 1344 0 \r\nL 684 0 \r\nL 684 794 \r\nz\r\n\" id=\"DejaVuSans-2e\" transform=\"scale(0.015625)\"/>\r\n       </defs>\r\n       <use xlink:href=\"#DejaVuSans-30\"/>\r\n       <use x=\"63.623047\" xlink:href=\"#DejaVuSans-2e\"/>\r\n       <use x=\"95.410156\" xlink:href=\"#DejaVuSans-30\"/>\r\n       <use x=\"159.033203\" xlink:href=\"#DejaVuSans-30\"/>\r\n      </g>\r\n     </g>\r\n    </g>\r\n    <g id=\"xtick_2\">\r\n     <g id=\"line2d_2\">\r\n      <g>\r\n       <use style=\"stroke:#000000;stroke-width:0.8;\" x=\"159.620768\" xlink:href=\"#mb47f64fae8\" y=\"239.758125\"/>\r\n      </g>\r\n     </g>\r\n     <g id=\"text_2\">\r\n      <!-- 0.05 -->\r\n      <g transform=\"translate(148.487955 254.356562)scale(0.1 -0.1)\">\r\n       <defs>\r\n        <path d=\"M 691 4666 \r\nL 3169 4666 \r\nL 3169 4134 \r\nL 1269 4134 \r\nL 1269 2991 \r\nQ 1406 3038 1543 3061 \r\nQ 1681 3084 1819 3084 \r\nQ 2600 3084 3056 2656 \r\nQ 3513 2228 3513 1497 \r\nQ 3513 744 3044 326 \r\nQ 2575 -91 1722 -91 \r\nQ 1428 -91 1123 -41 \r\nQ 819 9 494 109 \r\nL 494 744 \r\nQ 775 591 1075 516 \r\nQ 1375 441 1709 441 \r\nQ 2250 441 2565 725 \r\nQ 2881 1009 2881 1497 \r\nQ 2881 1984 2565 2268 \r\nQ 2250 2553 1709 2553 \r\nQ 1456 2553 1204 2497 \r\nQ 953 2441 691 2322 \r\nL 691 4666 \r\nz\r\n\" id=\"DejaVuSans-35\" transform=\"scale(0.015625)\"/>\r\n       </defs>\r\n       <use xlink:href=\"#DejaVuSans-30\"/>\r\n       <use x=\"63.623047\" xlink:href=\"#DejaVuSans-2e\"/>\r\n       <use x=\"95.410156\" xlink:href=\"#DejaVuSans-30\"/>\r\n       <use x=\"159.033203\" xlink:href=\"#DejaVuSans-35\"/>\r\n      </g>\r\n     </g>\r\n    </g>\r\n    <g id=\"xtick_3\">\r\n     <g id=\"line2d_3\">\r\n      <g>\r\n       <use style=\"stroke:#000000;stroke-width:0.8;\" x=\"223.649348\" xlink:href=\"#mb47f64fae8\" y=\"239.758125\"/>\r\n      </g>\r\n     </g>\r\n     <g id=\"text_3\">\r\n      <!-- 0.10 -->\r\n      <g transform=\"translate(212.516536 254.356562)scale(0.1 -0.1)\">\r\n       <defs>\r\n        <path d=\"M 794 531 \r\nL 1825 531 \r\nL 1825 4091 \r\nL 703 3866 \r\nL 703 4441 \r\nL 1819 4666 \r\nL 2450 4666 \r\nL 2450 531 \r\nL 3481 531 \r\nL 3481 0 \r\nL 794 0 \r\nL 794 531 \r\nz\r\n\" id=\"DejaVuSans-31\" transform=\"scale(0.015625)\"/>\r\n       </defs>\r\n       <use xlink:href=\"#DejaVuSans-30\"/>\r\n       <use x=\"63.623047\" xlink:href=\"#DejaVuSans-2e\"/>\r\n       <use x=\"95.410156\" xlink:href=\"#DejaVuSans-31\"/>\r\n       <use x=\"159.033203\" xlink:href=\"#DejaVuSans-30\"/>\r\n      </g>\r\n     </g>\r\n    </g>\r\n    <g id=\"xtick_4\">\r\n     <g id=\"line2d_4\">\r\n      <g>\r\n       <use style=\"stroke:#000000;stroke-width:0.8;\" x=\"287.677929\" xlink:href=\"#mb47f64fae8\" y=\"239.758125\"/>\r\n      </g>\r\n     </g>\r\n     <g id=\"text_4\">\r\n      <!-- 0.15 -->\r\n      <g transform=\"translate(276.545116 254.356562)scale(0.1 -0.1)\">\r\n       <use xlink:href=\"#DejaVuSans-30\"/>\r\n       <use x=\"63.623047\" xlink:href=\"#DejaVuSans-2e\"/>\r\n       <use x=\"95.410156\" xlink:href=\"#DejaVuSans-31\"/>\r\n       <use x=\"159.033203\" xlink:href=\"#DejaVuSans-35\"/>\r\n      </g>\r\n     </g>\r\n    </g>\r\n    <g id=\"xtick_5\">\r\n     <g id=\"line2d_5\">\r\n      <g>\r\n       <use style=\"stroke:#000000;stroke-width:0.8;\" x=\"351.706509\" xlink:href=\"#mb47f64fae8\" y=\"239.758125\"/>\r\n      </g>\r\n     </g>\r\n     <g id=\"text_5\">\r\n      <!-- 0.20 -->\r\n      <g transform=\"translate(340.573697 254.356562)scale(0.1 -0.1)\">\r\n       <defs>\r\n        <path d=\"M 1228 531 \r\nL 3431 531 \r\nL 3431 0 \r\nL 469 0 \r\nL 469 531 \r\nQ 828 903 1448 1529 \r\nQ 2069 2156 2228 2338 \r\nQ 2531 2678 2651 2914 \r\nQ 2772 3150 2772 3378 \r\nQ 2772 3750 2511 3984 \r\nQ 2250 4219 1831 4219 \r\nQ 1534 4219 1204 4116 \r\nQ 875 4013 500 3803 \r\nL 500 4441 \r\nQ 881 4594 1212 4672 \r\nQ 1544 4750 1819 4750 \r\nQ 2544 4750 2975 4387 \r\nQ 3406 4025 3406 3419 \r\nQ 3406 3131 3298 2873 \r\nQ 3191 2616 2906 2266 \r\nQ 2828 2175 2409 1742 \r\nQ 1991 1309 1228 531 \r\nz\r\n\" id=\"DejaVuSans-32\" transform=\"scale(0.015625)\"/>\r\n       </defs>\r\n       <use xlink:href=\"#DejaVuSans-30\"/>\r\n       <use x=\"63.623047\" xlink:href=\"#DejaVuSans-2e\"/>\r\n       <use x=\"95.410156\" xlink:href=\"#DejaVuSans-32\"/>\r\n       <use x=\"159.033203\" xlink:href=\"#DejaVuSans-30\"/>\r\n      </g>\r\n     </g>\r\n    </g>\r\n    <g id=\"xtick_6\">\r\n     <g id=\"line2d_6\">\r\n      <g>\r\n       <use style=\"stroke:#000000;stroke-width:0.8;\" x=\"415.73509\" xlink:href=\"#mb47f64fae8\" y=\"239.758125\"/>\r\n      </g>\r\n     </g>\r\n     <g id=\"text_6\">\r\n      <!-- 0.25 -->\r\n      <g transform=\"translate(404.602277 254.356562)scale(0.1 -0.1)\">\r\n       <use xlink:href=\"#DejaVuSans-30\"/>\r\n       <use x=\"63.623047\" xlink:href=\"#DejaVuSans-2e\"/>\r\n       <use x=\"95.410156\" xlink:href=\"#DejaVuSans-32\"/>\r\n       <use x=\"159.033203\" xlink:href=\"#DejaVuSans-35\"/>\r\n      </g>\r\n     </g>\r\n    </g>\r\n    <g id=\"text_7\">\r\n     <!-- Reduction in Gini Impurity -->\r\n     <g transform=\"translate(197.798437 268.034687)scale(0.1 -0.1)\">\r\n      <defs>\r\n       <path d=\"M 2841 2188 \r\nQ 3044 2119 3236 1894 \r\nQ 3428 1669 3622 1275 \r\nL 4263 0 \r\nL 3584 0 \r\nL 2988 1197 \r\nQ 2756 1666 2539 1819 \r\nQ 2322 1972 1947 1972 \r\nL 1259 1972 \r\nL 1259 0 \r\nL 628 0 \r\nL 628 4666 \r\nL 2053 4666 \r\nQ 2853 4666 3247 4331 \r\nQ 3641 3997 3641 3322 \r\nQ 3641 2881 3436 2590 \r\nQ 3231 2300 2841 2188 \r\nz\r\nM 1259 4147 \r\nL 1259 2491 \r\nL 2053 2491 \r\nQ 2509 2491 2742 2702 \r\nQ 2975 2913 2975 3322 \r\nQ 2975 3731 2742 3939 \r\nQ 2509 4147 2053 4147 \r\nL 1259 4147 \r\nz\r\n\" id=\"DejaVuSans-52\" transform=\"scale(0.015625)\"/>\r\n       <path d=\"M 3597 1894 \r\nL 3597 1613 \r\nL 953 1613 \r\nQ 991 1019 1311 708 \r\nQ 1631 397 2203 397 \r\nQ 2534 397 2845 478 \r\nQ 3156 559 3463 722 \r\nL 3463 178 \r\nQ 3153 47 2828 -22 \r\nQ 2503 -91 2169 -91 \r\nQ 1331 -91 842 396 \r\nQ 353 884 353 1716 \r\nQ 353 2575 817 3079 \r\nQ 1281 3584 2069 3584 \r\nQ 2775 3584 3186 3129 \r\nQ 3597 2675 3597 1894 \r\nz\r\nM 3022 2063 \r\nQ 3016 2534 2758 2815 \r\nQ 2500 3097 2075 3097 \r\nQ 1594 3097 1305 2825 \r\nQ 1016 2553 972 2059 \r\nL 3022 2063 \r\nz\r\n\" id=\"DejaVuSans-65\" transform=\"scale(0.015625)\"/>\r\n       <path d=\"M 2906 2969 \r\nL 2906 4863 \r\nL 3481 4863 \r\nL 3481 0 \r\nL 2906 0 \r\nL 2906 525 \r\nQ 2725 213 2448 61 \r\nQ 2172 -91 1784 -91 \r\nQ 1150 -91 751 415 \r\nQ 353 922 353 1747 \r\nQ 353 2572 751 3078 \r\nQ 1150 3584 1784 3584 \r\nQ 2172 3584 2448 3432 \r\nQ 2725 3281 2906 2969 \r\nz\r\nM 947 1747 \r\nQ 947 1113 1208 752 \r\nQ 1469 391 1925 391 \r\nQ 2381 391 2643 752 \r\nQ 2906 1113 2906 1747 \r\nQ 2906 2381 2643 2742 \r\nQ 2381 3103 1925 3103 \r\nQ 1469 3103 1208 2742 \r\nQ 947 2381 947 1747 \r\nz\r\n\" id=\"DejaVuSans-64\" transform=\"scale(0.015625)\"/>\r\n       <path d=\"M 544 1381 \r\nL 544 3500 \r\nL 1119 3500 \r\nL 1119 1403 \r\nQ 1119 906 1312 657 \r\nQ 1506 409 1894 409 \r\nQ 2359 409 2629 706 \r\nQ 2900 1003 2900 1516 \r\nL 2900 3500 \r\nL 3475 3500 \r\nL 3475 0 \r\nL 2900 0 \r\nL 2900 538 \r\nQ 2691 219 2414 64 \r\nQ 2138 -91 1772 -91 \r\nQ 1169 -91 856 284 \r\nQ 544 659 544 1381 \r\nz\r\nM 1991 3584 \r\nL 1991 3584 \r\nz\r\n\" id=\"DejaVuSans-75\" transform=\"scale(0.015625)\"/>\r\n       <path d=\"M 3122 3366 \r\nL 3122 2828 \r\nQ 2878 2963 2633 3030 \r\nQ 2388 3097 2138 3097 \r\nQ 1578 3097 1268 2742 \r\nQ 959 2388 959 1747 \r\nQ 959 1106 1268 751 \r\nQ 1578 397 2138 397 \r\nQ 2388 397 2633 464 \r\nQ 2878 531 3122 666 \r\nL 3122 134 \r\nQ 2881 22 2623 -34 \r\nQ 2366 -91 2075 -91 \r\nQ 1284 -91 818 406 \r\nQ 353 903 353 1747 \r\nQ 353 2603 823 3093 \r\nQ 1294 3584 2113 3584 \r\nQ 2378 3584 2631 3529 \r\nQ 2884 3475 3122 3366 \r\nz\r\n\" id=\"DejaVuSans-63\" transform=\"scale(0.015625)\"/>\r\n       <path d=\"M 1172 4494 \r\nL 1172 3500 \r\nL 2356 3500 \r\nL 2356 3053 \r\nL 1172 3053 \r\nL 1172 1153 \r\nQ 1172 725 1289 603 \r\nQ 1406 481 1766 481 \r\nL 2356 481 \r\nL 2356 0 \r\nL 1766 0 \r\nQ 1100 0 847 248 \r\nQ 594 497 594 1153 \r\nL 594 3053 \r\nL 172 3053 \r\nL 172 3500 \r\nL 594 3500 \r\nL 594 4494 \r\nL 1172 4494 \r\nz\r\n\" id=\"DejaVuSans-74\" transform=\"scale(0.015625)\"/>\r\n       <path d=\"M 603 3500 \r\nL 1178 3500 \r\nL 1178 0 \r\nL 603 0 \r\nL 603 3500 \r\nz\r\nM 603 4863 \r\nL 1178 4863 \r\nL 1178 4134 \r\nL 603 4134 \r\nL 603 4863 \r\nz\r\n\" id=\"DejaVuSans-69\" transform=\"scale(0.015625)\"/>\r\n       <path d=\"M 1959 3097 \r\nQ 1497 3097 1228 2736 \r\nQ 959 2375 959 1747 \r\nQ 959 1119 1226 758 \r\nQ 1494 397 1959 397 \r\nQ 2419 397 2687 759 \r\nQ 2956 1122 2956 1747 \r\nQ 2956 2369 2687 2733 \r\nQ 2419 3097 1959 3097 \r\nz\r\nM 1959 3584 \r\nQ 2709 3584 3137 3096 \r\nQ 3566 2609 3566 1747 \r\nQ 3566 888 3137 398 \r\nQ 2709 -91 1959 -91 \r\nQ 1206 -91 779 398 \r\nQ 353 888 353 1747 \r\nQ 353 2609 779 3096 \r\nQ 1206 3584 1959 3584 \r\nz\r\n\" id=\"DejaVuSans-6f\" transform=\"scale(0.015625)\"/>\r\n       <path d=\"M 3513 2113 \r\nL 3513 0 \r\nL 2938 0 \r\nL 2938 2094 \r\nQ 2938 2591 2744 2837 \r\nQ 2550 3084 2163 3084 \r\nQ 1697 3084 1428 2787 \r\nQ 1159 2491 1159 1978 \r\nL 1159 0 \r\nL 581 0 \r\nL 581 3500 \r\nL 1159 3500 \r\nL 1159 2956 \r\nQ 1366 3272 1645 3428 \r\nQ 1925 3584 2291 3584 \r\nQ 2894 3584 3203 3211 \r\nQ 3513 2838 3513 2113 \r\nz\r\n\" id=\"DejaVuSans-6e\" transform=\"scale(0.015625)\"/>\r\n       <path id=\"DejaVuSans-20\" transform=\"scale(0.015625)\"/>\r\n       <path d=\"M 3809 666 \r\nL 3809 1919 \r\nL 2778 1919 \r\nL 2778 2438 \r\nL 4434 2438 \r\nL 4434 434 \r\nQ 4069 175 3628 42 \r\nQ 3188 -91 2688 -91 \r\nQ 1594 -91 976 548 \r\nQ 359 1188 359 2328 \r\nQ 359 3472 976 4111 \r\nQ 1594 4750 2688 4750 \r\nQ 3144 4750 3555 4637 \r\nQ 3966 4525 4313 4306 \r\nL 4313 3634 \r\nQ 3963 3931 3569 4081 \r\nQ 3175 4231 2741 4231 \r\nQ 1884 4231 1454 3753 \r\nQ 1025 3275 1025 2328 \r\nQ 1025 1384 1454 906 \r\nQ 1884 428 2741 428 \r\nQ 3075 428 3337 486 \r\nQ 3600 544 3809 666 \r\nz\r\n\" id=\"DejaVuSans-47\" transform=\"scale(0.015625)\"/>\r\n       <path d=\"M 628 4666 \r\nL 1259 4666 \r\nL 1259 0 \r\nL 628 0 \r\nL 628 4666 \r\nz\r\n\" id=\"DejaVuSans-49\" transform=\"scale(0.015625)\"/>\r\n       <path d=\"M 3328 2828 \r\nQ 3544 3216 3844 3400 \r\nQ 4144 3584 4550 3584 \r\nQ 5097 3584 5394 3201 \r\nQ 5691 2819 5691 2113 \r\nL 5691 0 \r\nL 5113 0 \r\nL 5113 2094 \r\nQ 5113 2597 4934 2840 \r\nQ 4756 3084 4391 3084 \r\nQ 3944 3084 3684 2787 \r\nQ 3425 2491 3425 1978 \r\nL 3425 0 \r\nL 2847 0 \r\nL 2847 2094 \r\nQ 2847 2600 2669 2842 \r\nQ 2491 3084 2119 3084 \r\nQ 1678 3084 1418 2786 \r\nQ 1159 2488 1159 1978 \r\nL 1159 0 \r\nL 581 0 \r\nL 581 3500 \r\nL 1159 3500 \r\nL 1159 2956 \r\nQ 1356 3278 1631 3431 \r\nQ 1906 3584 2284 3584 \r\nQ 2666 3584 2933 3390 \r\nQ 3200 3197 3328 2828 \r\nz\r\n\" id=\"DejaVuSans-6d\" transform=\"scale(0.015625)\"/>\r\n       <path d=\"M 1159 525 \r\nL 1159 -1331 \r\nL 581 -1331 \r\nL 581 3500 \r\nL 1159 3500 \r\nL 1159 2969 \r\nQ 1341 3281 1617 3432 \r\nQ 1894 3584 2278 3584 \r\nQ 2916 3584 3314 3078 \r\nQ 3713 2572 3713 1747 \r\nQ 3713 922 3314 415 \r\nQ 2916 -91 2278 -91 \r\nQ 1894 -91 1617 61 \r\nQ 1341 213 1159 525 \r\nz\r\nM 3116 1747 \r\nQ 3116 2381 2855 2742 \r\nQ 2594 3103 2138 3103 \r\nQ 1681 3103 1420 2742 \r\nQ 1159 2381 1159 1747 \r\nQ 1159 1113 1420 752 \r\nQ 1681 391 2138 391 \r\nQ 2594 391 2855 752 \r\nQ 3116 1113 3116 1747 \r\nz\r\n\" id=\"DejaVuSans-70\" transform=\"scale(0.015625)\"/>\r\n       <path d=\"M 2631 2963 \r\nQ 2534 3019 2420 3045 \r\nQ 2306 3072 2169 3072 \r\nQ 1681 3072 1420 2755 \r\nQ 1159 2438 1159 1844 \r\nL 1159 0 \r\nL 581 0 \r\nL 581 3500 \r\nL 1159 3500 \r\nL 1159 2956 \r\nQ 1341 3275 1631 3429 \r\nQ 1922 3584 2338 3584 \r\nQ 2397 3584 2469 3576 \r\nQ 2541 3569 2628 3553 \r\nL 2631 2963 \r\nz\r\n\" id=\"DejaVuSans-72\" transform=\"scale(0.015625)\"/>\r\n       <path d=\"M 2059 -325 \r\nQ 1816 -950 1584 -1140 \r\nQ 1353 -1331 966 -1331 \r\nL 506 -1331 \r\nL 506 -850 \r\nL 844 -850 \r\nQ 1081 -850 1212 -737 \r\nQ 1344 -625 1503 -206 \r\nL 1606 56 \r\nL 191 3500 \r\nL 800 3500 \r\nL 1894 763 \r\nL 2988 3500 \r\nL 3597 3500 \r\nL 2059 -325 \r\nz\r\n\" id=\"DejaVuSans-79\" transform=\"scale(0.015625)\"/>\r\n      </defs>\r\n      <use xlink:href=\"#DejaVuSans-52\"/>\r\n      <use x=\"64.982422\" xlink:href=\"#DejaVuSans-65\"/>\r\n      <use x=\"126.505859\" xlink:href=\"#DejaVuSans-64\"/>\r\n      <use x=\"189.982422\" xlink:href=\"#DejaVuSans-75\"/>\r\n      <use x=\"253.361328\" xlink:href=\"#DejaVuSans-63\"/>\r\n      <use x=\"308.341797\" xlink:href=\"#DejaVuSans-74\"/>\r\n      <use x=\"347.550781\" xlink:href=\"#DejaVuSans-69\"/>\r\n      <use x=\"375.333984\" xlink:href=\"#DejaVuSans-6f\"/>\r\n      <use x=\"436.515625\" xlink:href=\"#DejaVuSans-6e\"/>\r\n      <use x=\"499.894531\" xlink:href=\"#DejaVuSans-20\"/>\r\n      <use x=\"531.681641\" xlink:href=\"#DejaVuSans-69\"/>\r\n      <use x=\"559.464844\" xlink:href=\"#DejaVuSans-6e\"/>\r\n      <use x=\"622.84375\" xlink:href=\"#DejaVuSans-20\"/>\r\n      <use x=\"654.630859\" xlink:href=\"#DejaVuSans-47\"/>\r\n      <use x=\"732.121094\" xlink:href=\"#DejaVuSans-69\"/>\r\n      <use x=\"759.904297\" xlink:href=\"#DejaVuSans-6e\"/>\r\n      <use x=\"823.283203\" xlink:href=\"#DejaVuSans-69\"/>\r\n      <use x=\"851.066406\" xlink:href=\"#DejaVuSans-20\"/>\r\n      <use x=\"882.853516\" xlink:href=\"#DejaVuSans-49\"/>\r\n      <use x=\"912.345703\" xlink:href=\"#DejaVuSans-6d\"/>\r\n      <use x=\"1009.757812\" xlink:href=\"#DejaVuSans-70\"/>\r\n      <use x=\"1073.234375\" xlink:href=\"#DejaVuSans-75\"/>\r\n      <use x=\"1136.613281\" xlink:href=\"#DejaVuSans-72\"/>\r\n      <use x=\"1177.726562\" xlink:href=\"#DejaVuSans-69\"/>\r\n      <use x=\"1205.509766\" xlink:href=\"#DejaVuSans-74\"/>\r\n      <use x=\"1244.71875\" xlink:href=\"#DejaVuSans-79\"/>\r\n     </g>\r\n    </g>\r\n   </g>\r\n   <g id=\"matplotlib.axis_2\">\r\n    <g id=\"ytick_1\">\r\n     <g id=\"line2d_7\">\r\n      <defs>\r\n       <path d=\"M 0 0 \r\nL -3.5 0 \r\n\" id=\"mbea07e490c\" style=\"stroke:#000000;stroke-width:0.8;\"/>\r\n      </defs>\r\n      <g>\r\n       <use style=\"stroke:#000000;stroke-width:0.8;\" x=\"95.592187\" xlink:href=\"#mbea07e490c\" y=\"228.886125\"/>\r\n      </g>\r\n     </g>\r\n     <g id=\"text_8\">\r\n      <!-- Action -->\r\n      <g transform=\"translate(57.273437 232.685344)scale(0.1 -0.1)\">\r\n       <defs>\r\n        <path d=\"M 2188 4044 \r\nL 1331 1722 \r\nL 3047 1722 \r\nL 2188 4044 \r\nz\r\nM 1831 4666 \r\nL 2547 4666 \r\nL 4325 0 \r\nL 3669 0 \r\nL 3244 1197 \r\nL 1141 1197 \r\nL 716 0 \r\nL 50 0 \r\nL 1831 4666 \r\nz\r\n\" id=\"DejaVuSans-41\" transform=\"scale(0.015625)\"/>\r\n       </defs>\r\n       <use xlink:href=\"#DejaVuSans-41\"/>\r\n       <use x=\"66.658203\" xlink:href=\"#DejaVuSans-63\"/>\r\n       <use x=\"121.638672\" xlink:href=\"#DejaVuSans-74\"/>\r\n       <use x=\"160.847656\" xlink:href=\"#DejaVuSans-69\"/>\r\n       <use x=\"188.630859\" xlink:href=\"#DejaVuSans-6f\"/>\r\n       <use x=\"249.8125\" xlink:href=\"#DejaVuSans-6e\"/>\r\n      </g>\r\n     </g>\r\n    </g>\r\n    <g id=\"ytick_2\">\r\n     <g id=\"line2d_8\">\r\n      <g>\r\n       <use style=\"stroke:#000000;stroke-width:0.8;\" x=\"95.592187\" xlink:href=\"#mbea07e490c\" y=\"207.142125\"/>\r\n      </g>\r\n     </g>\r\n     <g id=\"text_9\">\r\n      <!-- Thriller -->\r\n      <g transform=\"translate(53.4375 210.941344)scale(0.1 -0.1)\">\r\n       <defs>\r\n        <path d=\"M -19 4666 \r\nL 3928 4666 \r\nL 3928 4134 \r\nL 2272 4134 \r\nL 2272 0 \r\nL 1638 0 \r\nL 1638 4134 \r\nL -19 4134 \r\nL -19 4666 \r\nz\r\n\" id=\"DejaVuSans-54\" transform=\"scale(0.015625)\"/>\r\n        <path d=\"M 3513 2113 \r\nL 3513 0 \r\nL 2938 0 \r\nL 2938 2094 \r\nQ 2938 2591 2744 2837 \r\nQ 2550 3084 2163 3084 \r\nQ 1697 3084 1428 2787 \r\nQ 1159 2491 1159 1978 \r\nL 1159 0 \r\nL 581 0 \r\nL 581 4863 \r\nL 1159 4863 \r\nL 1159 2956 \r\nQ 1366 3272 1645 3428 \r\nQ 1925 3584 2291 3584 \r\nQ 2894 3584 3203 3211 \r\nQ 3513 2838 3513 2113 \r\nz\r\n\" id=\"DejaVuSans-68\" transform=\"scale(0.015625)\"/>\r\n        <path d=\"M 603 4863 \r\nL 1178 4863 \r\nL 1178 0 \r\nL 603 0 \r\nL 603 4863 \r\nz\r\n\" id=\"DejaVuSans-6c\" transform=\"scale(0.015625)\"/>\r\n       </defs>\r\n       <use xlink:href=\"#DejaVuSans-54\"/>\r\n       <use x=\"61.083984\" xlink:href=\"#DejaVuSans-68\"/>\r\n       <use x=\"124.462891\" xlink:href=\"#DejaVuSans-72\"/>\r\n       <use x=\"165.576172\" xlink:href=\"#DejaVuSans-69\"/>\r\n       <use x=\"193.359375\" xlink:href=\"#DejaVuSans-6c\"/>\r\n       <use x=\"221.142578\" xlink:href=\"#DejaVuSans-6c\"/>\r\n       <use x=\"248.925781\" xlink:href=\"#DejaVuSans-65\"/>\r\n       <use x=\"310.449219\" xlink:href=\"#DejaVuSans-72\"/>\r\n      </g>\r\n     </g>\r\n    </g>\r\n    <g id=\"ytick_3\">\r\n     <g id=\"line2d_9\">\r\n      <g>\r\n       <use style=\"stroke:#000000;stroke-width:0.8;\" x=\"95.592187\" xlink:href=\"#mbea07e490c\" y=\"185.398125\"/>\r\n      </g>\r\n     </g>\r\n     <g id=\"text_10\">\r\n      <!-- India -->\r\n      <g transform=\"translate(64.05 189.197344)scale(0.1 -0.1)\">\r\n       <defs>\r\n        <path d=\"M 2194 1759 \r\nQ 1497 1759 1228 1600 \r\nQ 959 1441 959 1056 \r\nQ 959 750 1161 570 \r\nQ 1363 391 1709 391 \r\nQ 2188 391 2477 730 \r\nQ 2766 1069 2766 1631 \r\nL 2766 1759 \r\nL 2194 1759 \r\nz\r\nM 3341 1997 \r\nL 3341 0 \r\nL 2766 0 \r\nL 2766 531 \r\nQ 2569 213 2275 61 \r\nQ 1981 -91 1556 -91 \r\nQ 1019 -91 701 211 \r\nQ 384 513 384 1019 \r\nQ 384 1609 779 1909 \r\nQ 1175 2209 1959 2209 \r\nL 2766 2209 \r\nL 2766 2266 \r\nQ 2766 2663 2505 2880 \r\nQ 2244 3097 1772 3097 \r\nQ 1472 3097 1187 3025 \r\nQ 903 2953 641 2809 \r\nL 641 3341 \r\nQ 956 3463 1253 3523 \r\nQ 1550 3584 1831 3584 \r\nQ 2591 3584 2966 3190 \r\nQ 3341 2797 3341 1997 \r\nz\r\n\" id=\"DejaVuSans-61\" transform=\"scale(0.015625)\"/>\r\n       </defs>\r\n       <use xlink:href=\"#DejaVuSans-49\"/>\r\n       <use x=\"29.492188\" xlink:href=\"#DejaVuSans-6e\"/>\r\n       <use x=\"92.871094\" xlink:href=\"#DejaVuSans-64\"/>\r\n       <use x=\"156.347656\" xlink:href=\"#DejaVuSans-69\"/>\r\n       <use x=\"184.130859\" xlink:href=\"#DejaVuSans-61\"/>\r\n      </g>\r\n     </g>\r\n    </g>\r\n    <g id=\"ytick_4\">\r\n     <g id=\"line2d_10\">\r\n      <g>\r\n       <use style=\"stroke:#000000;stroke-width:0.8;\" x=\"95.592187\" xlink:href=\"#mbea07e490c\" y=\"163.654125\"/>\r\n      </g>\r\n     </g>\r\n     <g id=\"text_11\">\r\n      <!-- United States -->\r\n      <g transform=\"translate(20.878125 167.453344)scale(0.1 -0.1)\">\r\n       <defs>\r\n        <path d=\"M 556 4666 \r\nL 1191 4666 \r\nL 1191 1831 \r\nQ 1191 1081 1462 751 \r\nQ 1734 422 2344 422 \r\nQ 2950 422 3222 751 \r\nQ 3494 1081 3494 1831 \r\nL 3494 4666 \r\nL 4128 4666 \r\nL 4128 1753 \r\nQ 4128 841 3676 375 \r\nQ 3225 -91 2344 -91 \r\nQ 1459 -91 1007 375 \r\nQ 556 841 556 1753 \r\nL 556 4666 \r\nz\r\n\" id=\"DejaVuSans-55\" transform=\"scale(0.015625)\"/>\r\n        <path d=\"M 3425 4513 \r\nL 3425 3897 \r\nQ 3066 4069 2747 4153 \r\nQ 2428 4238 2131 4238 \r\nQ 1616 4238 1336 4038 \r\nQ 1056 3838 1056 3469 \r\nQ 1056 3159 1242 3001 \r\nQ 1428 2844 1947 2747 \r\nL 2328 2669 \r\nQ 3034 2534 3370 2195 \r\nQ 3706 1856 3706 1288 \r\nQ 3706 609 3251 259 \r\nQ 2797 -91 1919 -91 \r\nQ 1588 -91 1214 -16 \r\nQ 841 59 441 206 \r\nL 441 856 \r\nQ 825 641 1194 531 \r\nQ 1563 422 1919 422 \r\nQ 2459 422 2753 634 \r\nQ 3047 847 3047 1241 \r\nQ 3047 1584 2836 1778 \r\nQ 2625 1972 2144 2069 \r\nL 1759 2144 \r\nQ 1053 2284 737 2584 \r\nQ 422 2884 422 3419 \r\nQ 422 4038 858 4394 \r\nQ 1294 4750 2059 4750 \r\nQ 2388 4750 2728 4690 \r\nQ 3069 4631 3425 4513 \r\nz\r\n\" id=\"DejaVuSans-53\" transform=\"scale(0.015625)\"/>\r\n        <path d=\"M 2834 3397 \r\nL 2834 2853 \r\nQ 2591 2978 2328 3040 \r\nQ 2066 3103 1784 3103 \r\nQ 1356 3103 1142 2972 \r\nQ 928 2841 928 2578 \r\nQ 928 2378 1081 2264 \r\nQ 1234 2150 1697 2047 \r\nL 1894 2003 \r\nQ 2506 1872 2764 1633 \r\nQ 3022 1394 3022 966 \r\nQ 3022 478 2636 193 \r\nQ 2250 -91 1575 -91 \r\nQ 1294 -91 989 -36 \r\nQ 684 19 347 128 \r\nL 347 722 \r\nQ 666 556 975 473 \r\nQ 1284 391 1588 391 \r\nQ 1994 391 2212 530 \r\nQ 2431 669 2431 922 \r\nQ 2431 1156 2273 1281 \r\nQ 2116 1406 1581 1522 \r\nL 1381 1569 \r\nQ 847 1681 609 1914 \r\nQ 372 2147 372 2553 \r\nQ 372 3047 722 3315 \r\nQ 1072 3584 1716 3584 \r\nQ 2034 3584 2315 3537 \r\nQ 2597 3491 2834 3397 \r\nz\r\n\" id=\"DejaVuSans-73\" transform=\"scale(0.015625)\"/>\r\n       </defs>\r\n       <use xlink:href=\"#DejaVuSans-55\"/>\r\n       <use x=\"73.193359\" xlink:href=\"#DejaVuSans-6e\"/>\r\n       <use x=\"136.572266\" xlink:href=\"#DejaVuSans-69\"/>\r\n       <use x=\"164.355469\" xlink:href=\"#DejaVuSans-74\"/>\r\n       <use x=\"203.564453\" xlink:href=\"#DejaVuSans-65\"/>\r\n       <use x=\"265.087891\" xlink:href=\"#DejaVuSans-64\"/>\r\n       <use x=\"328.564453\" xlink:href=\"#DejaVuSans-20\"/>\r\n       <use x=\"360.351562\" xlink:href=\"#DejaVuSans-53\"/>\r\n       <use x=\"423.828125\" xlink:href=\"#DejaVuSans-74\"/>\r\n       <use x=\"463.037109\" xlink:href=\"#DejaVuSans-61\"/>\r\n       <use x=\"524.316406\" xlink:href=\"#DejaVuSans-74\"/>\r\n       <use x=\"563.525391\" xlink:href=\"#DejaVuSans-65\"/>\r\n       <use x=\"625.048828\" xlink:href=\"#DejaVuSans-73\"/>\r\n      </g>\r\n     </g>\r\n    </g>\r\n    <g id=\"ytick_5\">\r\n     <g id=\"line2d_11\">\r\n      <g>\r\n       <use style=\"stroke:#000000;stroke-width:0.8;\" x=\"95.592187\" xlink:href=\"#mbea07e490c\" y=\"141.910125\"/>\r\n      </g>\r\n     </g>\r\n     <g id=\"text_12\">\r\n      <!-- Drama -->\r\n      <g transform=\"translate(54.784375 145.709344)scale(0.1 -0.1)\">\r\n       <defs>\r\n        <path d=\"M 1259 4147 \r\nL 1259 519 \r\nL 2022 519 \r\nQ 2988 519 3436 956 \r\nQ 3884 1394 3884 2338 \r\nQ 3884 3275 3436 3711 \r\nQ 2988 4147 2022 4147 \r\nL 1259 4147 \r\nz\r\nM 628 4666 \r\nL 1925 4666 \r\nQ 3281 4666 3915 4102 \r\nQ 4550 3538 4550 2338 \r\nQ 4550 1131 3912 565 \r\nQ 3275 0 1925 0 \r\nL 628 0 \r\nL 628 4666 \r\nz\r\n\" id=\"DejaVuSans-44\" transform=\"scale(0.015625)\"/>\r\n       </defs>\r\n       <use xlink:href=\"#DejaVuSans-44\"/>\r\n       <use x=\"77.001953\" xlink:href=\"#DejaVuSans-72\"/>\r\n       <use x=\"118.115234\" xlink:href=\"#DejaVuSans-61\"/>\r\n       <use x=\"179.394531\" xlink:href=\"#DejaVuSans-6d\"/>\r\n       <use x=\"276.806641\" xlink:href=\"#DejaVuSans-61\"/>\r\n      </g>\r\n     </g>\r\n    </g>\r\n    <g id=\"ytick_6\">\r\n     <g id=\"line2d_12\">\r\n      <g>\r\n       <use style=\"stroke:#000000;stroke-width:0.8;\" x=\"95.592187\" xlink:href=\"#mbea07e490c\" y=\"120.166125\"/>\r\n      </g>\r\n     </g>\r\n     <g id=\"text_13\">\r\n      <!-- English -->\r\n      <g transform=\"translate(52.484375 123.965344)scale(0.1 -0.1)\">\r\n       <defs>\r\n        <path d=\"M 628 4666 \r\nL 3578 4666 \r\nL 3578 4134 \r\nL 1259 4134 \r\nL 1259 2753 \r\nL 3481 2753 \r\nL 3481 2222 \r\nL 1259 2222 \r\nL 1259 531 \r\nL 3634 531 \r\nL 3634 0 \r\nL 628 0 \r\nL 628 4666 \r\nz\r\n\" id=\"DejaVuSans-45\" transform=\"scale(0.015625)\"/>\r\n        <path d=\"M 2906 1791 \r\nQ 2906 2416 2648 2759 \r\nQ 2391 3103 1925 3103 \r\nQ 1463 3103 1205 2759 \r\nQ 947 2416 947 1791 \r\nQ 947 1169 1205 825 \r\nQ 1463 481 1925 481 \r\nQ 2391 481 2648 825 \r\nQ 2906 1169 2906 1791 \r\nz\r\nM 3481 434 \r\nQ 3481 -459 3084 -895 \r\nQ 2688 -1331 1869 -1331 \r\nQ 1566 -1331 1297 -1286 \r\nQ 1028 -1241 775 -1147 \r\nL 775 -588 \r\nQ 1028 -725 1275 -790 \r\nQ 1522 -856 1778 -856 \r\nQ 2344 -856 2625 -561 \r\nQ 2906 -266 2906 331 \r\nL 2906 616 \r\nQ 2728 306 2450 153 \r\nQ 2172 0 1784 0 \r\nQ 1141 0 747 490 \r\nQ 353 981 353 1791 \r\nQ 353 2603 747 3093 \r\nQ 1141 3584 1784 3584 \r\nQ 2172 3584 2450 3431 \r\nQ 2728 3278 2906 2969 \r\nL 2906 3500 \r\nL 3481 3500 \r\nL 3481 434 \r\nz\r\n\" id=\"DejaVuSans-67\" transform=\"scale(0.015625)\"/>\r\n       </defs>\r\n       <use xlink:href=\"#DejaVuSans-45\"/>\r\n       <use x=\"63.183594\" xlink:href=\"#DejaVuSans-6e\"/>\r\n       <use x=\"126.5625\" xlink:href=\"#DejaVuSans-67\"/>\r\n       <use x=\"190.039062\" xlink:href=\"#DejaVuSans-6c\"/>\r\n       <use x=\"217.822266\" xlink:href=\"#DejaVuSans-69\"/>\r\n       <use x=\"245.605469\" xlink:href=\"#DejaVuSans-73\"/>\r\n       <use x=\"297.705078\" xlink:href=\"#DejaVuSans-68\"/>\r\n      </g>\r\n     </g>\r\n    </g>\r\n    <g id=\"ytick_7\">\r\n     <g id=\"line2d_13\">\r\n      <g>\r\n       <use style=\"stroke:#000000;stroke-width:0.8;\" x=\"95.592187\" xlink:href=\"#mbea07e490c\" y=\"98.422125\"/>\r\n      </g>\r\n     </g>\r\n     <g id=\"text_14\">\r\n      <!-- Comedy -->\r\n      <g transform=\"translate(47.329687 102.221344)scale(0.1 -0.1)\">\r\n       <defs>\r\n        <path d=\"M 4122 4306 \r\nL 4122 3641 \r\nQ 3803 3938 3442 4084 \r\nQ 3081 4231 2675 4231 \r\nQ 1875 4231 1450 3742 \r\nQ 1025 3253 1025 2328 \r\nQ 1025 1406 1450 917 \r\nQ 1875 428 2675 428 \r\nQ 3081 428 3442 575 \r\nQ 3803 722 4122 1019 \r\nL 4122 359 \r\nQ 3791 134 3420 21 \r\nQ 3050 -91 2638 -91 \r\nQ 1578 -91 968 557 \r\nQ 359 1206 359 2328 \r\nQ 359 3453 968 4101 \r\nQ 1578 4750 2638 4750 \r\nQ 3056 4750 3426 4639 \r\nQ 3797 4528 4122 4306 \r\nz\r\n\" id=\"DejaVuSans-43\" transform=\"scale(0.015625)\"/>\r\n       </defs>\r\n       <use xlink:href=\"#DejaVuSans-43\"/>\r\n       <use x=\"69.824219\" xlink:href=\"#DejaVuSans-6f\"/>\r\n       <use x=\"131.005859\" xlink:href=\"#DejaVuSans-6d\"/>\r\n       <use x=\"228.417969\" xlink:href=\"#DejaVuSans-65\"/>\r\n       <use x=\"289.941406\" xlink:href=\"#DejaVuSans-64\"/>\r\n       <use x=\"353.417969\" xlink:href=\"#DejaVuSans-79\"/>\r\n      </g>\r\n     </g>\r\n    </g>\r\n    <g id=\"ytick_8\">\r\n     <g id=\"line2d_14\">\r\n      <g>\r\n       <use style=\"stroke:#000000;stroke-width:0.8;\" x=\"95.592187\" xlink:href=\"#mbea07e490c\" y=\"76.678125\"/>\r\n      </g>\r\n     </g>\r\n     <g id=\"text_15\">\r\n      <!-- Runtime -->\r\n      <g transform=\"translate(46.826562 80.477344)scale(0.1 -0.1)\">\r\n       <use xlink:href=\"#DejaVuSans-52\"/>\r\n       <use x=\"64.982422\" xlink:href=\"#DejaVuSans-75\"/>\r\n       <use x=\"128.361328\" xlink:href=\"#DejaVuSans-6e\"/>\r\n       <use x=\"191.740234\" xlink:href=\"#DejaVuSans-74\"/>\r\n       <use x=\"230.949219\" xlink:href=\"#DejaVuSans-69\"/>\r\n       <use x=\"258.732422\" xlink:href=\"#DejaVuSans-6d\"/>\r\n       <use x=\"356.144531\" xlink:href=\"#DejaVuSans-65\"/>\r\n      </g>\r\n     </g>\r\n    </g>\r\n    <g id=\"ytick_9\">\r\n     <g id=\"line2d_15\">\r\n      <g>\r\n       <use style=\"stroke:#000000;stroke-width:0.8;\" x=\"95.592187\" xlink:href=\"#mbea07e490c\" y=\"54.934125\"/>\r\n      </g>\r\n     </g>\r\n     <g id=\"text_16\">\r\n      <!-- IMDb -->\r\n      <g transform=\"translate(62.965625 58.733344)scale(0.1 -0.1)\">\r\n       <defs>\r\n        <path d=\"M 628 4666 \r\nL 1569 4666 \r\nL 2759 1491 \r\nL 3956 4666 \r\nL 4897 4666 \r\nL 4897 0 \r\nL 4281 0 \r\nL 4281 4097 \r\nL 3078 897 \r\nL 2444 897 \r\nL 1241 4097 \r\nL 1241 0 \r\nL 628 0 \r\nL 628 4666 \r\nz\r\n\" id=\"DejaVuSans-4d\" transform=\"scale(0.015625)\"/>\r\n        <path d=\"M 3116 1747 \r\nQ 3116 2381 2855 2742 \r\nQ 2594 3103 2138 3103 \r\nQ 1681 3103 1420 2742 \r\nQ 1159 2381 1159 1747 \r\nQ 1159 1113 1420 752 \r\nQ 1681 391 2138 391 \r\nQ 2594 391 2855 752 \r\nQ 3116 1113 3116 1747 \r\nz\r\nM 1159 2969 \r\nQ 1341 3281 1617 3432 \r\nQ 1894 3584 2278 3584 \r\nQ 2916 3584 3314 3078 \r\nQ 3713 2572 3713 1747 \r\nQ 3713 922 3314 415 \r\nQ 2916 -91 2278 -91 \r\nQ 1894 -91 1617 61 \r\nQ 1341 213 1159 525 \r\nL 1159 0 \r\nL 581 0 \r\nL 581 4863 \r\nL 1159 4863 \r\nL 1159 2969 \r\nz\r\n\" id=\"DejaVuSans-62\" transform=\"scale(0.015625)\"/>\r\n       </defs>\r\n       <use xlink:href=\"#DejaVuSans-49\"/>\r\n       <use x=\"29.492188\" xlink:href=\"#DejaVuSans-4d\"/>\r\n       <use x=\"115.771484\" xlink:href=\"#DejaVuSans-44\"/>\r\n       <use x=\"192.773438\" xlink:href=\"#DejaVuSans-62\"/>\r\n      </g>\r\n     </g>\r\n    </g>\r\n    <g id=\"ytick_10\">\r\n     <g id=\"line2d_16\">\r\n      <g>\r\n       <use style=\"stroke:#000000;stroke-width:0.8;\" x=\"95.592187\" xlink:href=\"#mbea07e490c\" y=\"33.190125\"/>\r\n      </g>\r\n     </g>\r\n     <g id=\"text_17\">\r\n      <!-- Year -->\r\n      <g transform=\"translate(67.417187 36.989344)scale(0.1 -0.1)\">\r\n       <defs>\r\n        <path d=\"M -13 4666 \r\nL 666 4666 \r\nL 1959 2747 \r\nL 3244 4666 \r\nL 3922 4666 \r\nL 2272 2222 \r\nL 2272 0 \r\nL 1638 0 \r\nL 1638 2222 \r\nL -13 4666 \r\nz\r\n\" id=\"DejaVuSans-59\" transform=\"scale(0.015625)\"/>\r\n       </defs>\r\n       <use xlink:href=\"#DejaVuSans-59\"/>\r\n       <use x=\"47.833984\" xlink:href=\"#DejaVuSans-65\"/>\r\n       <use x=\"109.357422\" xlink:href=\"#DejaVuSans-61\"/>\r\n       <use x=\"170.636719\" xlink:href=\"#DejaVuSans-72\"/>\r\n      </g>\r\n     </g>\r\n    </g>\r\n    <g id=\"text_18\">\r\n     <!-- Feature Names -->\r\n     <g transform=\"translate(14.798437 168.873281)rotate(-90)scale(0.1 -0.1)\">\r\n      <defs>\r\n       <path d=\"M 628 4666 \r\nL 3309 4666 \r\nL 3309 4134 \r\nL 1259 4134 \r\nL 1259 2759 \r\nL 3109 2759 \r\nL 3109 2228 \r\nL 1259 2228 \r\nL 1259 0 \r\nL 628 0 \r\nL 628 4666 \r\nz\r\n\" id=\"DejaVuSans-46\" transform=\"scale(0.015625)\"/>\r\n       <path d=\"M 628 4666 \r\nL 1478 4666 \r\nL 3547 763 \r\nL 3547 4666 \r\nL 4159 4666 \r\nL 4159 0 \r\nL 3309 0 \r\nL 1241 3903 \r\nL 1241 0 \r\nL 628 0 \r\nL 628 4666 \r\nz\r\n\" id=\"DejaVuSans-4e\" transform=\"scale(0.015625)\"/>\r\n      </defs>\r\n      <use xlink:href=\"#DejaVuSans-46\"/>\r\n      <use x=\"52.019531\" xlink:href=\"#DejaVuSans-65\"/>\r\n      <use x=\"113.542969\" xlink:href=\"#DejaVuSans-61\"/>\r\n      <use x=\"174.822266\" xlink:href=\"#DejaVuSans-74\"/>\r\n      <use x=\"214.03125\" xlink:href=\"#DejaVuSans-75\"/>\r\n      <use x=\"277.410156\" xlink:href=\"#DejaVuSans-72\"/>\r\n      <use x=\"316.273438\" xlink:href=\"#DejaVuSans-65\"/>\r\n      <use x=\"377.796875\" xlink:href=\"#DejaVuSans-20\"/>\r\n      <use x=\"409.583984\" xlink:href=\"#DejaVuSans-4e\"/>\r\n      <use x=\"484.388672\" xlink:href=\"#DejaVuSans-61\"/>\r\n      <use x=\"545.667969\" xlink:href=\"#DejaVuSans-6d\"/>\r\n      <use x=\"643.080078\" xlink:href=\"#DejaVuSans-65\"/>\r\n      <use x=\"704.603516\" xlink:href=\"#DejaVuSans-73\"/>\r\n     </g>\r\n    </g>\r\n   </g>\r\n   <g id=\"patch_13\">\r\n    <path d=\"M 95.592187 239.758125 \r\nL 95.592187 22.318125 \r\n\" style=\"fill:none;stroke:#000000;stroke-linecap:square;stroke-linejoin:miter;stroke-width:0.8;\"/>\r\n   </g>\r\n   <g id=\"patch_14\">\r\n    <path d=\"M 430.392187 239.758125 \r\nL 430.392187 22.318125 \r\n\" style=\"fill:none;stroke:#000000;stroke-linecap:square;stroke-linejoin:miter;stroke-width:0.8;\"/>\r\n   </g>\r\n   <g id=\"patch_15\">\r\n    <path d=\"M 95.592187 239.758125 \r\nL 430.392187 239.758125 \r\n\" style=\"fill:none;stroke:#000000;stroke-linecap:square;stroke-linejoin:miter;stroke-width:0.8;\"/>\r\n   </g>\r\n   <g id=\"patch_16\">\r\n    <path d=\"M 95.592187 22.318125 \r\nL 430.392187 22.318125 \r\n\" style=\"fill:none;stroke:#000000;stroke-linecap:square;stroke-linejoin:miter;stroke-width:0.8;\"/>\r\n   </g>\r\n   <g id=\"text_19\">\r\n    <!-- Most Important Features of a Movie That Determines if It Gets Listed on Netflix -->\r\n    <g transform=\"translate(26.0625 16.318125)scale(0.12 -0.12)\">\r\n     <defs>\r\n      <path d=\"M 2375 4863 \r\nL 2375 4384 \r\nL 1825 4384 \r\nQ 1516 4384 1395 4259 \r\nQ 1275 4134 1275 3809 \r\nL 1275 3500 \r\nL 2222 3500 \r\nL 2222 3053 \r\nL 1275 3053 \r\nL 1275 0 \r\nL 697 0 \r\nL 697 3053 \r\nL 147 3053 \r\nL 147 3500 \r\nL 697 3500 \r\nL 697 3744 \r\nQ 697 4328 969 4595 \r\nQ 1241 4863 1831 4863 \r\nL 2375 4863 \r\nz\r\n\" id=\"DejaVuSans-66\" transform=\"scale(0.015625)\"/>\r\n      <path d=\"M 191 3500 \r\nL 800 3500 \r\nL 1894 563 \r\nL 2988 3500 \r\nL 3597 3500 \r\nL 2284 0 \r\nL 1503 0 \r\nL 191 3500 \r\nz\r\n\" id=\"DejaVuSans-76\" transform=\"scale(0.015625)\"/>\r\n      <path d=\"M 628 4666 \r\nL 1259 4666 \r\nL 1259 531 \r\nL 3531 531 \r\nL 3531 0 \r\nL 628 0 \r\nL 628 4666 \r\nz\r\n\" id=\"DejaVuSans-4c\" transform=\"scale(0.015625)\"/>\r\n      <path d=\"M 3513 3500 \r\nL 2247 1797 \r\nL 3578 0 \r\nL 2900 0 \r\nL 1881 1375 \r\nL 863 0 \r\nL 184 0 \r\nL 1544 1831 \r\nL 300 3500 \r\nL 978 3500 \r\nL 1906 2253 \r\nL 2834 3500 \r\nL 3513 3500 \r\nz\r\n\" id=\"DejaVuSans-78\" transform=\"scale(0.015625)\"/>\r\n     </defs>\r\n     <use xlink:href=\"#DejaVuSans-4d\"/>\r\n     <use x=\"86.279297\" xlink:href=\"#DejaVuSans-6f\"/>\r\n     <use x=\"147.460938\" xlink:href=\"#DejaVuSans-73\"/>\r\n     <use x=\"199.560547\" xlink:href=\"#DejaVuSans-74\"/>\r\n     <use x=\"238.769531\" xlink:href=\"#DejaVuSans-20\"/>\r\n     <use x=\"270.556641\" xlink:href=\"#DejaVuSans-49\"/>\r\n     <use x=\"300.048828\" xlink:href=\"#DejaVuSans-6d\"/>\r\n     <use x=\"397.460938\" xlink:href=\"#DejaVuSans-70\"/>\r\n     <use x=\"460.9375\" xlink:href=\"#DejaVuSans-6f\"/>\r\n     <use x=\"522.119141\" xlink:href=\"#DejaVuSans-72\"/>\r\n     <use x=\"563.232422\" xlink:href=\"#DejaVuSans-74\"/>\r\n     <use x=\"602.441406\" xlink:href=\"#DejaVuSans-61\"/>\r\n     <use x=\"663.720703\" xlink:href=\"#DejaVuSans-6e\"/>\r\n     <use x=\"727.099609\" xlink:href=\"#DejaVuSans-74\"/>\r\n     <use x=\"766.308594\" xlink:href=\"#DejaVuSans-20\"/>\r\n     <use x=\"798.095703\" xlink:href=\"#DejaVuSans-46\"/>\r\n     <use x=\"850.115234\" xlink:href=\"#DejaVuSans-65\"/>\r\n     <use x=\"911.638672\" xlink:href=\"#DejaVuSans-61\"/>\r\n     <use x=\"972.917969\" xlink:href=\"#DejaVuSans-74\"/>\r\n     <use x=\"1012.126953\" xlink:href=\"#DejaVuSans-75\"/>\r\n     <use x=\"1075.505859\" xlink:href=\"#DejaVuSans-72\"/>\r\n     <use x=\"1114.369141\" xlink:href=\"#DejaVuSans-65\"/>\r\n     <use x=\"1175.892578\" xlink:href=\"#DejaVuSans-73\"/>\r\n     <use x=\"1227.992188\" xlink:href=\"#DejaVuSans-20\"/>\r\n     <use x=\"1259.779297\" xlink:href=\"#DejaVuSans-6f\"/>\r\n     <use x=\"1320.960938\" xlink:href=\"#DejaVuSans-66\"/>\r\n     <use x=\"1356.166016\" xlink:href=\"#DejaVuSans-20\"/>\r\n     <use x=\"1387.953125\" xlink:href=\"#DejaVuSans-61\"/>\r\n     <use x=\"1449.232422\" xlink:href=\"#DejaVuSans-20\"/>\r\n     <use x=\"1481.019531\" xlink:href=\"#DejaVuSans-4d\"/>\r\n     <use x=\"1567.298828\" xlink:href=\"#DejaVuSans-6f\"/>\r\n     <use x=\"1628.480469\" xlink:href=\"#DejaVuSans-76\"/>\r\n     <use x=\"1687.660156\" xlink:href=\"#DejaVuSans-69\"/>\r\n     <use x=\"1715.443359\" xlink:href=\"#DejaVuSans-65\"/>\r\n     <use x=\"1776.966797\" xlink:href=\"#DejaVuSans-20\"/>\r\n     <use x=\"1808.753906\" xlink:href=\"#DejaVuSans-54\"/>\r\n     <use x=\"1869.837891\" xlink:href=\"#DejaVuSans-68\"/>\r\n     <use x=\"1933.216797\" xlink:href=\"#DejaVuSans-61\"/>\r\n     <use x=\"1994.496094\" xlink:href=\"#DejaVuSans-74\"/>\r\n     <use x=\"2033.705078\" xlink:href=\"#DejaVuSans-20\"/>\r\n     <use x=\"2065.492188\" xlink:href=\"#DejaVuSans-44\"/>\r\n     <use x=\"2142.494141\" xlink:href=\"#DejaVuSans-65\"/>\r\n     <use x=\"2204.017578\" xlink:href=\"#DejaVuSans-74\"/>\r\n     <use x=\"2243.226562\" xlink:href=\"#DejaVuSans-65\"/>\r\n     <use x=\"2304.75\" xlink:href=\"#DejaVuSans-72\"/>\r\n     <use x=\"2344.113281\" xlink:href=\"#DejaVuSans-6d\"/>\r\n     <use x=\"2441.525391\" xlink:href=\"#DejaVuSans-69\"/>\r\n     <use x=\"2469.308594\" xlink:href=\"#DejaVuSans-6e\"/>\r\n     <use x=\"2532.6875\" xlink:href=\"#DejaVuSans-65\"/>\r\n     <use x=\"2594.210938\" xlink:href=\"#DejaVuSans-73\"/>\r\n     <use x=\"2646.310547\" xlink:href=\"#DejaVuSans-20\"/>\r\n     <use x=\"2678.097656\" xlink:href=\"#DejaVuSans-69\"/>\r\n     <use x=\"2705.880859\" xlink:href=\"#DejaVuSans-66\"/>\r\n     <use x=\"2741.085938\" xlink:href=\"#DejaVuSans-20\"/>\r\n     <use x=\"2772.873047\" xlink:href=\"#DejaVuSans-49\"/>\r\n     <use x=\"2802.365234\" xlink:href=\"#DejaVuSans-74\"/>\r\n     <use x=\"2841.574219\" xlink:href=\"#DejaVuSans-20\"/>\r\n     <use x=\"2873.361328\" xlink:href=\"#DejaVuSans-47\"/>\r\n     <use x=\"2950.851562\" xlink:href=\"#DejaVuSans-65\"/>\r\n     <use x=\"3012.375\" xlink:href=\"#DejaVuSans-74\"/>\r\n     <use x=\"3051.583984\" xlink:href=\"#DejaVuSans-73\"/>\r\n     <use x=\"3103.683594\" xlink:href=\"#DejaVuSans-20\"/>\r\n     <use x=\"3135.470703\" xlink:href=\"#DejaVuSans-4c\"/>\r\n     <use x=\"3191.183594\" xlink:href=\"#DejaVuSans-69\"/>\r\n     <use x=\"3218.966797\" xlink:href=\"#DejaVuSans-73\"/>\r\n     <use x=\"3271.066406\" xlink:href=\"#DejaVuSans-74\"/>\r\n     <use x=\"3310.275391\" xlink:href=\"#DejaVuSans-65\"/>\r\n     <use x=\"3371.798828\" xlink:href=\"#DejaVuSans-64\"/>\r\n     <use x=\"3435.275391\" xlink:href=\"#DejaVuSans-20\"/>\r\n     <use x=\"3467.0625\" xlink:href=\"#DejaVuSans-6f\"/>\r\n     <use x=\"3528.244141\" xlink:href=\"#DejaVuSans-6e\"/>\r\n     <use x=\"3591.623047\" xlink:href=\"#DejaVuSans-20\"/>\r\n     <use x=\"3623.410156\" xlink:href=\"#DejaVuSans-4e\"/>\r\n     <use x=\"3698.214844\" xlink:href=\"#DejaVuSans-65\"/>\r\n     <use x=\"3759.738281\" xlink:href=\"#DejaVuSans-74\"/>\r\n     <use x=\"3798.947266\" xlink:href=\"#DejaVuSans-66\"/>\r\n     <use x=\"3834.152344\" xlink:href=\"#DejaVuSans-6c\"/>\r\n     <use x=\"3861.935547\" xlink:href=\"#DejaVuSans-69\"/>\r\n     <use x=\"3889.71875\" xlink:href=\"#DejaVuSans-78\"/>\r\n    </g>\r\n   </g>\r\n  </g>\r\n </g>\r\n <defs>\r\n  <clipPath id=\"p5a956c419f\">\r\n   <rect height=\"217.44\" width=\"334.8\" x=\"95.592187\" y=\"22.318125\"/>\r\n  </clipPath>\r\n </defs>\r\n</svg>\r\n",
      "image/png": "[encoded data removed]"
     },
     "metadata": {
      "needs_background": "light"
     }
    }
   ],
   "source": [
    "# Random Forest Model Tope 10 Features\n",
    "feat_imp.tail(10).plot(kind = 'barh')\n",
    "plt.xlabel('Reduction in Gini Impurity')\n",
    "plt.ylabel('Feature Names')\n",
    "plt.title('Most Important Features of a Movie That Determines if It Gets Listed on Netflix')\n",
    "plt.show()"
   ]
  },
  {
   "source": [],
   "cell_type": "markdown",
   "metadata": {}
  }
 ]
}